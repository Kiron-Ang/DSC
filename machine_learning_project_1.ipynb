{
  "nbformat": 4,
  "nbformat_minor": 0,
  "metadata": {
    "colab": {
      "provenance": [],
      "authorship_tag": "ABX9TyO6FOENKjilpkTBbxx0bINP",
      "include_colab_link": true
    },
    "kernelspec": {
      "name": "python3",
      "display_name": "Python 3"
    },
    "language_info": {
      "name": "python"
    }
  },
  "cells": [
    {
      "cell_type": "markdown",
      "metadata": {
        "id": "view-in-github",
        "colab_type": "text"
      },
      "source": [
        "<a href=\"https://colab.research.google.com/github/Kiron-Ang/DSC/blob/main/machine_learning_project_1.ipynb\" target=\"_parent\"><img src=\"https://colab.research.google.com/assets/colab-badge.svg\" alt=\"Open In Colab\"/></a>"
      ]
    },
    {
      "cell_type": "code",
      "source": [
        "# Output this hosted runtime's Python version\n",
        "!python -V\n",
        "\n",
        "# Install ElevenLabs Python Library: github.com/elevenlabs/elevenlabs-python\n",
        "!pip install -U elevenlabs > output.txt\n",
        "import elevenlabs\n",
        "print(\"elevenlabs\", elevenlabs.__version__)"
      ],
      "metadata": {
        "colab": {
          "base_uri": "https://localhost:8080/"
        },
        "id": "ZSrpObjpo-aN",
        "outputId": "99574fcf-012a-4eed-e742-960e5ce6b8c3"
      },
      "execution_count": 1,
      "outputs": [
        {
          "output_type": "stream",
          "name": "stdout",
          "text": [
            "Python 3.10.12\n",
            "elevenlabs 1.9.0\n"
          ]
        }
      ]
    },
    {
      "cell_type": "code",
      "source": [
        "client = elevenlabs.client.ElevenLabs(\n",
        "    # Create an API key after signing up at elevenlabs.io\n",
        "    api_key = next(open(\"api_key.txt\"))\n",
        ")\n",
        "\n",
        "clone = client.clone(\n",
        "    name = \"KIRON\",\n",
        "    files = [],\n",
        "    description = \"KIRON\"\n",
        ")\n",
        "\n",
        "#generate = client.generate()\n",
        "\n",
        "#elevenlabs.play(generate)"
      ],
      "metadata": {
        "id": "vsA-OWxSoN81"
      },
      "execution_count": 5,
      "outputs": []
    }
  ]
}