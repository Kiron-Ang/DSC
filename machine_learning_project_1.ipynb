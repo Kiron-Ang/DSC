{
  "nbformat": 4,
  "nbformat_minor": 0,
  "metadata": {
    "colab": {
      "provenance": [],
      "authorship_tag": "ABX9TyPQ2DVVOlkiSb1qPteaJXu+"
    },
    "kernelspec": {
      "name": "python3",
      "display_name": "Python 3"
    },
    "language_info": {
      "name": "python"
    }
  },
  "cells": [
    {
      "cell_type": "markdown",
      "source": [
        "# Using ElevenLabs' Speech Synthesis to Communicate Email Messages in a Familiar Voice for an Elderly Client\n",
        "Kiron Ang\n",
        "\n",
        "---"
      ],
      "metadata": {
        "id": "oZFhaxcrhGKV"
      }
    },
    {
      "cell_type": "markdown",
      "source": [
        "## References\n",
        "1. https://elevenlabs.io"
      ],
      "metadata": {
        "id": "TMeRjKRAiAou"
      }
    }
  ]
}