{
  "nbformat": 4,
  "nbformat_minor": 0,
  "metadata": {
    "colab": {
      "provenance": [],
      "authorship_tag": "ABX9TyPYoIY22VLbo9TDxMXdS5am",
      "include_colab_link": true
    },
    "kernelspec": {
      "name": "python3",
      "display_name": "Python 3"
    },
    "language_info": {
      "name": "python"
    }
  },
  "cells": [
    {
      "cell_type": "markdown",
      "metadata": {
        "id": "view-in-github",
        "colab_type": "text"
      },
      "source": [
        "<a href=\"https://colab.research.google.com/github/Kiron-Ang/DSC/blob/main/binf_3350_data_analysis.ipynb\" target=\"_parent\"><img src=\"https://colab.research.google.com/assets/colab-badge.svg\" alt=\"Open In Colab\"/></a>"
      ]
    },
    {
      "cell_type": "code",
      "execution_count": 1,
      "metadata": {
        "colab": {
          "base_uri": "https://localhost:8080/"
        },
        "id": "KFWyUs_sRsou",
        "outputId": "694d2279-409c-40b8-e531-7329feff1789"
      },
      "outputs": [
        {
          "output_type": "stream",
          "name": "stdout",
          "text": [
            "Python 3.10.12\n"
          ]
        }
      ],
      "source": [
        "!python -V"
      ]
    },
    {
      "cell_type": "code",
      "source": [
        "import pandas as pd\n",
        "\n",
        "url_puerto_rican_population = (\n",
        "  \"https://github.com/Kiron-Ang/DSC/blob/main/binf_3350_puerto_rican_population.vcf?raw=true\"\n",
        ")\n",
        "puerto_rican_population = pd.read_csv(url_puerto_rican_population, sep=\"\\t\")\n",
        "\n",
        "url_other_populations = (\n",
        "  \"https://github.com/Kiron-Ang/DSC/blob/main/binf_3350_other_populations.vcf?raw=true\"\n",
        ")\n",
        "other_populations = pd.read_csv(url_other_populations, sep=\"\\t\")\n",
        "\n",
        "def print_preview(df, name):\n",
        "  print(f\"Preview of {name} dataframe:\")\n",
        "  print(df.head())\n",
        "  print(f\"Shape of {name} dataframe: {df.shape[0]} rows, {df.shape[1]} columns\")\n",
        "  print(\"\\n\" + \"-\"*50 + \"\\n\")\n",
        "\n",
        "print_preview(puerto_rican_population, \"Puerto Rican Population\")\n",
        "print_preview(other_populations, \"Other Populations\")"
      ],
      "metadata": {
        "colab": {
          "base_uri": "https://localhost:8080/"
        },
        "id": "_UgPY1pobAGe",
        "outputId": "98030a1e-f39d-42d4-ae9c-af03ea375828"
      },
      "execution_count": 2,
      "outputs": [
        {
          "output_type": "stream",
          "name": "stdout",
          "text": [
            "Preview of Puerto Rican Population dataframe:\n",
            "   #CHROM        POS                        ID REF ALT QUAL FILTER  \\\n",
            "0       1  146648224                 rs4950382   C   T    .   PASS   \n",
            "1       1  159802683  rs3795331;SNP1-158069307   G   A    .   PASS   \n",
            "2       1  161298126            SNP1-159564750   T   G    .   PASS   \n",
            "3       2   21397182                  rs506585   G   A    .   PASS   \n",
            "4       2   21415763             SNP2-21269268   G   A    .   PASS   \n",
            "\n",
            "                                          INFO FORMAT HG00551  ... HG01199  \\\n",
            "0    AC=1423;AF=0.309;AN=4604;set=Intersection     GT     0/0  ...     0/0   \n",
            "1     AC=218;AF=0.047;AN=4636;set=Intersection     GT     0/0  ...     0/0   \n",
            "2  AC=14;AF=3.046e-03;AN=4596;set=Intersection     GT     0/0  ...     0/0   \n",
            "3    AC=3795;AF=0.819;AN=4636;set=Intersection     GT     1/1  ...     1/1   \n",
            "4    AC=3440;AF=0.756;AN=4552;set=Intersection     GT     1/1  ...     1/1   \n",
            "\n",
            "  HG01204 HG01205 HG01206 HG01241 HG01242 HG01243 HG01247 HG01248 HG01249  \n",
            "0     0/0     0/0     0/0     1/0     1/0     1/1     1/0     0/0     0/0  \n",
            "1     1/0     0/0     0/0     0/0     0/0     0/0     0/0     0/0     0/0  \n",
            "2     0/0     0/0     0/0     0/0     0/0     0/0     0/0     0/0     ./.  \n",
            "3     1/1     1/1     1/1     1/1     1/0     1/0     1/0     1/1     1/0  \n",
            "4     1/1     1/1     1/1     1/1     1/0     1/0     1/0     1/1     1/0  \n",
            "\n",
            "[5 rows x 109 columns]\n",
            "Shape of Puerto Rican Population dataframe: 42 rows, 109 columns\n",
            "\n",
            "--------------------------------------------------\n",
            "\n",
            "Preview of Other Populations dataframe:\n",
            "   #CHROM        POS                        ID REF ALT QUAL FILTER  \\\n",
            "0       1  146648224                 rs4950382   C   T    .   PASS   \n",
            "1       1  159802683  rs3795331;SNP1-158069307   G   A    .   PASS   \n",
            "2       1  161298126            SNP1-159564750   T   G    .   PASS   \n",
            "3       2   21397182                  rs506585   G   A    .   PASS   \n",
            "4       2   21415763             SNP2-21269268   G   A    .   PASS   \n",
            "\n",
            "                                          INFO FORMAT HG00096  ... NA21494  \\\n",
            "0    AC=1423;AF=0.309;AN=4604;set=Intersection     GT     1/0  ...     1/1   \n",
            "1     AC=218;AF=0.047;AN=4636;set=Intersection     GT     0/0  ...     0/0   \n",
            "2  AC=14;AF=3.046e-03;AN=4596;set=Intersection     GT     0/0  ...     0/0   \n",
            "3    AC=3795;AF=0.819;AN=4636;set=Intersection     GT     1/1  ...     1/1   \n",
            "4    AC=3440;AF=0.756;AN=4552;set=Intersection     GT     1/1  ...     1/0   \n",
            "\n",
            "  NA21514 NA21525 NA21527 NA21581 NA21601 NA21608 NA21636 NA21648 NA21718  \n",
            "0     1/0     1/1     0/0     1/1     ./.     1/0     0/0     0/0     0/0  \n",
            "1     0/0     0/0     0/0     0/0     0/0     0/0     0/0     0/0     0/0  \n",
            "2     0/0     0/0     0/0     0/0     0/0     0/0     0/0     0/0     0/0  \n",
            "3     1/1     1/0     1/0     1/0     1/1     1/1     1/1     1/1     1/0  \n",
            "4     1/1     0/0     1/0     1/0     1/1     1/0     1/0     1/1     0/0  \n",
            "\n",
            "[5 rows x 2227 columns]\n",
            "Shape of Other Populations dataframe: 42 rows, 2227 columns\n",
            "\n",
            "--------------------------------------------------\n",
            "\n"
          ]
        }
      ]
    },
    {
      "cell_type": "code",
      "source": [
        "assert len(puerto_rican_population) == len(other_populations), \\\n",
        "    f\"Length mismatch: puerto_rican_population has {len(puerto_rican_population)} rows, \" \\\n",
        "    f\"but other_populations has {len(other_populations)} rows.\""
      ],
      "metadata": {
        "id": "3Yuhp7OIIJed"
      },
      "execution_count": 3,
      "outputs": []
    },
    {
      "cell_type": "code",
      "source": [
        "def count_categories_in_population(df, start_index=9):\n",
        "    \"\"\"\n",
        "    Counts the occurrences of categories (\"0/0\", \"1/0\" or \"0/1\", \"1/1\") for each person in the DataFrame.\n",
        "\n",
        "    Args:\n",
        "    - df (pd.DataFrame): DataFrame containing the population data.\n",
        "    - start_index (int): Index to start iterating over for each person (default is 9).\n",
        "\n",
        "    Returns:\n",
        "    - list: A list of lists, each containing counts for \"none\", \"one\", and \"two\" for each person.\n",
        "    \"\"\"\n",
        "    # Initialize an empty list to hold the nested lists for each individual\n",
        "    nested_list = []\n",
        "\n",
        "    # Iterate through each row in the dataframe\n",
        "    for index, row in df.iterrows():\n",
        "        # Initialize counters for each possible category (none, one, two)\n",
        "        people_with_none = 0\n",
        "        people_with_one = 0\n",
        "        people_with_two = 0\n",
        "\n",
        "        # Iterate through the values starting from the specified start index for each person\n",
        "        for value in row[start_index:]:\n",
        "            # Check if the value is \"0/0\" and increment the people_with_none counter\n",
        "            if value == \"0/0\":\n",
        "                people_with_none += 1\n",
        "            # Check if the value is either \"1/0\" or \"0/1\" and increment the people_with_one counter\n",
        "            elif value == \"1/0\" or value == \"0/1\":\n",
        "                people_with_one += 1\n",
        "            # Check if the value is \"1/1\" and increment the people_with_two counter\n",
        "            elif value == \"1/1\":\n",
        "                people_with_two += 1\n",
        "\n",
        "        # Append the counts of \"none\", \"one\", and \"two\" to the nested list\n",
        "        nested_list.append([people_with_none, people_with_one, people_with_two])\n",
        "\n",
        "    # Return the final nested list containing the counts for each person\n",
        "    return nested_list\n",
        "\n",
        "# Call the function `count_categories_in_population` to process the 'puerto_rican_population' DataFrame\n",
        "# and store the results in the `puerto_rican_nested_list`\n",
        "puerto_rican_nested_list = count_categories_in_population(puerto_rican_population)\n",
        "\n",
        "# Call the function `count_categories_in_population` to process the 'other_populations'\n",
        "# and store the results in the `other_populations_nested_list`\n",
        "other_populations_nested_list = count_categories_in_population(other_populations)\n",
        "\n",
        "# Display the results for the Puerto Rican population categories\n",
        "print(\"Puerto Rican Population Counts (None, One, Two):\")\n",
        "print(puerto_rican_nested_list)\n",
        "\n",
        "# Display the results for the other population categories\n",
        "print(\"\\nOther Populations Counts (None, One, Two):\")\n",
        "print(other_populations_nested_list)"
      ],
      "metadata": {
        "colab": {
          "base_uri": "https://localhost:8080/"
        },
        "id": "R7NgDgEOP6qJ",
        "outputId": "1565e481-0d97-4dc8-a8e5-d58e39ba7dcf"
      },
      "execution_count": 5,
      "outputs": [
        {
          "output_type": "stream",
          "name": "stdout",
          "text": [
            "Puerto Rican Population Counts (None, One, Two):\n",
            "[[50, 40, 9], [98, 2, 0], [99, 0, 0], [3, 32, 65], [4, 28, 65], [99, 1, 0], [29, 43, 28], [99, 1, 0], [10, 49, 41], [100, 0, 0], [100, 0, 0], [10, 37, 53], [75, 24, 1], [99, 0, 0], [67, 28, 4], [95, 4, 0], [2, 25, 72], [28, 48, 24], [52, 42, 6], [12, 51, 37], [91, 8, 1], [26, 52, 22], [96, 4, 0], [97, 3, 0], [41, 49, 10], [100, 0, 0], [92, 8, 0], [14, 41, 43], [100, 0, 0], [59, 37, 4], [91, 9, 0], [46, 43, 11], [25, 42, 33], [41, 43, 16], [12, 52, 36], [98, 2, 0], [31, 46, 22], [52, 39, 9], [76, 21, 3], [16, 45, 38], [53, 38, 9], [76, 23, 1]]\n",
            "\n",
            "Other Populations Counts (None, One, Two):\n",
            "[[1064, 913, 226], [2016, 188, 14], [2185, 14, 0], [116, 571, 1531], [236, 604, 1339], [2106, 104, 8], [636, 1072, 510], [2102, 106, 8], [198, 562, 1281], [2193, 21, 1], [2209, 9, 0], [762, 717, 738], [1573, 526, 118], [2214, 2, 0], [1695, 457, 59], [2093, 79, 0], [189, 582, 1432], [666, 1047, 504], [1333, 731, 152], [271, 949, 997], [1921, 279, 17], [689, 1032, 464], [2113, 99, 5], [2148, 69, 0], [747, 844, 422], [2156, 58, 2], [1761, 401, 53], [122, 705, 1375], [2199, 14, 0], [1222, 823, 172], [2133, 76, 1], [895, 878, 442], [685, 1048, 481], [775, 1056, 387], [778, 861, 578], [2192, 25, 0], [654, 1036, 490], [879, 927, 404], [1478, 511, 229], [622, 911, 629], [1335, 743, 139], [1969, 235, 14]]\n"
          ]
        }
      ]
    },
    {
      "cell_type": "code",
      "source": [
        "# Assert that the two nested lists have the same length\n",
        "assert len(puerto_rican_nested_list) == len(other_populations_nested_list), \\\n",
        "    f\"Length mismatch: Puerto Rican list has {len(puerto_rican_nested_list)} items, \" \\\n",
        "    f\"while Other Populations list has {len(other_populations_nested_list)} items.\""
      ],
      "metadata": {
        "id": "X399LTJnf4wy"
      },
      "execution_count": 12,
      "outputs": []
    },
    {
      "cell_type": "code",
      "source": [
        "# Initialize an empty list to hold the contingency table data\n",
        "contingency_table_list = []\n",
        "print(\"Initializing empty list for the contingency table.\")\n",
        "\n",
        "# Loop through the range of numbers from 0 to the length of puerto_rican_nested_list\n",
        "for number in range(0, len(puerto_rican_nested_list)):\n",
        "    print(f\"Processing element {number + 1}/{len(puerto_rican_nested_list)}...\")\n",
        "\n",
        "    # Create a temporary list with the first elements of puerto_rican_nested_list and other_populations_nested_list\n",
        "    temp_list = [puerto_rican_nested_list[number], other_populations_nested_list[number]]\n",
        "    print(f\"Created temporary list: {temp_list}\")\n",
        "\n",
        "    # Append the temporary list to the contingency_table_list\n",
        "    contingency_table_list.append(temp_list)\n",
        "    print(f\"Appended temporary list to the contingency table. Current table size: {len(contingency_table_list)}\")\n",
        "\n",
        "# Print the final contingency table list\n",
        "print(\"\\nFinal list of contingency tables:\")\n",
        "print(contingency_table_list)"
      ],
      "metadata": {
        "colab": {
          "base_uri": "https://localhost:8080/"
        },
        "id": "ZSaECQtzfB4m",
        "outputId": "3a051be4-d855-4cc6-e316-bdda0489b070"
      },
      "execution_count": 20,
      "outputs": [
        {
          "output_type": "stream",
          "name": "stdout",
          "text": [
            "Initializing empty list for the contingency table.\n",
            "Processing element 1/42...\n",
            "Created temporary list: [[50, 40, 9], [1064, 913, 226]]\n",
            "Appended temporary list to the contingency table. Current table size: 1\n",
            "Processing element 2/42...\n",
            "Created temporary list: [[98, 2, 0], [2016, 188, 14]]\n",
            "Appended temporary list to the contingency table. Current table size: 2\n",
            "Processing element 3/42...\n",
            "Created temporary list: [[99, 0, 0], [2185, 14, 0]]\n",
            "Appended temporary list to the contingency table. Current table size: 3\n",
            "Processing element 4/42...\n",
            "Created temporary list: [[3, 32, 65], [116, 571, 1531]]\n",
            "Appended temporary list to the contingency table. Current table size: 4\n",
            "Processing element 5/42...\n",
            "Created temporary list: [[4, 28, 65], [236, 604, 1339]]\n",
            "Appended temporary list to the contingency table. Current table size: 5\n",
            "Processing element 6/42...\n",
            "Created temporary list: [[99, 1, 0], [2106, 104, 8]]\n",
            "Appended temporary list to the contingency table. Current table size: 6\n",
            "Processing element 7/42...\n",
            "Created temporary list: [[29, 43, 28], [636, 1072, 510]]\n",
            "Appended temporary list to the contingency table. Current table size: 7\n",
            "Processing element 8/42...\n",
            "Created temporary list: [[99, 1, 0], [2102, 106, 8]]\n",
            "Appended temporary list to the contingency table. Current table size: 8\n",
            "Processing element 9/42...\n",
            "Created temporary list: [[10, 49, 41], [198, 562, 1281]]\n",
            "Appended temporary list to the contingency table. Current table size: 9\n",
            "Processing element 10/42...\n",
            "Created temporary list: [[100, 0, 0], [2193, 21, 1]]\n",
            "Appended temporary list to the contingency table. Current table size: 10\n",
            "Processing element 11/42...\n",
            "Created temporary list: [[100, 0, 0], [2209, 9, 0]]\n",
            "Appended temporary list to the contingency table. Current table size: 11\n",
            "Processing element 12/42...\n",
            "Created temporary list: [[10, 37, 53], [762, 717, 738]]\n",
            "Appended temporary list to the contingency table. Current table size: 12\n",
            "Processing element 13/42...\n",
            "Created temporary list: [[75, 24, 1], [1573, 526, 118]]\n",
            "Appended temporary list to the contingency table. Current table size: 13\n",
            "Processing element 14/42...\n",
            "Created temporary list: [[99, 0, 0], [2214, 2, 0]]\n",
            "Appended temporary list to the contingency table. Current table size: 14\n",
            "Processing element 15/42...\n",
            "Created temporary list: [[67, 28, 4], [1695, 457, 59]]\n",
            "Appended temporary list to the contingency table. Current table size: 15\n",
            "Processing element 16/42...\n",
            "Created temporary list: [[95, 4, 0], [2093, 79, 0]]\n",
            "Appended temporary list to the contingency table. Current table size: 16\n",
            "Processing element 17/42...\n",
            "Created temporary list: [[2, 25, 72], [189, 582, 1432]]\n",
            "Appended temporary list to the contingency table. Current table size: 17\n",
            "Processing element 18/42...\n",
            "Created temporary list: [[28, 48, 24], [666, 1047, 504]]\n",
            "Appended temporary list to the contingency table. Current table size: 18\n",
            "Processing element 19/42...\n",
            "Created temporary list: [[52, 42, 6], [1333, 731, 152]]\n",
            "Appended temporary list to the contingency table. Current table size: 19\n",
            "Processing element 20/42...\n",
            "Created temporary list: [[12, 51, 37], [271, 949, 997]]\n",
            "Appended temporary list to the contingency table. Current table size: 20\n",
            "Processing element 21/42...\n",
            "Created temporary list: [[91, 8, 1], [1921, 279, 17]]\n",
            "Appended temporary list to the contingency table. Current table size: 21\n",
            "Processing element 22/42...\n",
            "Created temporary list: [[26, 52, 22], [689, 1032, 464]]\n",
            "Appended temporary list to the contingency table. Current table size: 22\n",
            "Processing element 23/42...\n",
            "Created temporary list: [[96, 4, 0], [2113, 99, 5]]\n",
            "Appended temporary list to the contingency table. Current table size: 23\n",
            "Processing element 24/42...\n",
            "Created temporary list: [[97, 3, 0], [2148, 69, 0]]\n",
            "Appended temporary list to the contingency table. Current table size: 24\n",
            "Processing element 25/42...\n",
            "Created temporary list: [[41, 49, 10], [747, 844, 422]]\n",
            "Appended temporary list to the contingency table. Current table size: 25\n",
            "Processing element 26/42...\n",
            "Created temporary list: [[100, 0, 0], [2156, 58, 2]]\n",
            "Appended temporary list to the contingency table. Current table size: 26\n",
            "Processing element 27/42...\n",
            "Created temporary list: [[92, 8, 0], [1761, 401, 53]]\n",
            "Appended temporary list to the contingency table. Current table size: 27\n",
            "Processing element 28/42...\n",
            "Created temporary list: [[14, 41, 43], [122, 705, 1375]]\n",
            "Appended temporary list to the contingency table. Current table size: 28\n",
            "Processing element 29/42...\n",
            "Created temporary list: [[100, 0, 0], [2199, 14, 0]]\n",
            "Appended temporary list to the contingency table. Current table size: 29\n",
            "Processing element 30/42...\n",
            "Created temporary list: [[59, 37, 4], [1222, 823, 172]]\n",
            "Appended temporary list to the contingency table. Current table size: 30\n",
            "Processing element 31/42...\n",
            "Created temporary list: [[91, 9, 0], [2133, 76, 1]]\n",
            "Appended temporary list to the contingency table. Current table size: 31\n",
            "Processing element 32/42...\n",
            "Created temporary list: [[46, 43, 11], [895, 878, 442]]\n",
            "Appended temporary list to the contingency table. Current table size: 32\n",
            "Processing element 33/42...\n",
            "Created temporary list: [[25, 42, 33], [685, 1048, 481]]\n",
            "Appended temporary list to the contingency table. Current table size: 33\n",
            "Processing element 34/42...\n",
            "Created temporary list: [[41, 43, 16], [775, 1056, 387]]\n",
            "Appended temporary list to the contingency table. Current table size: 34\n",
            "Processing element 35/42...\n",
            "Created temporary list: [[12, 52, 36], [778, 861, 578]]\n",
            "Appended temporary list to the contingency table. Current table size: 35\n",
            "Processing element 36/42...\n",
            "Created temporary list: [[98, 2, 0], [2192, 25, 0]]\n",
            "Appended temporary list to the contingency table. Current table size: 36\n",
            "Processing element 37/42...\n",
            "Created temporary list: [[31, 46, 22], [654, 1036, 490]]\n",
            "Appended temporary list to the contingency table. Current table size: 37\n",
            "Processing element 38/42...\n",
            "Created temporary list: [[52, 39, 9], [879, 927, 404]]\n",
            "Appended temporary list to the contingency table. Current table size: 38\n",
            "Processing element 39/42...\n",
            "Created temporary list: [[76, 21, 3], [1478, 511, 229]]\n",
            "Appended temporary list to the contingency table. Current table size: 39\n",
            "Processing element 40/42...\n",
            "Created temporary list: [[16, 45, 38], [622, 911, 629]]\n",
            "Appended temporary list to the contingency table. Current table size: 40\n",
            "Processing element 41/42...\n",
            "Created temporary list: [[53, 38, 9], [1335, 743, 139]]\n",
            "Appended temporary list to the contingency table. Current table size: 41\n",
            "Processing element 42/42...\n",
            "Created temporary list: [[76, 23, 1], [1969, 235, 14]]\n",
            "Appended temporary list to the contingency table. Current table size: 42\n",
            "\n",
            "Final list of contingency tables:\n",
            "[[[50, 40, 9], [1064, 913, 226]], [[98, 2, 0], [2016, 188, 14]], [[99, 0, 0], [2185, 14, 0]], [[3, 32, 65], [116, 571, 1531]], [[4, 28, 65], [236, 604, 1339]], [[99, 1, 0], [2106, 104, 8]], [[29, 43, 28], [636, 1072, 510]], [[99, 1, 0], [2102, 106, 8]], [[10, 49, 41], [198, 562, 1281]], [[100, 0, 0], [2193, 21, 1]], [[100, 0, 0], [2209, 9, 0]], [[10, 37, 53], [762, 717, 738]], [[75, 24, 1], [1573, 526, 118]], [[99, 0, 0], [2214, 2, 0]], [[67, 28, 4], [1695, 457, 59]], [[95, 4, 0], [2093, 79, 0]], [[2, 25, 72], [189, 582, 1432]], [[28, 48, 24], [666, 1047, 504]], [[52, 42, 6], [1333, 731, 152]], [[12, 51, 37], [271, 949, 997]], [[91, 8, 1], [1921, 279, 17]], [[26, 52, 22], [689, 1032, 464]], [[96, 4, 0], [2113, 99, 5]], [[97, 3, 0], [2148, 69, 0]], [[41, 49, 10], [747, 844, 422]], [[100, 0, 0], [2156, 58, 2]], [[92, 8, 0], [1761, 401, 53]], [[14, 41, 43], [122, 705, 1375]], [[100, 0, 0], [2199, 14, 0]], [[59, 37, 4], [1222, 823, 172]], [[91, 9, 0], [2133, 76, 1]], [[46, 43, 11], [895, 878, 442]], [[25, 42, 33], [685, 1048, 481]], [[41, 43, 16], [775, 1056, 387]], [[12, 52, 36], [778, 861, 578]], [[98, 2, 0], [2192, 25, 0]], [[31, 46, 22], [654, 1036, 490]], [[52, 39, 9], [879, 927, 404]], [[76, 21, 3], [1478, 511, 229]], [[16, 45, 38], [622, 911, 629]], [[53, 38, 9], [1335, 743, 139]], [[76, 23, 1], [1969, 235, 14]]]\n"
          ]
        }
      ]
    },
    {
      "cell_type": "code",
      "source": [
        "from scipy.stats import chi2_contingency\n",
        "for table in contingency_table_list:\n",
        "  results = chi2_contingency(table)\n",
        "  print(results)"
      ],
      "metadata": {
        "colab": {
          "base_uri": "https://localhost:8080/",
          "height": 400
        },
        "id": "6xKA5P4wbSQQ",
        "outputId": "5c43e79b-309b-4409-def5-91f8505c61eb"
      },
      "execution_count": 22,
      "outputs": [
        {
          "output_type": "stream",
          "name": "stdout",
          "text": [
            "Chi2ContingencyResult(statistic=0.2466835459383316, pvalue=0.8839614967823309, dof=2, expected_freq=array([[  47.90877498,   40.98479583,   10.10642919],\n",
            "       [1066.09122502,  912.01520417,  224.89357081]]))\n",
            "Chi2ContingencyResult(statistic=6.057122710633648, pvalue=0.04838519718536032, dof=2, expected_freq=array([[9.11993097e+01, 8.19672131e+00, 6.03968939e-01],\n",
            "       [2.02280069e+03, 1.81803279e+02, 1.33960311e+01]]))\n"
          ]
        },
        {
          "output_type": "error",
          "ename": "ValueError",
          "evalue": "The internally computed table of expected frequencies has a zero element at (0, 2).",
          "traceback": [
            "\u001b[0;31m---------------------------------------------------------------------------\u001b[0m",
            "\u001b[0;31mValueError\u001b[0m                                Traceback (most recent call last)",
            "\u001b[0;32m<ipython-input-22-a30be5a3229e>\u001b[0m in \u001b[0;36m<cell line: 2>\u001b[0;34m()\u001b[0m\n\u001b[1;32m      1\u001b[0m \u001b[0;32mfrom\u001b[0m \u001b[0mscipy\u001b[0m\u001b[0;34m.\u001b[0m\u001b[0mstats\u001b[0m \u001b[0;32mimport\u001b[0m \u001b[0mchi2_contingency\u001b[0m\u001b[0;34m\u001b[0m\u001b[0;34m\u001b[0m\u001b[0m\n\u001b[1;32m      2\u001b[0m \u001b[0;32mfor\u001b[0m \u001b[0mtable\u001b[0m \u001b[0;32min\u001b[0m \u001b[0mcontingency_table_list\u001b[0m\u001b[0;34m:\u001b[0m\u001b[0;34m\u001b[0m\u001b[0;34m\u001b[0m\u001b[0m\n\u001b[0;32m----> 3\u001b[0;31m   \u001b[0mresults\u001b[0m \u001b[0;34m=\u001b[0m \u001b[0mchi2_contingency\u001b[0m\u001b[0;34m(\u001b[0m\u001b[0mtable\u001b[0m\u001b[0;34m)\u001b[0m\u001b[0;34m\u001b[0m\u001b[0;34m\u001b[0m\u001b[0m\n\u001b[0m\u001b[1;32m      4\u001b[0m   \u001b[0mprint\u001b[0m\u001b[0;34m(\u001b[0m\u001b[0mresults\u001b[0m\u001b[0;34m)\u001b[0m\u001b[0;34m\u001b[0m\u001b[0;34m\u001b[0m\u001b[0m\n",
            "\u001b[0;32m/usr/local/lib/python3.10/dist-packages/scipy/stats/contingency.py\u001b[0m in \u001b[0;36mchi2_contingency\u001b[0;34m(observed, correction, lambda_)\u001b[0m\n\u001b[1;32m    338\u001b[0m         \u001b[0;31m# the exception message.\u001b[0m\u001b[0;34m\u001b[0m\u001b[0;34m\u001b[0m\u001b[0m\n\u001b[1;32m    339\u001b[0m         \u001b[0mzeropos\u001b[0m \u001b[0;34m=\u001b[0m \u001b[0mlist\u001b[0m\u001b[0;34m(\u001b[0m\u001b[0mzip\u001b[0m\u001b[0;34m(\u001b[0m\u001b[0;34m*\u001b[0m\u001b[0mnp\u001b[0m\u001b[0;34m.\u001b[0m\u001b[0mnonzero\u001b[0m\u001b[0;34m(\u001b[0m\u001b[0mexpected\u001b[0m \u001b[0;34m==\u001b[0m \u001b[0;36m0\u001b[0m\u001b[0;34m)\u001b[0m\u001b[0;34m)\u001b[0m\u001b[0;34m)\u001b[0m\u001b[0;34m[\u001b[0m\u001b[0;36m0\u001b[0m\u001b[0;34m]\u001b[0m\u001b[0;34m\u001b[0m\u001b[0;34m\u001b[0m\u001b[0m\n\u001b[0;32m--> 340\u001b[0;31m         raise ValueError(\"The internally computed table of expected \"\n\u001b[0m\u001b[1;32m    341\u001b[0m                          f\"frequencies has a zero element at {zeropos}.\")\n\u001b[1;32m    342\u001b[0m \u001b[0;34m\u001b[0m\u001b[0m\n",
            "\u001b[0;31mValueError\u001b[0m: The internally computed table of expected frequencies has a zero element at (0, 2)."
          ]
        }
      ]
    }
  ]
}