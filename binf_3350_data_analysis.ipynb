{
  "nbformat": 4,
  "nbformat_minor": 0,
  "metadata": {
    "colab": {
      "provenance": [],
      "authorship_tag": "ABX9TyME1PR6yLp06qi+QStM2NL9",
      "include_colab_link": true
    },
    "kernelspec": {
      "name": "python3",
      "display_name": "Python 3"
    },
    "language_info": {
      "name": "python"
    }
  },
  "cells": [
    {
      "cell_type": "markdown",
      "metadata": {
        "id": "view-in-github",
        "colab_type": "text"
      },
      "source": [
        "<a href=\"https://colab.research.google.com/github/Kiron-Ang/DSC/blob/main/binf_3350_data_analysis.ipynb\" target=\"_parent\"><img src=\"https://colab.research.google.com/assets/colab-badge.svg\" alt=\"Open In Colab\"/></a>"
      ]
    },
    {
      "cell_type": "code",
      "execution_count": 1,
      "metadata": {
        "colab": {
          "base_uri": "https://localhost:8080/"
        },
        "id": "KFWyUs_sRsou",
        "outputId": "c23d8e40-6820-433f-9c3b-8219807e426f"
      },
      "outputs": [
        {
          "output_type": "stream",
          "name": "stdout",
          "text": [
            "Python 3.10.12\n"
          ]
        }
      ],
      "source": [
        "!python -V"
      ]
    },
    {
      "cell_type": "code",
      "source": [
        "import pandas as pd\n",
        "\n",
        "url_other_populations = (\n",
        "  \"https://github.com/Kiron-Ang/DSC/blob/main/binf_3350_other_populations.vcf?raw=true\"\n",
        ")\n",
        "other_populations = pd.read_csv(url_other_populations, sep=\"\\t\")\n",
        "\n",
        "url_puerto_rican_population = (\n",
        "  \"https://github.com/Kiron-Ang/DSC/blob/main/binf_3350_puerto_rican_population.vcf?raw=true\"\n",
        ")\n",
        "puerto_rican_population = pd.read_csv(url_puerto_rican_population, sep=\"\\t\")\n",
        "\n",
        "def print_preview(df, name):\n",
        "  print(f\"Preview of {name} dataframe:\")\n",
        "  print(df.head())\n",
        "  print(f\"Shape of {name} dataframe: {df.shape[0]} rows, {df.shape[1]} columns\")\n",
        "  print(\"\\n\" + \"-\"*50 + \"\\n\")\n",
        "\n",
        "print_preview(other_populations, \"Other Populations\")\n",
        "print_preview(puerto_rican_population, \"Puerto Rican Population\")"
      ],
      "metadata": {
        "colab": {
          "base_uri": "https://localhost:8080/"
        },
        "id": "_UgPY1pobAGe",
        "outputId": "bb3f529c-fa16-4685-a1ce-b4b1244d7795"
      },
      "execution_count": 10,
      "outputs": [
        {
          "output_type": "stream",
          "name": "stdout",
          "text": [
            "Preview of Other Populations dataframe:\n",
            "   #CHROM        POS                        ID REF ALT QUAL FILTER  \\\n",
            "0       1  146648224                 rs4950382   C   T    .   PASS   \n",
            "1       1  159802683  rs3795331;SNP1-158069307   G   A    .   PASS   \n",
            "2       1  161298126            SNP1-159564750   T   G    .   PASS   \n",
            "3       2   21397182                  rs506585   G   A    .   PASS   \n",
            "4       2   21415763             SNP2-21269268   G   A    .   PASS   \n",
            "\n",
            "                                          INFO FORMAT HG00096  ... NA21494  \\\n",
            "0    AC=1423;AF=0.309;AN=4604;set=Intersection     GT     1/0  ...     1/1   \n",
            "1     AC=218;AF=0.047;AN=4636;set=Intersection     GT     0/0  ...     0/0   \n",
            "2  AC=14;AF=3.046e-03;AN=4596;set=Intersection     GT     0/0  ...     0/0   \n",
            "3    AC=3795;AF=0.819;AN=4636;set=Intersection     GT     1/1  ...     1/1   \n",
            "4    AC=3440;AF=0.756;AN=4552;set=Intersection     GT     1/1  ...     1/0   \n",
            "\n",
            "  NA21514 NA21525 NA21527 NA21581 NA21601 NA21608 NA21636 NA21648 NA21718  \n",
            "0     1/0     1/1     0/0     1/1     ./.     1/0     0/0     0/0     0/0  \n",
            "1     0/0     0/0     0/0     0/0     0/0     0/0     0/0     0/0     0/0  \n",
            "2     0/0     0/0     0/0     0/0     0/0     0/0     0/0     0/0     0/0  \n",
            "3     1/1     1/0     1/0     1/0     1/1     1/1     1/1     1/1     1/0  \n",
            "4     1/1     0/0     1/0     1/0     1/1     1/0     1/0     1/1     0/0  \n",
            "\n",
            "[5 rows x 2227 columns]\n",
            "Shape of Other Populations dataframe: 42 rows, 2227 columns\n",
            "\n",
            "--------------------------------------------------\n",
            "\n",
            "Preview of Puerto Rican Population dataframe:\n",
            "   #CHROM        POS                        ID REF ALT QUAL FILTER  \\\n",
            "0       1  146648224                 rs4950382   C   T    .   PASS   \n",
            "1       1  159802683  rs3795331;SNP1-158069307   G   A    .   PASS   \n",
            "2       1  161298126            SNP1-159564750   T   G    .   PASS   \n",
            "3       2   21397182                  rs506585   G   A    .   PASS   \n",
            "4       2   21415763             SNP2-21269268   G   A    .   PASS   \n",
            "\n",
            "                                          INFO FORMAT HG00551  ... HG01199  \\\n",
            "0    AC=1423;AF=0.309;AN=4604;set=Intersection     GT     0/0  ...     0/0   \n",
            "1     AC=218;AF=0.047;AN=4636;set=Intersection     GT     0/0  ...     0/0   \n",
            "2  AC=14;AF=3.046e-03;AN=4596;set=Intersection     GT     0/0  ...     0/0   \n",
            "3    AC=3795;AF=0.819;AN=4636;set=Intersection     GT     1/1  ...     1/1   \n",
            "4    AC=3440;AF=0.756;AN=4552;set=Intersection     GT     1/1  ...     1/1   \n",
            "\n",
            "  HG01204 HG01205 HG01206 HG01241 HG01242 HG01243 HG01247 HG01248 HG01249  \n",
            "0     0/0     0/0     0/0     1/0     1/0     1/1     1/0     0/0     0/0  \n",
            "1     1/0     0/0     0/0     0/0     0/0     0/0     0/0     0/0     0/0  \n",
            "2     0/0     0/0     0/0     0/0     0/0     0/0     0/0     0/0     ./.  \n",
            "3     1/1     1/1     1/1     1/1     1/0     1/0     1/0     1/1     1/0  \n",
            "4     1/1     1/1     1/1     1/1     1/0     1/0     1/0     1/1     1/0  \n",
            "\n",
            "[5 rows x 109 columns]\n",
            "Shape of Puerto Rican Population dataframe: 42 rows, 109 columns\n",
            "\n",
            "--------------------------------------------------\n",
            "\n"
          ]
        }
      ]
    }
  ]
}