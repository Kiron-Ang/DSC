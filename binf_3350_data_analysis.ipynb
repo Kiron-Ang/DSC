{
  "nbformat": 4,
  "nbformat_minor": 0,
  "metadata": {
    "colab": {
      "provenance": [],
      "authorship_tag": "ABX9TyOzhgwIywu4NbAVFK7Zd79q",
      "include_colab_link": true
    },
    "kernelspec": {
      "name": "python3",
      "display_name": "Python 3"
    },
    "language_info": {
      "name": "python"
    }
  },
  "cells": [
    {
      "cell_type": "markdown",
      "metadata": {
        "id": "view-in-github",
        "colab_type": "text"
      },
      "source": [
        "<a href=\"https://colab.research.google.com/github/Kiron-Ang/DSC/blob/main/binf_3350_data_analysis.ipynb\" target=\"_parent\"><img src=\"https://colab.research.google.com/assets/colab-badge.svg\" alt=\"Open In Colab\"/></a>"
      ]
    },
    {
      "cell_type": "code",
      "execution_count": 1,
      "metadata": {
        "colab": {
          "base_uri": "https://localhost:8080/"
        },
        "id": "KFWyUs_sRsou",
        "outputId": "694d2279-409c-40b8-e531-7329feff1789"
      },
      "outputs": [
        {
          "output_type": "stream",
          "name": "stdout",
          "text": [
            "Python 3.10.12\n"
          ]
        }
      ],
      "source": [
        "!python -V"
      ]
    },
    {
      "cell_type": "code",
      "source": [
        "import pandas as pd\n",
        "\n",
        "url_puerto_rican_population = (\n",
        "  \"https://github.com/Kiron-Ang/DSC/blob/main/binf_3350_puerto_rican_population.vcf?raw=true\"\n",
        ")\n",
        "puerto_rican_population = pd.read_csv(url_puerto_rican_population, sep=\"\\t\")\n",
        "\n",
        "url_other_populations = (\n",
        "  \"https://github.com/Kiron-Ang/DSC/blob/main/binf_3350_other_populations.vcf?raw=true\"\n",
        ")\n",
        "other_populations = pd.read_csv(url_other_populations, sep=\"\\t\")\n",
        "\n",
        "def print_preview(df, name):\n",
        "  print(f\"Preview of {name} dataframe:\")\n",
        "  print(df.head())\n",
        "  print(f\"Shape of {name} dataframe: {df.shape[0]} rows, {df.shape[1]} columns\")\n",
        "  print(\"\\n\" + \"-\"*50 + \"\\n\")\n",
        "\n",
        "print_preview(puerto_rican_population, \"Puerto Rican Population\")\n",
        "print_preview(other_populations, \"Other Populations\")"
      ],
      "metadata": {
        "colab": {
          "base_uri": "https://localhost:8080/"
        },
        "id": "_UgPY1pobAGe",
        "outputId": "98030a1e-f39d-42d4-ae9c-af03ea375828"
      },
      "execution_count": 2,
      "outputs": [
        {
          "output_type": "stream",
          "name": "stdout",
          "text": [
            "Preview of Puerto Rican Population dataframe:\n",
            "   #CHROM        POS                        ID REF ALT QUAL FILTER  \\\n",
            "0       1  146648224                 rs4950382   C   T    .   PASS   \n",
            "1       1  159802683  rs3795331;SNP1-158069307   G   A    .   PASS   \n",
            "2       1  161298126            SNP1-159564750   T   G    .   PASS   \n",
            "3       2   21397182                  rs506585   G   A    .   PASS   \n",
            "4       2   21415763             SNP2-21269268   G   A    .   PASS   \n",
            "\n",
            "                                          INFO FORMAT HG00551  ... HG01199  \\\n",
            "0    AC=1423;AF=0.309;AN=4604;set=Intersection     GT     0/0  ...     0/0   \n",
            "1     AC=218;AF=0.047;AN=4636;set=Intersection     GT     0/0  ...     0/0   \n",
            "2  AC=14;AF=3.046e-03;AN=4596;set=Intersection     GT     0/0  ...     0/0   \n",
            "3    AC=3795;AF=0.819;AN=4636;set=Intersection     GT     1/1  ...     1/1   \n",
            "4    AC=3440;AF=0.756;AN=4552;set=Intersection     GT     1/1  ...     1/1   \n",
            "\n",
            "  HG01204 HG01205 HG01206 HG01241 HG01242 HG01243 HG01247 HG01248 HG01249  \n",
            "0     0/0     0/0     0/0     1/0     1/0     1/1     1/0     0/0     0/0  \n",
            "1     1/0     0/0     0/0     0/0     0/0     0/0     0/0     0/0     0/0  \n",
            "2     0/0     0/0     0/0     0/0     0/0     0/0     0/0     0/0     ./.  \n",
            "3     1/1     1/1     1/1     1/1     1/0     1/0     1/0     1/1     1/0  \n",
            "4     1/1     1/1     1/1     1/1     1/0     1/0     1/0     1/1     1/0  \n",
            "\n",
            "[5 rows x 109 columns]\n",
            "Shape of Puerto Rican Population dataframe: 42 rows, 109 columns\n",
            "\n",
            "--------------------------------------------------\n",
            "\n",
            "Preview of Other Populations dataframe:\n",
            "   #CHROM        POS                        ID REF ALT QUAL FILTER  \\\n",
            "0       1  146648224                 rs4950382   C   T    .   PASS   \n",
            "1       1  159802683  rs3795331;SNP1-158069307   G   A    .   PASS   \n",
            "2       1  161298126            SNP1-159564750   T   G    .   PASS   \n",
            "3       2   21397182                  rs506585   G   A    .   PASS   \n",
            "4       2   21415763             SNP2-21269268   G   A    .   PASS   \n",
            "\n",
            "                                          INFO FORMAT HG00096  ... NA21494  \\\n",
            "0    AC=1423;AF=0.309;AN=4604;set=Intersection     GT     1/0  ...     1/1   \n",
            "1     AC=218;AF=0.047;AN=4636;set=Intersection     GT     0/0  ...     0/0   \n",
            "2  AC=14;AF=3.046e-03;AN=4596;set=Intersection     GT     0/0  ...     0/0   \n",
            "3    AC=3795;AF=0.819;AN=4636;set=Intersection     GT     1/1  ...     1/1   \n",
            "4    AC=3440;AF=0.756;AN=4552;set=Intersection     GT     1/1  ...     1/0   \n",
            "\n",
            "  NA21514 NA21525 NA21527 NA21581 NA21601 NA21608 NA21636 NA21648 NA21718  \n",
            "0     1/0     1/1     0/0     1/1     ./.     1/0     0/0     0/0     0/0  \n",
            "1     0/0     0/0     0/0     0/0     0/0     0/0     0/0     0/0     0/0  \n",
            "2     0/0     0/0     0/0     0/0     0/0     0/0     0/0     0/0     0/0  \n",
            "3     1/1     1/0     1/0     1/0     1/1     1/1     1/1     1/1     1/0  \n",
            "4     1/1     0/0     1/0     1/0     1/1     1/0     1/0     1/1     0/0  \n",
            "\n",
            "[5 rows x 2227 columns]\n",
            "Shape of Other Populations dataframe: 42 rows, 2227 columns\n",
            "\n",
            "--------------------------------------------------\n",
            "\n"
          ]
        }
      ]
    },
    {
      "cell_type": "code",
      "source": [
        "assert len(puerto_rican_population) == len(other_populations), \\\n",
        "    f\"Length mismatch: puerto_rican_population has {len(puerto_rican_population)} rows, \" \\\n",
        "    f\"but other_populations has {len(other_populations)} rows.\""
      ],
      "metadata": {
        "id": "3Yuhp7OIIJed"
      },
      "execution_count": 3,
      "outputs": []
    },
    {
      "cell_type": "code",
      "source": [
        "def count_categories_in_population(df, start_index=9):\n",
        "    \"\"\"\n",
        "    Counts the occurrences of categories (\"0/0\", \"1/0\" or \"0/1\", \"1/1\") for each person in the DataFrame.\n",
        "\n",
        "    Args:\n",
        "    - df (pd.DataFrame): DataFrame containing the population data.\n",
        "    - start_index (int): Index to start iterating over for each person (default is 9).\n",
        "\n",
        "    Returns:\n",
        "    - list: A list of lists, each containing counts for \"none\", \"one\", and \"two\" for each person.\n",
        "    \"\"\"\n",
        "    # Initialize an empty list to hold the nested lists for each individual\n",
        "    nested_list = []\n",
        "\n",
        "    # Iterate through each row in the dataframe\n",
        "    for index, row in df.iterrows():\n",
        "        # Initialize counters for each possible category (none, one, two)\n",
        "        people_with_none = 0\n",
        "        people_with_one = 0\n",
        "        people_with_two = 0\n",
        "\n",
        "        # Iterate through the values starting from the specified start index for each person\n",
        "        for value in row[start_index:]:\n",
        "            # Check if the value is \"0/0\" and increment the people_with_none counter\n",
        "            if value == \"0/0\":\n",
        "                people_with_none += 1\n",
        "            # Check if the value is either \"1/0\" or \"0/1\" and increment the people_with_one counter\n",
        "            elif value == \"1/0\" or value == \"0/1\":\n",
        "                people_with_one += 1\n",
        "            # Check if the value is \"1/1\" and increment the people_with_two counter\n",
        "            elif value == \"1/1\":\n",
        "                people_with_two += 1\n",
        "\n",
        "        # Append the counts of \"none\", \"one\", and \"two\" to the nested list\n",
        "        nested_list.append([people_with_none, people_with_one, people_with_two])\n",
        "\n",
        "    # Return the final nested list containing the counts for each person\n",
        "    return nested_list\n",
        "\n",
        "# Call the function `count_categories_in_population` to process the 'puerto_rican_population' DataFrame\n",
        "# and store the results in the `puerto_rican_nested_list`\n",
        "puerto_rican_nested_list = count_categories_in_population(puerto_rican_population)\n",
        "\n",
        "# Call the function `count_categories_in_population` to process the 'other_populations'\n",
        "# and store the results in the `other_populations_nested_list`\n",
        "other_populations_nested_list = count_categories_in_population(other_populations)\n",
        "\n",
        "# Display the results for the Puerto Rican population categories\n",
        "print(\"Puerto Rican Population Counts (None, One, Two):\")\n",
        "print(puerto_rican_nested_list)\n",
        "\n",
        "# Display the results for the other population categories\n",
        "print(\"\\nOther Populations Counts (None, One, Two):\")\n",
        "print(other_populations_nested_list)"
      ],
      "metadata": {
        "colab": {
          "base_uri": "https://localhost:8080/"
        },
        "id": "R7NgDgEOP6qJ",
        "outputId": "1565e481-0d97-4dc8-a8e5-d58e39ba7dcf"
      },
      "execution_count": 5,
      "outputs": [
        {
          "output_type": "stream",
          "name": "stdout",
          "text": [
            "Puerto Rican Population Counts (None, One, Two):\n",
            "[[50, 40, 9], [98, 2, 0], [99, 0, 0], [3, 32, 65], [4, 28, 65], [99, 1, 0], [29, 43, 28], [99, 1, 0], [10, 49, 41], [100, 0, 0], [100, 0, 0], [10, 37, 53], [75, 24, 1], [99, 0, 0], [67, 28, 4], [95, 4, 0], [2, 25, 72], [28, 48, 24], [52, 42, 6], [12, 51, 37], [91, 8, 1], [26, 52, 22], [96, 4, 0], [97, 3, 0], [41, 49, 10], [100, 0, 0], [92, 8, 0], [14, 41, 43], [100, 0, 0], [59, 37, 4], [91, 9, 0], [46, 43, 11], [25, 42, 33], [41, 43, 16], [12, 52, 36], [98, 2, 0], [31, 46, 22], [52, 39, 9], [76, 21, 3], [16, 45, 38], [53, 38, 9], [76, 23, 1]]\n",
            "\n",
            "Other Populations Counts (None, One, Two):\n",
            "[[1064, 913, 226], [2016, 188, 14], [2185, 14, 0], [116, 571, 1531], [236, 604, 1339], [2106, 104, 8], [636, 1072, 510], [2102, 106, 8], [198, 562, 1281], [2193, 21, 1], [2209, 9, 0], [762, 717, 738], [1573, 526, 118], [2214, 2, 0], [1695, 457, 59], [2093, 79, 0], [189, 582, 1432], [666, 1047, 504], [1333, 731, 152], [271, 949, 997], [1921, 279, 17], [689, 1032, 464], [2113, 99, 5], [2148, 69, 0], [747, 844, 422], [2156, 58, 2], [1761, 401, 53], [122, 705, 1375], [2199, 14, 0], [1222, 823, 172], [2133, 76, 1], [895, 878, 442], [685, 1048, 481], [775, 1056, 387], [778, 861, 578], [2192, 25, 0], [654, 1036, 490], [879, 927, 404], [1478, 511, 229], [622, 911, 629], [1335, 743, 139], [1969, 235, 14]]\n"
          ]
        }
      ]
    }
  ]
}