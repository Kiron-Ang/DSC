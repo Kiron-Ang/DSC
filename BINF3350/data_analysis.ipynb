{
  "nbformat": 4,
  "nbformat_minor": 0,
  "metadata": {
    "colab": {
      "provenance": [],
      "authorship_tag": "ABX9TyNcyCYkYjjpCSdhIrRnzvj1",
      "include_colab_link": true
    },
    "kernelspec": {
      "name": "python3",
      "display_name": "Python 3"
    },
    "language_info": {
      "name": "python"
    }
  },
  "cells": [
    {
      "cell_type": "markdown",
      "metadata": {
        "id": "view-in-github",
        "colab_type": "text"
      },
      "source": [
        "<a href=\"https://colab.research.google.com/github/Kiron-Ang/DSC/blob/main/BINF3350/data_analysis.ipynb\" target=\"_parent\"><img src=\"https://colab.research.google.com/assets/colab-badge.svg\" alt=\"Open In Colab\"/></a>"
      ]
    },
    {
      "cell_type": "code",
      "execution_count": 1,
      "metadata": {
        "id": "KFWyUs_sRsou",
        "colab": {
          "base_uri": "https://localhost:8080/"
        },
        "outputId": "cad0b728-350f-4bdc-f287-dcaea30f876c"
      },
      "outputs": [
        {
          "output_type": "stream",
          "name": "stdout",
          "text": [
            "Python 3.10.12\n"
          ]
        }
      ],
      "source": [
        "!python -V"
      ]
    },
    {
      "cell_type": "code",
      "source": [
        "import pandas as pd\n",
        "\n",
        "url_puerto_rican_population = (\n",
        "  \"https://github.com/Kiron-Ang/DSC/blob/main/BINF3350/puerto_ricans.vcf?raw=true\"\n",
        ")\n",
        "puerto_rican_population = pd.read_csv(url_puerto_rican_population, sep=\"\\t\")\n",
        "\n",
        "url_other_populations = (\n",
        "  \"https://github.com/Kiron-Ang/DSC/blob/main/BINF3350/others.vcf?raw=true\"\n",
        ")\n",
        "other_populations = pd.read_csv(url_other_populations, sep=\"\\t\")\n",
        "\n",
        "def print_preview(df, name):\n",
        "  print(f\"Preview of {name} dataframe:\")\n",
        "  print(df.head())\n",
        "  print(f\"Shape of {name} dataframe: {df.shape[0]} rows, {df.shape[1]} columns\")\n",
        "  print(\"\\n\" + \"-\"*50 + \"\\n\")\n",
        "\n",
        "print_preview(puerto_rican_population, \"Puerto Rican Population\")\n",
        "print_preview(other_populations, \"Other Populations\")"
      ],
      "metadata": {
        "id": "_UgPY1pobAGe",
        "colab": {
          "base_uri": "https://localhost:8080/"
        },
        "outputId": "3c8561ce-1572-40fa-d75c-65367802891a"
      },
      "execution_count": 2,
      "outputs": [
        {
          "output_type": "stream",
          "name": "stdout",
          "text": [
            "Preview of Puerto Rican Population dataframe:\n",
            "   #CHROM        POS         ID REF ALT QUAL FILTER  \\\n",
            "0       1  145747463  rs1284300   C   T    .   PASS   \n",
            "1       1  159682233     rs1205   C   T    .   PASS   \n",
            "2       1  161193683     rs5082   G   A    .   PASS   \n",
            "3       2   21225753  rs1042031   C   T    .   PASS   \n",
            "4       2   21231524   rs676210   G   A    .   PASS   \n",
            "\n",
            "                                        INFO FORMAT HG00551  ... HG01199  \\\n",
            "0   AC=510;AF=0.110;AN=4620;set=Intersection     GT     0/0  ...     1/0   \n",
            "1  AC=1677;AF=0.362;AN=4634;set=Intersection     GT     1/0  ...     1/0   \n",
            "2  AC=3505;AF=0.756;AN=4634;set=Intersection     GT     1/0  ...     1/0   \n",
            "3   AC=655;AF=0.141;AN=4636;set=Intersection     GT     0/0  ...     0/0   \n",
            "4  AC=1621;AF=0.350;AN=4634;set=Intersection     GT     1/0  ...     0/0   \n",
            "\n",
            "  HG01204 HG01205 HG01206 HG01241 HG01242 HG01243 HG01247 HG01248 HG01249  \n",
            "0     0/0     0/0     0/0     0/0     0/0     0/0     0/0     0/0     0/0  \n",
            "1     1/0     0/0     0/0     0/0     0/0     0/0     1/1     1/0     0/0  \n",
            "2     1/1     1/0     1/1     1/1     1/1     1/1     1/1     1/0     1/1  \n",
            "3     1/0     0/0     1/0     0/0     0/0     0/0     1/0     0/0     1/0  \n",
            "4     0/0     0/0     0/0     0/0     0/0     0/0     0/0     1/0     1/0  \n",
            "\n",
            "[5 rows x 114 columns]\n",
            "Shape of Puerto Rican Population dataframe: 42 rows, 114 columns\n",
            "\n",
            "--------------------------------------------------\n",
            "\n",
            "Preview of Other Populations dataframe:\n",
            "   #CHROM        POS         ID REF ALT QUAL FILTER  \\\n",
            "0       1  145747463  rs1284300   C   T    .   PASS   \n",
            "1       1  159682233     rs1205   C   T    .   PASS   \n",
            "2       1  161193683     rs5082   G   A    .   PASS   \n",
            "3       2   21225753  rs1042031   C   T    .   PASS   \n",
            "4       2   21231524   rs676210   G   A    .   PASS   \n",
            "\n",
            "                                        INFO FORMAT HG00096  ... NA21494  \\\n",
            "0   AC=510;AF=0.110;AN=4620;set=Intersection     GT     0/0  ...     0/0   \n",
            "1  AC=1677;AF=0.362;AN=4634;set=Intersection     GT     1/1  ...     1/0   \n",
            "2  AC=3505;AF=0.756;AN=4634;set=Intersection     GT     1/0  ...     1/1   \n",
            "3   AC=655;AF=0.141;AN=4636;set=Intersection     GT     0/0  ...     0/0   \n",
            "4  AC=1621;AF=0.350;AN=4634;set=Intersection     GT     1/0  ...     0/0   \n",
            "\n",
            "  NA21514 NA21525 NA21527 NA21581 NA21601 NA21608 NA21636 NA21648 NA21718  \n",
            "0     0/0     0/0     0/0     0/0     0/0     0/0     0/0     0/0     0/0  \n",
            "1     0/0     0/0     0/0     0/0     0/0     0/0     0/0     0/0     1/0  \n",
            "2     1/1     1/1     1/1     1/1     1/1     1/0     1/0     1/1     1/1  \n",
            "3     0/0     0/0     1/0     0/0     0/0     0/0     0/0     0/0     0/0  \n",
            "4     1/0     0/0     0/0     0/0     0/0     0/0     0/0     0/0     0/0  \n",
            "\n",
            "[5 rows x 2222 columns]\n",
            "Shape of Other Populations dataframe: 42 rows, 2222 columns\n",
            "\n",
            "--------------------------------------------------\n",
            "\n"
          ]
        }
      ]
    },
    {
      "cell_type": "code",
      "source": [
        "assert len(puerto_rican_population) == len(other_populations), \\\n",
        "    f\"Length mismatch: puerto_rican_population has {len(puerto_rican_population)} rows, \" \\\n",
        "    f\"but other_populations has {len(other_populations)} rows.\""
      ],
      "metadata": {
        "id": "3Yuhp7OIIJed"
      },
      "execution_count": 3,
      "outputs": []
    },
    {
      "cell_type": "code",
      "source": [
        "def count_categories_in_population(df, start_index=9):\n",
        "    nested_list = []\n",
        "    for index, row in df.iterrows():\n",
        "        people_with_none = 0\n",
        "        people_with_at_least_one = 0\n",
        "        for value in row[start_index:]:\n",
        "            if value == \"0/0\":\n",
        "                people_with_none += 1\n",
        "            elif value == \"1/0\" or value == \"0/1\" or value == \"1/1\":\n",
        "                people_with_at_least_one += 1\n",
        "        nested_list.append([people_with_none, people_with_at_least_one])\n",
        "    return nested_list\n",
        "\n",
        "puerto_rican_nested_list = count_categories_in_population(puerto_rican_population)\n",
        "other_populations_nested_list = count_categories_in_population(other_populations)\n",
        "\n",
        "print(\"Puerto Rican Population with SNPS (No alleles, at least one):\")\n",
        "print(puerto_rican_nested_list)\n",
        "\n",
        "print(\"\\nOther Populations with SNPS (No alleles, at least one):\")\n",
        "print(other_populations_nested_list)"
      ],
      "metadata": {
        "id": "R7NgDgEOP6qJ",
        "colab": {
          "base_uri": "https://localhost:8080/"
        },
        "outputId": "ea25c415-c441-4dc0-e5e2-613ca52ed7a8"
      },
      "execution_count": 4,
      "outputs": [
        {
          "output_type": "stream",
          "name": "stdout",
          "text": [
            "Puerto Rican Population with SNPS (No alleles, at least one):\n",
            "[[86, 18], [49, 56], [6, 98], [70, 35], [66, 39], [32, 73], [35, 70], [15, 89], [57, 47], [48, 57], [56, 49], [76, 29], [41, 64], [71, 34], [94, 10], [94, 10], [101, 4], [47, 58], [42, 61], [90, 15], [1, 104], [57, 48], [7, 98], [90, 13], [80, 25], [80, 25], [2, 102], [43, 62], [40, 65], [39, 66], [90, 15], [13, 92], [6, 97], [2, 102], [12, 93], [95, 10], [27, 77], [57, 48], [18, 87], [15, 90], [90, 14], [24, 81]]\n",
            "\n",
            "Other Populations with SNPS (No alleles, at least one):\n",
            "[[1749, 457], [940, 1272], [154, 2059], [1654, 559], [1025, 1187], [1242, 969], [711, 1499], [289, 1921], [1344, 847], [1349, 863], [846, 1359], [1654, 558], [1282, 928], [1524, 683], [1774, 253], [1667, 529], [1810, 399], [739, 1471], [867, 1344], [1604, 609], [150, 2058], [1303, 880], [131, 2076], [1786, 386], [1546, 665], [1612, 600], [53, 2140], [828, 1383], [752, 1457], [748, 1458], [2096, 115], [586, 1619], [287, 1918], [76, 2129], [227, 1982], [1711, 502], [762, 1449], [1299, 914], [517, 1695], [555, 1651], [1731, 294], [446, 1764]]\n"
          ]
        }
      ]
    },
    {
      "cell_type": "code",
      "source": [
        "# Assert that the two nested lists have the same length\n",
        "assert len(puerto_rican_nested_list) == len(other_populations_nested_list), \\\n",
        "    f\"Length mismatch: Puerto Rican list has {len(puerto_rican_nested_list)} items, \" \\\n",
        "    f\"while Other Populations list has {len(other_populations_nested_list)} items.\""
      ],
      "metadata": {
        "id": "X399LTJnf4wy"
      },
      "execution_count": 5,
      "outputs": []
    },
    {
      "cell_type": "code",
      "source": [
        "# Initialize an empty list to hold the contingency table data\n",
        "contingency_table_list = []\n",
        "\n",
        "# Loop through the range of numbers from 0 to the length of puerto_rican_nested_list\n",
        "for number in range(0, len(puerto_rican_nested_list)):\n",
        "\n",
        "    # Create a temporary list with the first elements of puerto_rican_nested_list and other_populations_nested_list\n",
        "    temp_list = [puerto_rican_nested_list[number], other_populations_nested_list[number]]\n",
        "\n",
        "    # Append the temporary list to the contingency_table_list\n",
        "    contingency_table_list.append(temp_list)\n",
        "\n",
        "# Print the final contingency table list\n",
        "print(\"\\nFinal list of contingency tables:\")\n",
        "print(contingency_table_list)"
      ],
      "metadata": {
        "id": "ZSaECQtzfB4m",
        "colab": {
          "base_uri": "https://localhost:8080/"
        },
        "outputId": "c4446100-153a-4c08-f724-45e19a2cea1d"
      },
      "execution_count": 6,
      "outputs": [
        {
          "output_type": "stream",
          "name": "stdout",
          "text": [
            "\n",
            "Final list of contingency tables:\n",
            "[[[86, 18], [1749, 457]], [[49, 56], [940, 1272]], [[6, 98], [154, 2059]], [[70, 35], [1654, 559]], [[66, 39], [1025, 1187]], [[32, 73], [1242, 969]], [[35, 70], [711, 1499]], [[15, 89], [289, 1921]], [[57, 47], [1344, 847]], [[48, 57], [1349, 863]], [[56, 49], [846, 1359]], [[76, 29], [1654, 558]], [[41, 64], [1282, 928]], [[71, 34], [1524, 683]], [[94, 10], [1774, 253]], [[94, 10], [1667, 529]], [[101, 4], [1810, 399]], [[47, 58], [739, 1471]], [[42, 61], [867, 1344]], [[90, 15], [1604, 609]], [[1, 104], [150, 2058]], [[57, 48], [1303, 880]], [[7, 98], [131, 2076]], [[90, 13], [1786, 386]], [[80, 25], [1546, 665]], [[80, 25], [1612, 600]], [[2, 102], [53, 2140]], [[43, 62], [828, 1383]], [[40, 65], [752, 1457]], [[39, 66], [748, 1458]], [[90, 15], [2096, 115]], [[13, 92], [586, 1619]], [[6, 97], [287, 1918]], [[2, 102], [76, 2129]], [[12, 93], [227, 1982]], [[95, 10], [1711, 502]], [[27, 77], [762, 1449]], [[57, 48], [1299, 914]], [[18, 87], [517, 1695]], [[15, 90], [555, 1651]], [[90, 14], [1731, 294]], [[24, 81], [446, 1764]]]\n"
          ]
        }
      ]
    },
    {
      "cell_type": "code",
      "source": [
        "from scipy.stats import chi2_contingency\n",
        "# https://docs.scipy.org/doc/scipy/reference/generated/scipy.stats.chi2_contingency.html\n",
        "\n",
        "rs_numbers = puerto_rican_population[\"ID\"].to_list()\n",
        "print(rs_numbers)\n",
        "\n",
        "print(\"RS Number\\tp-value\\t% of Puerto Ricans with at least one copy of the variant\\t% of Non-PR with at least one copy of the variant\")\n",
        "\n",
        "for number in range(0, len(rs_numbers)):\n",
        "  results = chi2_contingency(contingency_table_list[number])\n",
        "  puerto_rican_percentage = puerto_rican_nested_list[number][1] / sum(puerto_rican_nested_list[number]) * 100\n",
        "  other_percentage = other_populations_nested_list[number][1] / sum(other_populations_nested_list[number]) * 100\n",
        "  print(f\"{rs_numbers[number]}\\t{results.pvalue}\\t{puerto_rican_percentage}\\t{other_percentage}\")"
      ],
      "metadata": {
        "id": "6xKA5P4wbSQQ",
        "colab": {
          "base_uri": "https://localhost:8080/"
        },
        "outputId": "1c02ed21-f1d3-497f-8366-fdc60fc713e2"
      },
      "execution_count": 8,
      "outputs": [
        {
          "output_type": "stream",
          "name": "stdout",
          "text": [
            "['rs1284300', 'rs1205', 'rs5082', 'rs1042031', 'rs676210', 'rs693', 'rs679899', 'rs780094', 'rs6720173', 'rs4148189', 'rs4148211', 'rs6709904', 'rs2241883', 'rs12497191', 'rs1801282', 'rs3856806', 'rs3774923', 'rs4235308', 'rs2946385', 'rs982424', 'rs10034661', 'rs11771443', 'rs743507', 'rs1800590', 'rs10957056', 'rs11786580', 'rs363717', 'rs2230806', 'rs4149272', 'rs2575875', 'rs5110', 'rs2542052', 'rs715948', 'rs701106', 'rs5888', 'rs6078', 'rs2289487', 'rs2000813', 'rs2276269', 'rs405509', 'rs7412', 'rs135549']\n",
            "RS Number\tp-value\t% of Puerto Ricans with at least one copy of the variant\t% of Non-PR with at least one copy of the variant\n",
            "rs1284300\t0.47377870638229813\t17.307692307692307\t20.71622846781505\n",
            "rs1205\t0.4572606382146607\t53.333333333333336\t57.50452079566004\n",
            "rs5082\t0.7873388504558299\t94.23076923076923\t93.0411206507004\n",
            "rs1042031\t0.08235397237150592\t33.33333333333333\t25.259828287392676\n",
            "rs676210\t0.001311884435315136\t37.142857142857146\t53.6618444846293\n",
            "rs693\t3.951498678013215e-07\t69.52380952380952\t43.82632293080054\n",
            "rs679899\t0.8871237459100834\t66.66666666666666\t67.82805429864254\n",
            "rs780094\t0.8036425090821264\t85.57692307692307\t86.92307692307692\n",
            "rs6720173\t0.21785467808939016\t45.19230769230769\t38.65814696485623\n",
            "rs4148189\t0.002504400850911184\t54.285714285714285\t39.01446654611212\n",
            "rs4148211\t0.002989552155845487\t46.666666666666664\t61.63265306122449\n",
            "rs6709904\t0.6627999175123603\t27.61904761904762\t25.22603978300181\n",
            "rs2241883\t0.00018750262134250895\t60.952380952380956\t41.990950226244344\n",
            "rs12497191\t0.8396016310878492\t32.38095238095238\t30.94698685999094\n",
            "rs1801282\t0.4753210406487829\t9.615384615384617\t12.481499753330045\n",
            "rs3856806\t0.0010145237427946349\t9.615384615384617\t24.089253187613842\n",
            "rs3774923\t0.00028234379896648754\t3.8095238095238098\t18.062471706654595\n",
            "rs4235308\t0.022109894578407212\t55.23809523809524\t66.56108597285068\n",
            "rs2946385\t0.830212708611112\t59.22330097087378\t60.78697421981004\n",
            "rs982424\t0.004045007881904866\t14.285714285714285\t27.519204699502936\n",
            "rs10034661\t0.030375105281125667\t99.04761904761905\t93.20652173913044\n",
            "rs11771443\t0.317500653004453\t45.714285714285715\t40.31149793861658\n",
            "rs743507\t0.92184534420236\t93.33333333333333\t94.0643407340281\n",
            "rs1800590\t0.22612972995644964\t12.62135922330097\t17.771639042357272\n",
            "rs10957056\t0.20665447128231082\t23.809523809523807\t30.076888285843513\n",
            "rs11786580\t0.525200237590179\t23.809523809523807\t27.124773960217\n",
            "rs363717\t1.0\t98.07692307692307\t97.58321933424533\n",
            "rs2230806\t0.534609156039868\t59.04761904761905\t62.550881953867034\n",
            "rs4149272\t0.45331368742897005\t61.904761904761905\t65.95744680851064\n",
            "rs2575875\t0.5631909952088732\t62.857142857142854\t66.09247506799638\n",
            "rs5110\t0.00018807617629096373\t14.285714285714285\t5.201266395296246\n",
            "rs2542052\t0.0017557739588381805\t87.61904761904762\t73.42403628117914\n",
            "rs715948\t0.04646157029126422\t94.1747572815534\t86.98412698412699\n",
            "rs701106\t0.5736038440310127\t98.07692307692307\t96.55328798185941\n",
            "rs5888\t0.829751141614916\t88.57142857142857\t89.72385694884562\n",
            "rs6078\t0.0022440821031273653\t9.523809523809524\t22.68413917758699\n",
            "rs2289487\t0.09257854808373008\t74.03846153846155\t65.5359565807327\n",
            "rs2000813\t0.4264116438838994\t45.714285714285715\t41.30140081337551\n",
            "rs2276269\t0.17333416182032776\t82.85714285714286\t76.62748643761303\n",
            "rs405509\t0.0159783895512783\t85.71428571428571\t74.84134179510427\n",
            "rs7412\t0.876083145684331\t13.461538461538462\t14.518518518518519\n",
            "rs135549\t0.5878661049600289\t77.14285714285715\t79.81900452488688\n"
          ]
        }
      ]
    }
  ]
}