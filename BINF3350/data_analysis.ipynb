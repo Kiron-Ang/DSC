{
  "nbformat": 4,
  "nbformat_minor": 0,
  "metadata": {
    "colab": {
      "provenance": [],
      "authorship_tag": "ABX9TyOp6gsbO2L3VIxvcYgoBocA",
      "include_colab_link": true
    },
    "kernelspec": {
      "name": "python3",
      "display_name": "Python 3"
    },
    "language_info": {
      "name": "python"
    }
  },
  "cells": [
    {
      "cell_type": "markdown",
      "metadata": {
        "id": "view-in-github",
        "colab_type": "text"
      },
      "source": [
        "<a href=\"https://colab.research.google.com/github/Kiron-Ang/DSC/blob/main/binf_3350_data_analysis.ipynb\" target=\"_parent\"><img src=\"https://colab.research.google.com/assets/colab-badge.svg\" alt=\"Open In Colab\"/></a>"
      ]
    },
    {
      "cell_type": "code",
      "execution_count": 1,
      "metadata": {
        "colab": {
          "base_uri": "https://localhost:8080/"
        },
        "id": "KFWyUs_sRsou",
        "outputId": "1f47eabd-f7e5-4c93-9fac-78c60ccbdd6e"
      },
      "outputs": [
        {
          "output_type": "stream",
          "name": "stdout",
          "text": [
            "Python 3.10.12\n"
          ]
        }
      ],
      "source": [
        "!python -V"
      ]
    },
    {
      "cell_type": "code",
      "source": [
        "import pandas as pd\n",
        "\n",
        "url_puerto_rican_population = (\n",
        "  \"https://github.com/Kiron-Ang/DSC/blob/main/binf_3350_puerto_rican_population.vcf?raw=true\"\n",
        ")\n",
        "puerto_rican_population = pd.read_csv(url_puerto_rican_population, sep=\"\\t\")\n",
        "\n",
        "url_other_populations = (\n",
        "  \"https://github.com/Kiron-Ang/DSC/blob/main/binf_3350_other_populations.vcf?raw=true\"\n",
        ")\n",
        "other_populations = pd.read_csv(url_other_populations, sep=\"\\t\")\n",
        "\n",
        "def print_preview(df, name):\n",
        "  print(f\"Preview of {name} dataframe:\")\n",
        "  print(df.head())\n",
        "  print(f\"Shape of {name} dataframe: {df.shape[0]} rows, {df.shape[1]} columns\")\n",
        "  print(\"\\n\" + \"-\"*50 + \"\\n\")\n",
        "\n",
        "print_preview(puerto_rican_population, \"Puerto Rican Population\")\n",
        "print_preview(other_populations, \"Other Populations\")"
      ],
      "metadata": {
        "colab": {
          "base_uri": "https://localhost:8080/"
        },
        "id": "_UgPY1pobAGe",
        "outputId": "88258626-a18b-4d18-c90e-eac4e554af1f"
      },
      "execution_count": 2,
      "outputs": [
        {
          "output_type": "stream",
          "name": "stdout",
          "text": [
            "Preview of Puerto Rican Population dataframe:\n",
            "   #CHROM        POS                        ID REF ALT QUAL FILTER  \\\n",
            "0       1  146648224                 rs4950382   C   T    .   PASS   \n",
            "1       1  159802683  rs3795331;SNP1-158069307   G   A    .   PASS   \n",
            "2       1  161298126            SNP1-159564750   T   G    .   PASS   \n",
            "3       2   21397182                  rs506585   G   A    .   PASS   \n",
            "4       2   21415763             SNP2-21269268   G   A    .   PASS   \n",
            "\n",
            "                                          INFO FORMAT HG00551  ... HG01199  \\\n",
            "0    AC=1423;AF=0.309;AN=4604;set=Intersection     GT     0/0  ...     0/0   \n",
            "1     AC=218;AF=0.047;AN=4636;set=Intersection     GT     0/0  ...     0/0   \n",
            "2  AC=14;AF=3.046e-03;AN=4596;set=Intersection     GT     0/0  ...     0/0   \n",
            "3    AC=3795;AF=0.819;AN=4636;set=Intersection     GT     1/1  ...     1/1   \n",
            "4    AC=3440;AF=0.756;AN=4552;set=Intersection     GT     1/1  ...     1/1   \n",
            "\n",
            "  HG01204 HG01205 HG01206 HG01241 HG01242 HG01243 HG01247 HG01248 HG01249  \n",
            "0     0/0     0/0     0/0     1/0     1/0     1/1     1/0     0/0     0/0  \n",
            "1     1/0     0/0     0/0     0/0     0/0     0/0     0/0     0/0     0/0  \n",
            "2     0/0     0/0     0/0     0/0     0/0     0/0     0/0     0/0     ./.  \n",
            "3     1/1     1/1     1/1     1/1     1/0     1/0     1/0     1/1     1/0  \n",
            "4     1/1     1/1     1/1     1/1     1/0     1/0     1/0     1/1     1/0  \n",
            "\n",
            "[5 rows x 109 columns]\n",
            "Shape of Puerto Rican Population dataframe: 42 rows, 109 columns\n",
            "\n",
            "--------------------------------------------------\n",
            "\n",
            "Preview of Other Populations dataframe:\n",
            "   #CHROM        POS                        ID REF ALT QUAL FILTER  \\\n",
            "0       1  146648224                 rs4950382   C   T    .   PASS   \n",
            "1       1  159802683  rs3795331;SNP1-158069307   G   A    .   PASS   \n",
            "2       1  161298126            SNP1-159564750   T   G    .   PASS   \n",
            "3       2   21397182                  rs506585   G   A    .   PASS   \n",
            "4       2   21415763             SNP2-21269268   G   A    .   PASS   \n",
            "\n",
            "                                          INFO FORMAT HG00096  ... NA21494  \\\n",
            "0    AC=1423;AF=0.309;AN=4604;set=Intersection     GT     1/0  ...     1/1   \n",
            "1     AC=218;AF=0.047;AN=4636;set=Intersection     GT     0/0  ...     0/0   \n",
            "2  AC=14;AF=3.046e-03;AN=4596;set=Intersection     GT     0/0  ...     0/0   \n",
            "3    AC=3795;AF=0.819;AN=4636;set=Intersection     GT     1/1  ...     1/1   \n",
            "4    AC=3440;AF=0.756;AN=4552;set=Intersection     GT     1/1  ...     1/0   \n",
            "\n",
            "  NA21514 NA21525 NA21527 NA21581 NA21601 NA21608 NA21636 NA21648 NA21718  \n",
            "0     1/0     1/1     0/0     1/1     ./.     1/0     0/0     0/0     0/0  \n",
            "1     0/0     0/0     0/0     0/0     0/0     0/0     0/0     0/0     0/0  \n",
            "2     0/0     0/0     0/0     0/0     0/0     0/0     0/0     0/0     0/0  \n",
            "3     1/1     1/0     1/0     1/0     1/1     1/1     1/1     1/1     1/0  \n",
            "4     1/1     0/0     1/0     1/0     1/1     1/0     1/0     1/1     0/0  \n",
            "\n",
            "[5 rows x 2227 columns]\n",
            "Shape of Other Populations dataframe: 42 rows, 2227 columns\n",
            "\n",
            "--------------------------------------------------\n",
            "\n"
          ]
        }
      ]
    },
    {
      "cell_type": "code",
      "source": [
        "assert len(puerto_rican_population) == len(other_populations), \\\n",
        "    f\"Length mismatch: puerto_rican_population has {len(puerto_rican_population)} rows, \" \\\n",
        "    f\"but other_populations has {len(other_populations)} rows.\""
      ],
      "metadata": {
        "id": "3Yuhp7OIIJed"
      },
      "execution_count": 3,
      "outputs": []
    },
    {
      "cell_type": "code",
      "source": [
        "def count_categories_in_population(df, start_index=9):\n",
        "    nested_list = []\n",
        "    for index, row in df.iterrows():\n",
        "        people_with_none = 0\n",
        "        people_with_at_least_one = 0\n",
        "        for value in row[start_index:]:\n",
        "            if value == \"0/0\":\n",
        "                people_with_none += 1\n",
        "            elif value == \"1/0\" or value == \"0/1\" or value == \"1/1\":\n",
        "                people_with_at_least_one += 1\n",
        "        nested_list.append([people_with_none, people_with_at_least_one])\n",
        "    return nested_list\n",
        "\n",
        "puerto_rican_nested_list = count_categories_in_population(puerto_rican_population)\n",
        "other_populations_nested_list = count_categories_in_population(other_populations)\n",
        "\n",
        "print(\"Puerto Rican Population with SNPS (No alleles, at least one):\")\n",
        "print(puerto_rican_nested_list)\n",
        "\n",
        "print(\"\\nOther Populations with SNPS (No alleles, at least one):\")\n",
        "print(other_populations_nested_list)"
      ],
      "metadata": {
        "colab": {
          "base_uri": "https://localhost:8080/"
        },
        "id": "R7NgDgEOP6qJ",
        "outputId": "d460b37e-ebcb-4f15-f7a2-1823e0e007d2"
      },
      "execution_count": 4,
      "outputs": [
        {
          "output_type": "stream",
          "name": "stdout",
          "text": [
            "Puerto Rican Population with SNPS (No alleles, at least one):\n",
            "[[50, 49], [98, 2], [99, 0], [3, 97], [4, 93], [99, 1], [29, 71], [99, 1], [10, 90], [100, 0], [100, 0], [10, 90], [75, 25], [99, 0], [67, 32], [95, 4], [2, 97], [28, 72], [52, 48], [12, 88], [91, 9], [26, 74], [96, 4], [97, 3], [41, 59], [100, 0], [92, 8], [14, 84], [100, 0], [59, 41], [91, 9], [46, 54], [25, 75], [41, 59], [12, 88], [98, 2], [31, 68], [52, 48], [76, 24], [16, 83], [53, 47], [76, 24]]\n",
            "\n",
            "Other Populations with SNPS (No alleles, at least one):\n",
            "[[1064, 1139], [2016, 202], [2185, 14], [116, 2102], [236, 1943], [2106, 112], [636, 1582], [2102, 114], [198, 1843], [2193, 22], [2209, 9], [762, 1455], [1573, 644], [2214, 2], [1695, 516], [2093, 79], [189, 2014], [666, 1551], [1333, 883], [271, 1946], [1921, 296], [689, 1496], [2113, 104], [2148, 69], [747, 1266], [2156, 60], [1761, 454], [122, 2080], [2199, 14], [1222, 995], [2133, 77], [895, 1320], [685, 1529], [775, 1443], [778, 1439], [2192, 25], [654, 1526], [879, 1331], [1478, 740], [622, 1540], [1335, 882], [1969, 249]]\n"
          ]
        }
      ]
    },
    {
      "cell_type": "code",
      "source": [
        "# Assert that the two nested lists have the same length\n",
        "assert len(puerto_rican_nested_list) == len(other_populations_nested_list), \\\n",
        "    f\"Length mismatch: Puerto Rican list has {len(puerto_rican_nested_list)} items, \" \\\n",
        "    f\"while Other Populations list has {len(other_populations_nested_list)} items.\""
      ],
      "metadata": {
        "id": "X399LTJnf4wy"
      },
      "execution_count": 5,
      "outputs": []
    },
    {
      "cell_type": "code",
      "source": [
        "# Initialize an empty list to hold the contingency table data\n",
        "contingency_table_list = []\n",
        "\n",
        "# Loop through the range of numbers from 0 to the length of puerto_rican_nested_list\n",
        "for number in range(0, len(puerto_rican_nested_list)):\n",
        "\n",
        "    # Create a temporary list with the first elements of puerto_rican_nested_list and other_populations_nested_list\n",
        "    temp_list = [puerto_rican_nested_list[number], other_populations_nested_list[number]]\n",
        "\n",
        "    # Append the temporary list to the contingency_table_list\n",
        "    contingency_table_list.append(temp_list)\n",
        "\n",
        "# Print the final contingency table list\n",
        "print(\"\\nFinal list of contingency tables:\")\n",
        "print(contingency_table_list)"
      ],
      "metadata": {
        "colab": {
          "base_uri": "https://localhost:8080/"
        },
        "id": "ZSaECQtzfB4m",
        "outputId": "bd170cb7-6082-47b4-eecd-4520960ff2e0"
      },
      "execution_count": 6,
      "outputs": [
        {
          "output_type": "stream",
          "name": "stdout",
          "text": [
            "\n",
            "Final list of contingency tables:\n",
            "[[[50, 49], [1064, 1139]], [[98, 2], [2016, 202]], [[99, 0], [2185, 14]], [[3, 97], [116, 2102]], [[4, 93], [236, 1943]], [[99, 1], [2106, 112]], [[29, 71], [636, 1582]], [[99, 1], [2102, 114]], [[10, 90], [198, 1843]], [[100, 0], [2193, 22]], [[100, 0], [2209, 9]], [[10, 90], [762, 1455]], [[75, 25], [1573, 644]], [[99, 0], [2214, 2]], [[67, 32], [1695, 516]], [[95, 4], [2093, 79]], [[2, 97], [189, 2014]], [[28, 72], [666, 1551]], [[52, 48], [1333, 883]], [[12, 88], [271, 1946]], [[91, 9], [1921, 296]], [[26, 74], [689, 1496]], [[96, 4], [2113, 104]], [[97, 3], [2148, 69]], [[41, 59], [747, 1266]], [[100, 0], [2156, 60]], [[92, 8], [1761, 454]], [[14, 84], [122, 2080]], [[100, 0], [2199, 14]], [[59, 41], [1222, 995]], [[91, 9], [2133, 77]], [[46, 54], [895, 1320]], [[25, 75], [685, 1529]], [[41, 59], [775, 1443]], [[12, 88], [778, 1439]], [[98, 2], [2192, 25]], [[31, 68], [654, 1526]], [[52, 48], [879, 1331]], [[76, 24], [1478, 740]], [[16, 83], [622, 1540]], [[53, 47], [1335, 882]], [[76, 24], [1969, 249]]]\n"
          ]
        }
      ]
    },
    {
      "cell_type": "code",
      "source": [
        "from scipy.stats import chi2_contingency\n",
        "# https://docs.scipy.org/doc/scipy/reference/generated/scipy.stats.chi2_contingency.html\n",
        "\n",
        "rs_numbers = puerto_rican_population[\"ID\"].to_list()\n",
        "print(rs_numbers)\n",
        "\n",
        "for number in range(0, len(rs_numbers)):\n",
        "  results = chi2_contingency(contingency_table_list[number])\n",
        "  if results.pvalue < 0.05:\n",
        "    print(f\"Significant result! RS Number: {rs_numbers[number]}, p-value: {results.pvalue}\")\n",
        "    percentage = puerto_rican_nested_list[number][0] / sum(puerto_rican_nested_list[number]) * 100\n",
        "    print(f\"\\t Puerto Ricans without any copies of the allele: {puerto_rican_nested_list[number][0]} ({percentage}%)\")\n",
        "    percentage = puerto_rican_nested_list[number][1] / sum(puerto_rican_nested_list[number]) * 100\n",
        "    print(f\"\\t Puerto Ricans with at least one copy of the allele: {puerto_rican_nested_list[number][1]} ({percentage}%)\")\n",
        "    percentage = other_populations_nested_list[number][0] / sum(other_populations_nested_list[number]) * 100\n",
        "    print(f\"\\t Other people without any copies of the allele: {other_populations_nested_list[number][0]} ({percentage}%)\")\n",
        "    percentage = other_populations_nested_list[number][1] / sum(other_populations_nested_list[number]) * 100\n",
        "    print(f\"\\t Other people with at least one copy of the allele: {other_populations_nested_list[number][1]} ({percentage}%)\")"
      ],
      "metadata": {
        "colab": {
          "base_uri": "https://localhost:8080/"
        },
        "id": "6xKA5P4wbSQQ",
        "outputId": "e92b9ae9-3c7e-4f15-8973-f75ac7a38050"
      },
      "execution_count": 7,
      "outputs": [
        {
          "output_type": "stream",
          "name": "stdout",
          "text": [
            "['rs4950382', 'rs3795331;SNP1-158069307', 'SNP1-159564750', 'rs506585', 'SNP2-21269268', 'SNP2-21269573', 'rs950661', 'rs7608048', 'SNP2-44013792', 'SNP2-44029175', 'SNP2-44071275', 'rs6746182', 'SNP2-88367318', 'rs4135293', 'rs13099634', 'rs5746247', 'rs2946392', 'SNP4-23596461', 'SNP4-23634786', 'SNP4-100925984', 'SNP4-120783281', 'rs2303937', 'SNP7-150432276', 'SNP8-19961055', 'SNP8-59734102', 'SNP8-59739383', 'SNP9-106647033', 'rs2740483', 'SNP9-106759583', 'rs715119', 'SNP11-116421290', 'rs7109649', 'rs11172156', 'rs10846765', 'rs7304293', 'SNP15-56799478', 'SNP15-88141435', 'rs4939593', 'SNP18-45436312', 'SNP19-50280302', 'rs3745157', 'SNP22-45030287']\n",
            "Significant result! RS Number: rs3795331;SNP1-158069307, p-value: 0.022991348515797184\n",
            "\t Puerto Ricans without any copies of the allele: 98 (98.0%)\n",
            "\t Puerto Ricans with at least one copy of the allele: 2 (2.0%)\n",
            "\t Other people without any copies of the allele: 2016 (90.892696122633%)\n",
            "\t Other people with at least one copy of the allele: 202 (9.107303877366997%)\n",
            "Significant result! RS Number: rs6746182, p-value: 7.454573417465157e-07\n",
            "\t Puerto Ricans without any copies of the allele: 10 (10.0%)\n",
            "\t Puerto Ricans with at least one copy of the allele: 90 (90.0%)\n",
            "\t Other people without any copies of the allele: 762 (34.37077131258457%)\n",
            "\t Other people with at least one copy of the allele: 1455 (65.62922868741543%)\n",
            "Significant result! RS Number: rs2946392, p-value: 0.033315464232321595\n",
            "\t Puerto Ricans without any copies of the allele: 2 (2.0202020202020203%)\n",
            "\t Puerto Ricans with at least one copy of the allele: 97 (97.97979797979798%)\n",
            "\t Other people without any copies of the allele: 189 (8.579210167952791%)\n",
            "\t Other people with at least one copy of the allele: 2014 (91.4207898320472%)\n",
            "Significant result! RS Number: SNP9-106647033, p-value: 0.003383973899022923\n",
            "\t Puerto Ricans without any copies of the allele: 92 (92.0%)\n",
            "\t Puerto Ricans with at least one copy of the allele: 8 (8.0%)\n",
            "\t Other people without any copies of the allele: 1761 (79.50338600451468%)\n",
            "\t Other people with at least one copy of the allele: 454 (20.496613995485326%)\n",
            "Significant result! RS Number: rs2740483, p-value: 0.0007447876443843543\n",
            "\t Puerto Ricans without any copies of the allele: 14 (14.285714285714285%)\n",
            "\t Puerto Ricans with at least one copy of the allele: 84 (85.71428571428571%)\n",
            "\t Other people without any copies of the allele: 122 (5.540417801998183%)\n",
            "\t Other people with at least one copy of the allele: 2080 (94.45958219800181%)\n",
            "Significant result! RS Number: SNP11-116421290, p-value: 0.009889235317107179\n",
            "\t Puerto Ricans without any copies of the allele: 91 (91.0%)\n",
            "\t Puerto Ricans with at least one copy of the allele: 9 (9.0%)\n",
            "\t Other people without any copies of the allele: 2133 (96.5158371040724%)\n",
            "\t Other people with at least one copy of the allele: 77 (3.484162895927602%)\n",
            "Significant result! RS Number: rs7304293, p-value: 3.2024171678614865e-06\n",
            "\t Puerto Ricans without any copies of the allele: 12 (12.0%)\n",
            "\t Puerto Ricans with at least one copy of the allele: 88 (88.0%)\n",
            "\t Other people without any copies of the allele: 778 (35.09246729815065%)\n",
            "\t Other people with at least one copy of the allele: 1439 (64.90753270184935%)\n",
            "Significant result! RS Number: rs4939593, p-value: 0.01960571071051754\n",
            "\t Puerto Ricans without any copies of the allele: 52 (52.0%)\n",
            "\t Puerto Ricans with at least one copy of the allele: 48 (48.0%)\n",
            "\t Other people without any copies of the allele: 879 (39.7737556561086%)\n",
            "\t Other people with at least one copy of the allele: 1331 (60.2262443438914%)\n",
            "Significant result! RS Number: SNP19-50280302, p-value: 0.009014892028526398\n",
            "\t Puerto Ricans without any copies of the allele: 16 (16.161616161616163%)\n",
            "\t Puerto Ricans with at least one copy of the allele: 83 (83.83838383838383%)\n",
            "\t Other people without any copies of the allele: 622 (28.769657724329324%)\n",
            "\t Other people with at least one copy of the allele: 1540 (71.23034227567068%)\n",
            "Significant result! RS Number: SNP22-45030287, p-value: 0.0002009684617584284\n",
            "\t Puerto Ricans without any copies of the allele: 76 (76.0%)\n",
            "\t Puerto Ricans with at least one copy of the allele: 24 (24.0%)\n",
            "\t Other people without any copies of the allele: 1969 (88.7736699729486%)\n",
            "\t Other people with at least one copy of the allele: 249 (11.226330027051398%)\n"
          ]
        }
      ]
    }
  ]
}