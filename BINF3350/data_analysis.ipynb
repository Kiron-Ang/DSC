{
  "nbformat": 4,
  "nbformat_minor": 0,
  "metadata": {
    "colab": {
      "provenance": [],
      "authorship_tag": "ABX9TyMUk+OEOSDN/UdJQv8A92bQ",
      "include_colab_link": true
    },
    "kernelspec": {
      "name": "python3",
      "display_name": "Python 3"
    },
    "language_info": {
      "name": "python"
    }
  },
  "cells": [
    {
      "cell_type": "markdown",
      "metadata": {
        "id": "view-in-github",
        "colab_type": "text"
      },
      "source": [
        "<a href=\"https://colab.research.google.com/github/Kiron-Ang/DSC/blob/main/BINF3350/data_analysis.ipynb\" target=\"_parent\"><img src=\"https://colab.research.google.com/assets/colab-badge.svg\" alt=\"Open In Colab\"/></a>"
      ]
    },
    {
      "cell_type": "code",
      "execution_count": null,
      "metadata": {
        "id": "KFWyUs_sRsou"
      },
      "outputs": [],
      "source": [
        "!python -V"
      ]
    },
    {
      "cell_type": "code",
      "source": [
        "import pandas as pd\n",
        "\n",
        "url_puerto_rican_population = (\n",
        "  \"https://github.com/Kiron-Ang/DSC/blob/main/BINF3350/puerto_rican_population.vcf?raw=true\"\n",
        ")\n",
        "puerto_rican_population = pd.read_csv(url_puerto_rican_population, sep=\"\\t\")\n",
        "\n",
        "url_other_populations = (\n",
        "  \"https://github.com/Kiron-Ang/DSC/blob/main/BINF3350/other_populations.vcf?raw=true\"\n",
        ")\n",
        "other_populations = pd.read_csv(url_other_populations, sep=\"\\t\")\n",
        "\n",
        "def print_preview(df, name):\n",
        "  print(f\"Preview of {name} dataframe:\")\n",
        "  print(df.head())\n",
        "  print(f\"Shape of {name} dataframe: {df.shape[0]} rows, {df.shape[1]} columns\")\n",
        "  print(\"\\n\" + \"-\"*50 + \"\\n\")\n",
        "\n",
        "print_preview(puerto_rican_population, \"Puerto Rican Population\")\n",
        "print_preview(other_populations, \"Other Populations\")"
      ],
      "metadata": {
        "id": "_UgPY1pobAGe"
      },
      "execution_count": null,
      "outputs": []
    },
    {
      "cell_type": "code",
      "source": [
        "assert len(puerto_rican_population) == len(other_populations), \\\n",
        "    f\"Length mismatch: puerto_rican_population has {len(puerto_rican_population)} rows, \" \\\n",
        "    f\"but other_populations has {len(other_populations)} rows.\""
      ],
      "metadata": {
        "id": "3Yuhp7OIIJed"
      },
      "execution_count": null,
      "outputs": []
    },
    {
      "cell_type": "code",
      "source": [
        "def count_categories_in_population(df, start_index=9):\n",
        "    nested_list = []\n",
        "    for index, row in df.iterrows():\n",
        "        people_with_none = 0\n",
        "        people_with_at_least_one = 0\n",
        "        for value in row[start_index:]:\n",
        "            if value == \"0/0\":\n",
        "                people_with_none += 1\n",
        "            elif value == \"1/0\" or value == \"0/1\" or value == \"1/1\":\n",
        "                people_with_at_least_one += 1\n",
        "        nested_list.append([people_with_none, people_with_at_least_one])\n",
        "    return nested_list\n",
        "\n",
        "puerto_rican_nested_list = count_categories_in_population(puerto_rican_population)\n",
        "other_populations_nested_list = count_categories_in_population(other_populations)\n",
        "\n",
        "print(\"Puerto Rican Population with SNPS (No alleles, at least one):\")\n",
        "print(puerto_rican_nested_list)\n",
        "\n",
        "print(\"\\nOther Populations with SNPS (No alleles, at least one):\")\n",
        "print(other_populations_nested_list)"
      ],
      "metadata": {
        "id": "R7NgDgEOP6qJ"
      },
      "execution_count": null,
      "outputs": []
    },
    {
      "cell_type": "code",
      "source": [
        "# Assert that the two nested lists have the same length\n",
        "assert len(puerto_rican_nested_list) == len(other_populations_nested_list), \\\n",
        "    f\"Length mismatch: Puerto Rican list has {len(puerto_rican_nested_list)} items, \" \\\n",
        "    f\"while Other Populations list has {len(other_populations_nested_list)} items.\""
      ],
      "metadata": {
        "id": "X399LTJnf4wy"
      },
      "execution_count": null,
      "outputs": []
    },
    {
      "cell_type": "code",
      "source": [
        "# Initialize an empty list to hold the contingency table data\n",
        "contingency_table_list = []\n",
        "\n",
        "# Loop through the range of numbers from 0 to the length of puerto_rican_nested_list\n",
        "for number in range(0, len(puerto_rican_nested_list)):\n",
        "\n",
        "    # Create a temporary list with the first elements of puerto_rican_nested_list and other_populations_nested_list\n",
        "    temp_list = [puerto_rican_nested_list[number], other_populations_nested_list[number]]\n",
        "\n",
        "    # Append the temporary list to the contingency_table_list\n",
        "    contingency_table_list.append(temp_list)\n",
        "\n",
        "# Print the final contingency table list\n",
        "print(\"\\nFinal list of contingency tables:\")\n",
        "print(contingency_table_list)"
      ],
      "metadata": {
        "id": "ZSaECQtzfB4m"
      },
      "execution_count": null,
      "outputs": []
    },
    {
      "cell_type": "code",
      "source": [
        "from scipy.stats import chi2_contingency\n",
        "# https://docs.scipy.org/doc/scipy/reference/generated/scipy.stats.chi2_contingency.html\n",
        "\n",
        "rs_numbers = puerto_rican_population[\"ID\"].to_list()\n",
        "print(rs_numbers)\n",
        "\n",
        "print(\"RS Number\\tp-value\\t% of Puerto Ricans with at least one copy of the variant\\t% of Non-PR with at least one copy of the variant\")\n",
        "\n",
        "for number in range(0, len(rs_numbers)):\n",
        "  results = chi2_contingency(contingency_table_list[number])\n",
        "  percentage = puerto_rican_nested_list[number][1] / sum(puerto_rican_nested_list[number]) * 100\n",
        "  percentage = other_populations_nested_list[number][1] / sum(other_populations_nested_list[number]) * 100\n",
        "  print(f\"{rs_numbers[number]}\\t{results.pvalue}\\t{percentage}\\t{percentage}\")"
      ],
      "metadata": {
        "id": "6xKA5P4wbSQQ"
      },
      "execution_count": null,
      "outputs": []
    }
  ]
}