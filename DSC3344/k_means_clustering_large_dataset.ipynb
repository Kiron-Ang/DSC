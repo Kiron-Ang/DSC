{
 "cells": [
  {
   "cell_type": "markdown",
   "metadata": {
    "id": "A-LxSqVAoHbd"
   },
   "source": [
    "# K-Means Clustering of a Large Electroencephalography Dataset\n",
    "\n",
    "### Kiron Ang, September 2024\n",
    "\n",
    "---\n",
    "\n",
    "## INTRODUCTION\n",
    "\n",
    "The use of machine learning to analyze and process electroencephalogram (EEG) data has received greater interest in the years since the COVID-19 pandemic, partially because of its potential in the field of medical devices [1]. EEG data consists of signals captured by sensors in an attempt to monitor brain activity. It is clear that the signals captured vary based on external stimuli that subjects receive, leading to the idea of neural correlates based on various factors, such as perception [2]. Although the topic of perception requires a discussion of factors other than simply EEG data [3], the current advances in machine learning and the rise of access in machine learning methods warrants a new presentation of a potential way to analyze EEG data.\n",
    "\n",
    "A major impetus for the present work is the release of a dataset over 50 GB in size by David Vivancos [4]. His accompanying preprint work [5] describes how, in June 2023, he publicly released the data he collected from himself while observing 70,000 images of handwritten digits from the 1998 MNIST dataset. Here, I present a Google Colab analysis of a 7 GB portion of the data that Vivancos produced. After preprocessing and dimensionality reduction, I use a k-means clustering algorithm to determine whether or not there are patterns intrinsic to the data that may reflect the numbers observed while the data was collected.\n"
   ]
  },
  {
   "cell_type": "markdown",
   "metadata": {
    "id": "8bT7p4s4lpLv"
   },
   "source": [
    "## METHODS & RESULTS\n",
    "\n",
    "This entire analysis was carried out with the Python programming language in Google Colab, a free online platform that enables users to utilize computational resources for a variety of projects, including those related to machine learning and data analysis. In an effort to increase accessibility to this kind of work, this section details all code used to generated results. The cell immediately below this showcases the Python libraries used."
   ]
  },
  {
   "cell_type": "code",
   "execution_count": null,
   "metadata": {
    "colab": {
     "base_uri": "https://localhost:8080/"
    },
    "id": "_o_sRwKNvnKQ",
    "outputId": "6ba96dd1-762c-4003-a948-427664e56e05"
   },
   "outputs": [],
   "source": [
    "# Print out Python version.\n",
    "!python -V\n",
    "\n",
    "# Update/install prerequisite libraries.\n",
    "!pip install -U polars\n",
    "!pip install -U scikit-learn\n",
    "!pip install -U matplotlib"
   ]
  },
  {
   "cell_type": "markdown",
   "metadata": {
    "id": "rl_nlUH9vjiZ"
   },
   "source": [
    "Data was downloaded from https://huggingface.co/datasets/DavidVivancos/MindBigData2023_MNIST-8B. The 7 GB \"test.csv\" file was first downloaded to a local machine and then uploaded to a personal Google Drive. Below, I give access to Google Colab to mount a personal Google Drive."
   ]
  },
  {
   "cell_type": "code",
   "execution_count": null,
   "metadata": {
    "colab": {
     "base_uri": "https://localhost:8080/"
    },
    "id": "vRhbAMHIvhlV",
    "outputId": "3bf84d92-89dc-4bac-829d-3e5c35f96926"
   },
   "outputs": [
    {
     "name": "stdout",
     "output_type": "stream",
     "text": [
      "Mounted at /content/drive\n"
     ]
    }
   ],
   "source": [
    "import google\n",
    "google.colab.drive.mount('/content/drive', force_remount=True)"
   ]
  },
  {
   "cell_type": "markdown",
   "metadata": {
    "id": "Vpm3Tu3Yvp7v"
   },
   "source": [
    "The *polars* library was used to store data in its efficient LazyFrames and DataFrames, two tabular data structures. LazyFrames are critical for this analysis because through them, *polars* performs lazy evaluation and notably reduces System RAM usage. This is a significant benefit because System RAM is limited for free users of Google Colab."
   ]
  },
  {
   "cell_type": "code",
   "execution_count": null,
   "metadata": {
    "colab": {
     "base_uri": "https://localhost:8080/"
    },
    "id": "zTE-RNkH4LMj",
    "outputId": "cf03f2ac-7e40-4e7a-c0a8-569101c558c1"
   },
   "outputs": [
    {
     "name": "stdout",
     "output_type": "stream",
     "text": [
      "data: naive plan: (run LazyFrame.explain(optimized=True) to see the optimized plan)\n",
      "\n",
      "Csv SCAN [/content/drive/My Drive/data.csv]\n",
      "PROJECT */64791 COLUMNS\n"
     ]
    }
   ],
   "source": [
    "import polars\n",
    "# Read the data from a personal Google Drive file.\n",
    "data = polars.scan_csv(\"/content/drive/My Drive/data.csv\")\n",
    "print(\"data:\", data)"
   ]
  },
  {
   "cell_type": "markdown",
   "metadata": {
    "id": "rAZRosI7waFB"
   },
   "source": [
    "As shown above, the data consists of 64,791 columns. To prevent negative effects from the \"Curse of Dimensionality\", the next several cells of code focus on reducing the number of features. The first attempt is to subset the features intended for use as input into the k-means clustering algorithm. Vivancos states that the first 64,000 columns contain the raw EEG data in numeric form, where each integer represents microvolts collected from a particular section of the brain. Each of those 64,000 columns are named  based on the location of the brain that the sensor targeted and the receiving signal channel."
   ]
  },
  {
   "cell_type": "code",
   "execution_count": null,
   "metadata": {
    "colab": {
     "base_uri": "https://localhost:8080/"
    },
    "id": "t3FDs0sQwbmf",
    "outputId": "1f0c0697-a837-4543-bd6a-85ba06386a44"
   },
   "outputs": [],
   "source": [
    "# Get the names of the first 64,000 columns.\n",
    "X = data.select(data.collect_schema().names()[0:64000])\n",
    "print(\"X:\", X)"
   ]
  },
  {
   "cell_type": "markdown",
   "metadata": {
    "id": "9kJLA-MCw4uk"
   },
   "source": [
    "Because of the LazyFrame's lazy evaluation, the data is not actually subset yet until computation is explicitly required. Before doing so, the columns' data types were checked to confirm that they were numeric."
   ]
  },
  {
   "cell_type": "code",
   "execution_count": null,
   "metadata": {
    "colab": {
     "base_uri": "https://localhost:8080/"
    },
    "id": "JO6bHzFxw6Ri",
    "outputId": "35662167-1ea1-4456-a2e6-290587aec237"
   },
   "outputs": [],
   "source": [
    "dtypes = X.collect_schema().dtypes()\n",
    "print(\"dtypes:\", dtypes)"
   ]
  },
  {
   "cell_type": "markdown",
   "metadata": {
    "id": "4mc7U9YeiK57"
   },
   "source": [
    "Below is code that iterates over the \"dtypes\" list to check whether any of the columns contain something other than integers."
   ]
  },
  {
   "cell_type": "code",
   "execution_count": null,
   "metadata": {
    "colab": {
     "base_uri": "https://localhost:8080/"
    },
    "id": "twL6TVXbiNm_",
    "outputId": "f615d0a3-149a-4801-a08e-5d5e45b39671"
   },
   "outputs": [
    {
     "name": "stdout",
     "output_type": "stream",
     "text": [
      "Number of Int64 columns: 64000\n",
      "Number of columns that are NOT Int64: 0\n"
     ]
    }
   ],
   "source": [
    "# Iterate over ever data type and compare\n",
    "# to make sure that it is Int64.\n",
    "dtype_int = 0\n",
    "dtype_not_int = 0\n",
    "for dtype in dtypes:\n",
    "  if str(dtype) == \"Int64\":\n",
    "    dtype_int += 1\n",
    "  else:\n",
    "    dtype_not_int += 1\n",
    "print(\"Number of Int64 columns:\", dtype_int)\n",
    "print(\"Number of columns that are NOT Int64:\", dtype_not_int)"
   ]
  },
  {
   "cell_type": "markdown",
   "metadata": {
    "id": "6AC-9eHRSMRZ"
   },
   "source": [
    "Now that it is confirmed that all columns are numeric, this opens the path for further feature selection and extraction. Columns will first be selected based on variance and then principle component analysis will be performed to transform the data and extract a considerably smaller amount of features with which to cluster the data. Below, each of the subset 64,000 columns are aggregated by the variance of their data values."
   ]
  },
  {
   "cell_type": "code",
   "execution_count": null,
   "metadata": {
    "colab": {
     "base_uri": "https://localhost:8080/"
    },
    "id": "KGmPNLfBSO43",
    "outputId": "5eba2354-8e13-4c8e-af78-6b8c58f01579"
   },
   "outputs": [
    {
     "name": "stdout",
     "output_type": "stream",
     "text": [
      "var: shape: (1, 64_000)\n",
      "┌──────────┬──────────┬──────────┬──────────┬───┬──────────┬──────────┬──────────┬──────────┐\n",
      "│ FP1_0    ┆ FP1_1    ┆ FP1_2    ┆ FP1_3    ┆ … ┆ I2_496   ┆ I2_497   ┆ I2_498   ┆ I2_499   │\n",
      "│ ---      ┆ ---      ┆ ---      ┆ ---      ┆   ┆ ---      ┆ ---      ┆ ---      ┆ ---      │\n",
      "│ f64      ┆ f64      ┆ f64      ┆ f64      ┆   ┆ f64      ┆ f64      ┆ f64      ┆ f64      │\n",
      "╞══════════╪══════════╪══════════╪══════════╪═══╪══════════╪══════════╪══════════╪══════════╡\n",
      "│ 2.4504e8 ┆ 2.5082e8 ┆ 2.4936e8 ┆ 2.4835e8 ┆ … ┆ 1.9458e8 ┆ 1.9877e8 ┆ 2.0167e8 ┆ 2.0008e8 │\n",
      "└──────────┴──────────┴──────────┴──────────┴───┴──────────┴──────────┴──────────┴──────────┘\n"
     ]
    }
   ],
   "source": [
    "# Call .collect() at the end to convert the result to a DataFrame.\n",
    "# This prevents lazy evaluation but allows for actual computation.\n",
    "var = X.var().collect()\n",
    "print(\"var:\", var)"
   ]
  },
  {
   "cell_type": "markdown",
   "metadata": {
    "id": "ITI6cGDHgM0t"
   },
   "source": [
    "The variance values were then extracted from the first row of the DataFrame produced and a histogram of these values was generated with the library *matplotlib*."
   ]
  },
  {
   "cell_type": "code",
   "execution_count": null,
   "metadata": {
    "colab": {
     "base_uri": "https://localhost:8080/",
     "height": 555
    },
    "id": "3lkf1wS3gN-O",
    "outputId": "26cbfe70-f539-4a0c-ef91-3ec68c9d5fd3"
   },
   "outputs": [
    {
     "data": {
      "text/plain": [
       "(array([5.611e+04, 6.391e+03, 4.990e+02, 0.000e+00, 0.000e+00, 0.000e+00,\n",
       "        0.000e+00, 4.400e+01, 4.650e+02, 4.910e+02]),\n",
       " array([1.02560964e+08, 5.08958877e+08, 9.15356789e+08, 1.32175470e+09,\n",
       "        1.72815261e+09, 2.13455053e+09, 2.54094844e+09, 2.94734635e+09,\n",
       "        3.35374426e+09, 3.76014218e+09, 4.16654009e+09]),\n",
       " <BarContainer object of 10 artists>)"
      ]
     },
     "execution_count": 8,
     "metadata": {},
     "output_type": "execute_result"
    },
    {
     "data": {
      "image/png": "[encoded data removed]",
      "text/plain": [
       "<Figure size 640x480 with 1 Axes>"
      ]
     },
     "metadata": {},
     "output_type": "display_data"
    }
   ],
   "source": [
    "# Obtain an array and use it to generate a histogram.\n",
    "var = var.row(0)\n",
    "import matplotlib\n",
    "matplotlib.pyplot.hist(var)"
   ]
  },
  {
   "cell_type": "markdown",
   "metadata": {
    "id": "K3NRKg8fuBdR"
   },
   "source": [
    "The histogram above demonstrates that there are two distinct groups of columns in the data, with one group having much higher variance than the other. The Google Colab resources on the free tier are extremely limited for big data analysis, with the earlier variance calculation nearly exhausting the 12 GB of System RAM available and disconnecting the runtime, and therefore only columns with a high amount of variance were kept for the remainder of this analysis. An arbitrary threshold was decided on by obtaining the maximum variance value and dividing by ten. There is no particular precedent in EEG data for this kind of varianc-based selection, and so a simple adaptive threshold is used here because it can be applied later on to other datasets in a reproducible manner."
   ]
  },
  {
   "cell_type": "code",
   "execution_count": null,
   "metadata": {
    "colab": {
     "base_uri": "https://localhost:8080/"
    },
    "id": "hrKxqCEAuCRK",
    "outputId": "2bd0eac7-e4d6-4508-8abc-902fd62b7870"
   },
   "outputs": [
    {
     "name": "stdout",
     "output_type": "stream",
     "text": [
      "variance threshold: 416654008.8650125\n",
      "length of columns_to_keep: 17642\n"
     ]
    }
   ],
   "source": [
    "# Calculate a variance threshold. Iterate through the list of column\n",
    "# names and only append names that match columns with a high enough variance.\n",
    "names = X.collect_schema().names()\n",
    "number = 0\n",
    "columns_to_keep = []\n",
    "variance_threshold = max(var) / 10\n",
    "print(\"variance threshold:\", variance_threshold)\n",
    "for value in var:\n",
    "  if value > variance_threshold:\n",
    "    columns_to_keep.append(names[number])\n",
    "  number += 1\n",
    "print(\"length of columns_to_keep:\", len(columns_to_keep))"
   ]
  },
  {
   "cell_type": "markdown",
   "metadata": {
    "id": "I4eDv7EpwnzC"
   },
   "source": [
    "17,642 columns were kept after this selection. To reduce this number further to avoid the \"Curse of Dimensionality\", principle component analysis was performed using *scikit-learn*. Because some of the columns had a large variance relative to the others, there may be extreme outliers in the data; the RobustScaler was used before PCA to prevent the negative effect of outliers. Furthermore, data on the other axis was filtered out. Some of the observations were collected by Vivancos as \"blanks\", data collected during buffer time in between images. He did this to avoid bias in the data from previous images he viewed on the screen. Although these values are useful for determining variance because they present a baseline value that may mitigate the effect of outliers, they are not practical for use in the final analysis because they are not meaningful observations. The data now consists of 17,642 columns and 10,000 rows."
   ]
  },
  {
   "cell_type": "code",
   "execution_count": null,
   "metadata": {
    "colab": {
     "base_uri": "https://localhost:8080/"
    },
    "id": "jxW-duVqwomm",
    "outputId": "d20f5621-996f-490d-ab50-f134e8013b6b"
   },
   "outputs": [
    {
     "name": "stdout",
     "output_type": "stream",
     "text": [
      "X: [[ 0.79051704  0.23816922 -0.95500469 ... -0.61578402 -1.11317566\n",
      "   0.16107688]\n",
      " [ 0.62680892  0.68822314  1.02150163 ... -0.19039437 -1.33950788\n",
      "  -1.3746817 ]\n",
      " [ 0.50927211  0.13017968 -0.22954129 ... -0.19883642 -0.00611089\n",
      "  -1.22666818]\n",
      " ...\n",
      " [-0.05631747 -0.71308194 -1.08714101 ...  0.4907595   1.42353267\n",
      "   1.49316067]\n",
      " [ 0.4184433   0.50620556  0.25780517 ...  0.37996694  0.23851582\n",
      "  -0.61378847]\n",
      " [-0.61945611 -1.84942148 -1.15360222 ...  0.8587731   0.7959057\n",
      "   0.60148241]]\n"
     ]
    }
   ],
   "source": [
    "# Select the 17,642 columns specified earlier and gather every other row.\n",
    "# Every other row is a blank.\n",
    "X = X.select(columns_to_keep).gather_every(2, offset=1).collect()\n",
    "import sklearn.preprocessing\n",
    "# Transform the DataFrame \"X\" with the RobustScaler's default parameters.\n",
    "X = sklearn.preprocessing.RobustScaler().fit_transform(X)\n",
    "print(\"X:\", X)"
   ]
  },
  {
   "cell_type": "markdown",
   "metadata": {
    "id": "HVfHWzcjAqJI"
   },
   "source": [
    "Principle component analysis (PCA) was first performed with the default settings in *scikit-learn* to determine how many principle components to keep."
   ]
  },
  {
   "cell_type": "code",
   "execution_count": null,
   "metadata": {
    "colab": {
     "base_uri": "https://localhost:8080/",
     "height": 448
    },
    "id": "8nBzUU9gAytD",
    "outputId": "25502e84-4620-4021-8d61-29ae45050925"
   },
   "outputs": [
    {
     "data": {
      "text/plain": [
       "[<matplotlib.lines.Line2D at 0x78e1c94000d0>]"
      ]
     },
     "execution_count": 11,
     "metadata": {},
     "output_type": "execute_result"
    },
    {
     "data": {
      "image/png": "[encoded data removed]",
      "text/plain": [
       "<Figure size 640x480 with 1 Axes>"
      ]
     },
     "metadata": {},
     "output_type": "display_data"
    }
   ],
   "source": [
    "import sklearn.decomposition\n",
    "pca = sklearn.decomposition.PCA().fit(X)\n",
    "# Create a plot with the cumulative summation of the explained variance ratios.\n",
    "# The ratios are ordered from highest explained variance to lowest explained variance.\n",
    "matplotlib.pyplot.plot(pca.explained_variance_ratio_.cumsum())"
   ]
  },
  {
   "cell_type": "markdown",
   "metadata": {
    "id": "SvDeNVt6L7on"
   },
   "source": [
    "The plot above demonstrates that even without all of the principle components, a large amount of the variance within the data can be explained. Below is code to determine the appropriate number of components to use moving forward by stopping once 90% explained variance has been reached. Furthermore, the labels needed to evaluate the work of the k-means clustering later on are subset now.\n"
   ]
  },
  {
   "cell_type": "code",
   "execution_count": null,
   "metadata": {
    "colab": {
     "base_uri": "https://localhost:8080/"
    },
    "id": "SG_pW61DQ8vZ",
    "outputId": "78938521-4ce3-485d-a336-66776b57c695"
   },
   "outputs": [
    {
     "name": "stdout",
     "output_type": "stream",
     "text": [
      "y: shape: (10_000, 1)\n",
      "┌───────┐\n",
      "│ label │\n",
      "│ ---   │\n",
      "│ i64   │\n",
      "╞═══════╡\n",
      "│ 7     │\n",
      "│ 2     │\n",
      "│ 1     │\n",
      "│ 0     │\n",
      "│ 4     │\n",
      "│ …     │\n",
      "│ 2     │\n",
      "│ 3     │\n",
      "│ 4     │\n",
      "│ 5     │\n",
      "│ 6     │\n",
      "└───────┘\n",
      "n_unique: 10\n",
      "0.9000130842968745 explained variance ratio with 1471 components!\n"
     ]
    }
   ],
   "source": [
    "# Make sure to use gather_every again to remove the blanks!\n",
    "y = data.select(\"label\").gather_every(2, offset=1).collect()\n",
    "print(\"y:\", y)\n",
    "n_unique = y.n_unique()\n",
    "print(\"n_unique:\", n_unique)\n",
    "\n",
    "# \"ratios\" is an array. Iterate through it and then increment \"counter\"\n",
    "# to keep track of where the 90% mark was reached.\n",
    "counter = 0\n",
    "ratios = pca.explained_variance_ratio_.cumsum()\n",
    "for ratio in ratios:\n",
    "  if ratio > .90:\n",
    "    print(f\"{ratio} explained variance ratio with {counter} components!\")\n",
    "    break\n",
    "  counter += 1"
   ]
  },
  {
   "cell_type": "markdown",
   "metadata": {
    "id": "sODwfA9_RLU_"
   },
   "source": [
    "PCA was performed again with the minimum number of components required to explain at least 90% of the variance. The data was transformed along the components and then fed into *scikit-learn*'s k-means clustering algorithm. The number of clusters is equivalent to the number of unique labels, which is ten. However, it is unclear at first whether the clusters predicted represent gruops that consist of mainly one \"ground truth\" label."
   ]
  },
  {
   "cell_type": "code",
   "execution_count": null,
   "metadata": {
    "colab": {
     "base_uri": "https://localhost:8080/"
    },
    "id": "DVZxSBj8L8SI",
    "outputId": "4c59e7a1-51a3-4637-ca43-8b9cf1dfb2d9"
   },
   "outputs": [
    {
     "name": "stdout",
     "output_type": "stream",
     "text": [
      "predictions: [8 8 4 ... 4 7 7]\n"
     ]
    }
   ],
   "source": [
    "# Transform the input features and feed them into the k-means clustering\n",
    "# algorithm. Note that earlier, only \"fit()\" was called on the PCA instance.\n",
    "X = sklearn.decomposition.PCA(n_components=counter).fit_transform(X)\n",
    "import sklearn.cluster\n",
    "predictions = sklearn.cluster.KMeans(n_clusters=n_unique).fit_predict(X)\n",
    "print(\"predictions:\", predictions)"
   ]
  },
  {
   "cell_type": "markdown",
   "metadata": {
    "id": "wbcV4h_pG_WR"
   },
   "source": [
    "The number of occurences of each label and prediction were counted; the counts are shown below."
   ]
  },
  {
   "cell_type": "code",
   "execution_count": null,
   "metadata": {
    "colab": {
     "base_uri": "https://localhost:8080/"
    },
    "id": "PUqSRTp8QoxU",
    "outputId": "2ebc53bd-e719-4a37-ae4e-479e3a270da7"
   },
   "outputs": [
    {
     "name": "stdout",
     "output_type": "stream",
     "text": [
      "labels_set: [0, 1, 2, 3, 4, 5, 6, 7, 8, 9]\n",
      "predictions_set: [0, 1, 2, 3, 4, 5, 6, 7, 8, 9]\n",
      "labels_dictionary: {0: 980, 1: 1135, 2: 1032, 3: 1010, 4: 982, 5: 892, 6: 958, 7: 1028, 8: 974, 9: 1009}\n",
      "predictions_dictionary: {0: 65, 1: 216, 2: 266, 3: 2192, 4: 2153, 5: 258, 6: 289, 7: 2120, 8: 2234, 9: 207}\n"
     ]
    }
   ],
   "source": [
    "# Create some data structures to hold labels and predictions.\n",
    "labels = y.rows()\n",
    "labels = [label[0] for label in labels]\n",
    "labels_set = [label for label in set(labels)]\n",
    "labels_set.sort()\n",
    "print(\"labels_set:\", labels_set)\n",
    "predictions_set = list(set(predictions))\n",
    "print(\"predictions_set:\", predictions_set)\n",
    "labels_dictionary = {}\n",
    "predictions_dictionary = {}\n",
    "\n",
    "# Populate the dictionaries through iteration\n",
    "# to avoid \"hard-coding\".\n",
    "for label in labels:\n",
    "  if label in labels_dictionary:\n",
    "    labels_dictionary[label] += 1\n",
    "  else:\n",
    "    labels_dictionary[label] = 1\n",
    "\n",
    "for prediction in predictions:\n",
    "  if prediction in predictions_dictionary:\n",
    "    predictions_dictionary[prediction] += 1\n",
    "  else:\n",
    "    predictions_dictionary[prediction] = 1\n",
    "\n",
    "# Sort the dictionaries and print them out!\n",
    "labels_dictionary = dict(sorted(labels_dictionary.items()))\n",
    "predictions_dictionary = dict(sorted(predictions_dictionary.items()))\n",
    "print(\"labels_dictionary:\", labels_dictionary)\n",
    "print(\"predictions_dictionary:\", predictions_dictionary)"
   ]
  },
  {
   "cell_type": "markdown",
   "metadata": {
    "id": "E4limmH3qsb6"
   },
   "source": [
    "The true labels themselves had a relatively even distributionof data points compared to the predicted groups. To clarify which of the prediction clusters may line up with the appropriate labels, bar charts were created to count the number of rows labeled the same in each predicted cluster."
   ]
  },
  {
   "cell_type": "code",
   "execution_count": null,
   "metadata": {
    "colab": {
     "base_uri": "https://localhost:8080/",
     "height": 1000
    },
    "id": "mDRHtegQrB2Q",
    "outputId": "1ea50af5-0582-4956-c680-732152f156ef"
   },
   "outputs": [
    {
     "name": "stdout",
     "output_type": "stream",
     "text": [
      "BAR PLOT FOR PREDICTION CLUSTER: 0\n",
      "TOTAL POINTS IN THE CLUSTER: 65\n"
     ]
    },
    {
     "data": {
      "image/png": "[encoded data removed]",
      "text/plain": [
       "<Figure size 640x480 with 1 Axes>"
      ]
     },
     "metadata": {},
     "output_type": "display_data"
    },
    {
     "name": "stdout",
     "output_type": "stream",
     "text": [
      "BAR PLOT FOR PREDICTION CLUSTER: 1\n",
      "TOTAL POINTS IN THE CLUSTER: 216\n"
     ]
    },
    {
     "data": {
      "image/png": "[encoded data removed]",
      "text/plain": [
       "<Figure size 640x480 with 1 Axes>"
      ]
     },
     "metadata": {},
     "output_type": "display_data"
    },
    {
     "name": "stdout",
     "output_type": "stream",
     "text": [
      "BAR PLOT FOR PREDICTION CLUSTER: 2\n",
      "TOTAL POINTS IN THE CLUSTER: 266\n"
     ]
    },
    {
     "data": {
      "image/png": "[encoded data removed]",
      "text/plain": [
       "<Figure size 640x480 with 1 Axes>"
      ]
     },
     "metadata": {},
     "output_type": "display_data"
    },
    {
     "name": "stdout",
     "output_type": "stream",
     "text": [
      "BAR PLOT FOR PREDICTION CLUSTER: 3\n",
      "TOTAL POINTS IN THE CLUSTER: 2192\n"
     ]
    },
    {
     "data": {
      "image/png": "[encoded data removed]",
      "text/plain": [
       "<Figure size 640x480 with 1 Axes>"
      ]
     },
     "metadata": {},
     "output_type": "display_data"
    },
    {
     "name": "stdout",
     "output_type": "stream",
     "text": [
      "BAR PLOT FOR PREDICTION CLUSTER: 4\n",
      "TOTAL POINTS IN THE CLUSTER: 2153\n"
     ]
    },
    {
     "data": {
      "image/png": "[encoded data removed]",
      "text/plain": [
       "<Figure size 640x480 with 1 Axes>"
      ]
     },
     "metadata": {},
     "output_type": "display_data"
    },
    {
     "name": "stdout",
     "output_type": "stream",
     "text": [
      "BAR PLOT FOR PREDICTION CLUSTER: 5\n",
      "TOTAL POINTS IN THE CLUSTER: 258\n"
     ]
    },
    {
     "data": {
      "image/png": "[encoded data removed]",
      "text/plain": [
       "<Figure size 640x480 with 1 Axes>"
      ]
     },
     "metadata": {},
     "output_type": "display_data"
    },
    {
     "name": "stdout",
     "output_type": "stream",
     "text": [
      "BAR PLOT FOR PREDICTION CLUSTER: 6\n",
      "TOTAL POINTS IN THE CLUSTER: 289\n"
     ]
    },
    {
     "data": {
      "image/png": "[encoded data removed]",
      "text/plain": [
       "<Figure size 640x480 with 1 Axes>"
      ]
     },
     "metadata": {},
     "output_type": "display_data"
    },
    {
     "name": "stdout",
     "output_type": "stream",
     "text": [
      "BAR PLOT FOR PREDICTION CLUSTER: 7\n",
      "TOTAL POINTS IN THE CLUSTER: 2120\n"
     ]
    },
    {
     "data": {
      "image/png": "[encoded data removed]",
      "text/plain": [
       "<Figure size 640x480 with 1 Axes>"
      ]
     },
     "metadata": {},
     "output_type": "display_data"
    },
    {
     "name": "stdout",
     "output_type": "stream",
     "text": [
      "BAR PLOT FOR PREDICTION CLUSTER: 8\n",
      "TOTAL POINTS IN THE CLUSTER: 2234\n"
     ]
    },
    {
     "data": {
      "image/png": "[encoded data removed]",
      "text/plain": [
       "<Figure size 640x480 with 1 Axes>"
      ]
     },
     "metadata": {},
     "output_type": "display_data"
    },
    {
     "name": "stdout",
     "output_type": "stream",
     "text": [
      "BAR PLOT FOR PREDICTION CLUSTER: 9\n",
      "TOTAL POINTS IN THE CLUSTER: 207\n"
     ]
    },
    {
     "data": {
      "image/png": "[encoded data removed]",
      "text/plain": [
       "<Figure size 640x480 with 1 Axes>"
      ]
     },
     "metadata": {},
     "output_type": "display_data"
    }
   ],
   "source": [
    "# Create bar charts by iterating over all the predictions,\n",
    "# storing the counts in a dictionary, and then plotting\n",
    "# the dictionary data before moving on.\n",
    "for cluster in predictions_set:\n",
    "  label_counter = 0\n",
    "  labels_dictionary = {}\n",
    "  for prediction in predictions:\n",
    "    if prediction == cluster:\n",
    "      if labels[label_counter] in labels_dictionary:\n",
    "        labels_dictionary[labels[label_counter]] += 1\n",
    "      else:\n",
    "        labels_dictionary[labels[label_counter]] = 1\n",
    "    label_counter += 1\n",
    "  bar_categories = list(labels_dictionary.keys())\n",
    "  bar_values = list(labels_dictionary.values())\n",
    "  print(\"BAR PLOT FOR PREDICTION CLUSTER:\", cluster)\n",
    "  print(\"TOTAL POINTS IN THE CLUSTER:\", sum(bar_values))\n",
    "  matplotlib.pyplot.bar(bar_categories, bar_values)\n",
    "  matplotlib.pyplot.show()"
   ]
  },
  {
   "cell_type": "markdown",
   "metadata": {
    "id": "93EkH6xL4Qpb"
   },
   "source": [
    "## CONCLUSION\n",
    "\n",
    "The machine learning process presented here failed to facilitate k-means clustering of the data in a way that reflected the labels attached to the data. The bar charts for each predicted cluster show that no predicted cluster is dominated by data points belonging to one particular label. This could either indicate a flaw in the analysis or a fundamental lack of EEG patterns associated with the labels. Each annotated label from 0 through 9 conveys what kind of handwritten digit Vivancos saw on the screen, with a label of \"0\" representing EEG data associated with Vivancos seeing some sort of handwritten \"0\" on the screen. Since Vivancos did not provide an initial analysis in his preprint, it is unclear whether or not there are any relationships between the EEG data and the perception of a handwritten digit to begin with. Further research could illuminate some EEG correlates associated with the perception of handwriting, and whether semantic understanding leads to similar brain activity patterns."
   ]
  },
  {
   "cell_type": "markdown",
   "metadata": {
    "id": "qO7uXK7pNDPr"
   },
   "source": [
    "## REFERENCES\n",
    "\n",
    "1. \"Machine learning techniques for electroencephalogram based brain-computer interface: A systematic literature review\". August 2023. https://doi.org/10.1016/j.measen.2023.100823\n",
    "2. \"Distinguishing the Neural Correlates of Perceptual Awareness and Postperceptual Processing\". June 2020. https://doi.org/10.1523/JNEUROSCI.0120-20.2020\n",
    "3. \"Neural events and perceptual awareness\". April 2021. https://doi.org/10.1016/S0010-0277(00)00125-6\n",
    "4. \"MindBigData 2023 MNIST-8B\". June 2023. https://huggingface.co/datasets/DavidVivancos/MindBigData2023_MNIST-8B\n",
    "5. \"MindBigData 2023 MNIST-8B The 8 billion datapoints Multimodal Dataset of Brain Signals\". June 2023. https://arxiv.org/abs/2306.00455\n"
   ]
  }
 ],
 "metadata": {
  "colab": {
   "provenance": []
  },
  "kernelspec": {
   "display_name": "Python 3 (ipykernel)",
   "language": "python",
   "name": "python3"
  },
  "language_info": {
   "codemirror_mode": {
    "name": "ipython",
    "version": 3
   },
   "file_extension": ".py",
   "mimetype": "text/x-python",
   "name": "python",
   "nbconvert_exporter": "python",
   "pygments_lexer": "ipython3",
   "version": "3.12.6"
  }
 },
 "nbformat": 4,
 "nbformat_minor": 4
}
