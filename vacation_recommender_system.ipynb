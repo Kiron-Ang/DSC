{
  "nbformat": 4,
  "nbformat_minor": 0,
  "metadata": {
    "colab": {
      "provenance": [],
      "authorship_tag": "ABX9TyOrD/h7zB/UNWn/vwF408sb",
      "include_colab_link": true
    },
    "kernelspec": {
      "name": "python3",
      "display_name": "Python 3"
    },
    "language_info": {
      "name": "python"
    }
  },
  "cells": [
    {
      "cell_type": "markdown",
      "metadata": {
        "id": "view-in-github",
        "colab_type": "text"
      },
      "source": [
        "<a href=\"https://colab.research.google.com/github/Kiron-Ang/DSC/blob/main/vacation_recommender_system.ipynb\" target=\"_parent\"><img src=\"https://colab.research.google.com/assets/colab-badge.svg\" alt=\"Open In Colab\"/></a>"
      ]
    },
    {
      "cell_type": "markdown",
      "source": [
        "# Vacation Recommender System\n",
        "### Kiron Ang, November 2024\n",
        "\n",
        "This IPYNB file contains Python code for a content-based recommender system to help plan a new vacation. Users can enter the month and country of their previous vacations and then receive recommended months and countries for future vacations.\n",
        "\n",
        "The issue with a collaborative recommender system lies in the bias in the sample selection. Using popular reviews online will bias the recommendations to vacations that have frequently been made, such as trips to beaches during the summer months. Less common trips should also be included in the system's recommendations because the road less traveled can still be rewarding, due to factors that change based on the time of year such as climate, fluctuating prices, and geopolitical factors."
      ],
      "metadata": {
        "id": "sWfN11eouhvD"
      }
    },
    {
      "cell_type": "code",
      "source": [
        "!python -V"
      ],
      "metadata": {
        "id": "NBySM6TrulTy",
        "colab": {
          "base_uri": "https://localhost:8080/"
        },
        "outputId": "a3e033b6-a070-48b6-b125-540873d0c4b6"
      },
      "execution_count": 1,
      "outputs": [
        {
          "output_type": "stream",
          "name": "stdout",
          "text": [
            "Python 3.10.12\n"
          ]
        }
      ]
    },
    {
      "cell_type": "code",
      "source": [
        "!pip install -U polars > output.txt\n",
        "import polars\n",
        "print(\"polars\", polars.__version__)\n",
        "\n",
        "!pip install -U scikit-learn > output.txt\n",
        "import sklearn\n",
        "print(\"scikit-learn\", sklearn.__version__)\n",
        "\n",
        "!pip install -U ipywidgets > output.txt\n",
        "import ipywidgets\n",
        "print(\"ipywidgets\", ipywidgets.__version__)\n",
        "\n",
        "import IPython\n",
        "print(\"IPython\", IPython.__version__)"
      ],
      "metadata": {
        "id": "GEhCcklLMApU",
        "colab": {
          "base_uri": "https://localhost:8080/"
        },
        "outputId": "7d7fe5c8-345d-44a1-a73b-86fde13708f0"
      },
      "execution_count": 2,
      "outputs": [
        {
          "output_type": "stream",
          "name": "stdout",
          "text": [
            "polars 1.12.0\n",
            "scikit-learn 1.5.2\n",
            "ipywidgets 8.1.5\n",
            "IPython 7.34.0\n"
          ]
        }
      ]
    },
    {
      "cell_type": "code",
      "source": [
        "# List of 193 countries taken from\n",
        "# www.un.org/en/about-us/member-states\n",
        "countries = [\"Afghanistan\", \"Albania\", \"Algeria\", \"Andorra\", \"Angola\", \"Antigua and Barbuda\", \"Argentina\", \"Armenia\", \"Australia\", \"Austria\", \"Azerbaijan\", \"Bahamas\", \"Bahrain\", \"Bangladesh\", \"Barbados\", \"Belarus\", \"Belgium\", \"Belize\", \"Benin\", \"Bhutan\", \"Bolivia (Plurinational State of)\", \"Bosnia and Herzegovina\", \"Botswana\", \"Brazil\", \"Brunei Darussalam\", \"Bulgaria\", \"Burkina Faso\", \"Burundi\", \"Cabo Verde\", \"Cambodia\", \"Cameroon\", \"Canada\", \"Central African Republic\", \"Chad\", \"Chile\", \"China\", \"Colombia\", \"Comoros\", \"Congo\", \"Costa Rica\", \"Côte D'Ivoire\", \"Croatia\", \"Cuba\", \"Cyprus\", \"Czechia\", \"Democratic People's Republic of Korea\", \"Democratic Republic of the Congo\", \"Denmark\", \"Djibouti\", \"Dominica\", \"Dominican Republic\", \"Ecuador\", \"Egypt\", \"El Salvador\", \"Equatorial Guinea\", \"Eritrea\", \"Estonia\", \"Eswatini\", \"Ethiopia\", \"Fiji\", \"Finland\", \"France\", \"Gabon\", \"Gambia (Republic of The)\", \"Georgia\", \"Germany\", \"Ghana\", \"Greece\", \"Grenada\", \"Guatemala\", \"Guinea\", \"Guinea Bissau\", \"Guyana\", \"Haiti\", \"Honduras\", \"Hungary\", \"Iceland\", \"India\", \"Indonesia\", \"Iran (Islamic Republic of)\", \"Iraq\", \"Ireland\", \"Israel\", \"Italy\", \"Jamaica\", \"Japan\", \"Jordan\", \"Kazakhstan\", \"Kenya\", \"Kiribati\", \"Kuwait\", \"Kyrgyzstan\", \"Lao People’s Democratic Republic\", \"Latvia\", \"Lebanon\", \"Lesotho\", \"Liberia\", \"Libya\", \"Liechtenstein\", \"Lithuania\", \"Luxembourg\", \"Madagascar\", \"Malawi\", \"Malaysia\", \"Maldives\", \"Mali\", \"Malta\", \"Marshall Islands\", \"Mauritania\", \"Mauritius\", \"Mexico\", \"Micronesia (Federated States of)\", \"Monaco\", \"Mongolia\", \"Montenegro\", \"Morocco\", \"Mozambique\", \"Myanmar\", \"Namibia\", \"Nauru\", \"Nepal\", \"Netherlands (Kingdom of the)\", \"New Zealand\", \"Nicaragua\", \"Niger\", \"Nigeria\", \"North Macedonia\", \"Norway\", \"Oman\", \"Pakistan\", \"Palau\", \"Panama\", \"Papua New Guinea\", \"Paraguay\", \"Peru\", \"Philippines\", \"Poland\", \"Portugal\", \"Qatar\", \"Republic of Korea\", \"Republic of Moldova\", \"Romania\", \"Russian Federation\", \"Rwanda\", \"Saint Kitts and Nevis\", \"Saint Lucia\", \"Saint Vincent and the Grenadines\", \"Samoa\", \"San Marino\", \"Sao Tome and Principe\", \"Saudi Arabia\", \"Senegal\", \"Serbia\", \"Seychelles\", \"Sierra Leone\", \"Singapore\", \"Slovakia\", \"Slovenia\", \"Solomon Islands\", \"Somalia\", \"South Africa\", \"South Sudan\", \"Spain\", \"Sri Lanka\", \"Sudan\", \"Suriname\", \"Sweden\", \"Switzerland\", \"Syrian Arab Republic\", \"Tajikistan\", \"Thailand\", \"Timor-Leste\", \"Togo\", \"Tonga\", \"Trinidad and Tobago\", \"Tunisia\", \"Türkiye\", \"Turkmenistan\", \"Tuvalu\", \"Uganda\", \"Ukraine\", \"United Arab Emirates\", \"United Kingdom of Great Britain and Northern Ireland\", \"United Republic of Tanzania\", \"United States of America\", \"Uruguay\", \"Uzbekistan\", \"Vanuatu\", \"Venezuela, Bolivarian Republic of\", \"Viet Nam\", \"Yemen\", \"Zambia\", \"Zimbabwe\"]\n",
        "\n",
        "# Define a list of months\n",
        "months = [\n",
        "    'January', 'February', 'March', 'April', 'May',\n",
        "    'June', 'July', 'August', 'September', 'October',\n",
        "    'November', 'December'\n",
        "]\n",
        "\n",
        "# Create a dropdown for seasons\n",
        "month_dropdown = ipywidgets.Dropdown(\n",
        "    options=months,\n",
        "    description='Month:',\n",
        ")\n",
        "\n",
        "# Create a dropdown for countries\n",
        "country_dropdown = ipywidgets.Dropdown(\n",
        "    options=countries,\n",
        "    description='Country:',\n",
        ")\n",
        "\n",
        "# Initialize a dictionary to store vacation data\n",
        "past_vacations = {}\n",
        "\n",
        "# Define a function to submit survey results\n",
        "def submit_survey(month, country):\n",
        "    # Check if the month already has entries\n",
        "    if month in past_vacations:\n",
        "        # Append the country to the existing list\n",
        "        past_vacations[month].append(country)\n",
        "    else:\n",
        "        # Create a new list for the month\n",
        "        past_vacations[month] = [country]\n",
        "    # Print new entry and current dictionary\n",
        "    print(f\"Adding a {month} trip to {country}. . .\")\n",
        "    print(f\"Vacations: {past_vacations}\")\n",
        "\n",
        "# Create a submit button\n",
        "submit_button = ipywidgets.Button(description=\"Submit\")\n",
        "\n",
        "# Define what happens when the button is clicked\n",
        "def on_submit(button):\n",
        "    submit_survey(month_dropdown.value,\n",
        "                  country_dropdown.value)\n",
        "\n",
        "# Connect button click event to submission function\n",
        "submit_button.on_click(on_submit)\n",
        "\n",
        "print(\"Please use the form below to enter information\")\n",
        "print(\"about previous vacations that you enjoyed.\")\n",
        "print(\"Select the month that you traveled, along with\")\n",
        "print(\"the country that you visited. If your trip was\")\n",
        "print(\"longer than a month, then put down the month\")\n",
        "print(\"that you enjoyed the most. Fill out the form as\")\n",
        "print(\"many times as you need to. If you visited a\")\n",
        "print(\"country several times, please fill out the form\")\n",
        "print(\"for each time you visited.\")\n",
        "print(\"\")\n",
        "\n",
        "IPython.display.display(month_dropdown,\n",
        "                       country_dropdown,\n",
        "                       submit_button)"
      ],
      "metadata": {
        "id": "HXph6iT6bQij"
      },
      "execution_count": null,
      "outputs": []
    },
    {
      "cell_type": "code",
      "source": [
        "# Read in official United Nations data\n",
        "# available at data.un.org\n",
        "# For now, just compare countries based on\n",
        "# tourism expenditure, crime, and GDP\n",
        "\n",
        "link = \"https://data.un.org/_Docs/SYB/CSV/SYB66_176_202310_Tourist-Visitors%20Arrival%20and%20Expenditure.csv\"\n",
        "tourism = polars.read_csv(link, encoding = \"latin-1\")\n",
        "\n",
        "link = \"https://data.un.org/_Docs/SYB/CSV/SYB66_230_202310_GDP%20and%20GDP%20Per%20Capita.csv\"\n",
        "gdp = polars.read_csv(link, encoding = \"latin-1\")\n",
        "\n",
        "link = \"https://data.un.org/_Docs/SYB/CSV/SYB66_328_202310_Intentional%20homicides%20and%20other%20crimes.csv\"\n",
        "crime = polars.read_csv(link, encoding = \"latin-1\")"
      ],
      "metadata": {
        "id": "MALLdMw4lTki"
      },
      "execution_count": 6,
      "outputs": []
    },
    {
      "cell_type": "code",
      "source": [
        "tourism.head()"
      ],
      "metadata": {
        "colab": {
          "base_uri": "https://localhost:8080/",
          "height": 359
        },
        "id": "EBUE9sLrpdOE",
        "outputId": "83ce8c03-502a-4133-d243-8ed3c78dd83b"
      },
      "execution_count": 7,
      "outputs": [
        {
          "output_type": "execute_result",
          "data": {
            "text/plain": [
              "shape: (5, 9)\n",
              "┌────────────┬────────────┬──────┬────────────┬───┬────────────┬───────────┬───────────┬───────────┐\n",
              "│ T31        ┆ Tourist/vi ┆      ┆ _duplicate ┆ … ┆ _duplicate ┆ _duplicat ┆ _duplicat ┆ _duplicat │\n",
              "│ ---        ┆ sitor      ┆ ---  ┆ d_0        ┆   ┆ d_2        ┆ ed_3      ┆ ed_4      ┆ ed_5      │\n",
              "│ str        ┆ arrivals   ┆ str  ┆ ---        ┆   ┆ ---        ┆ ---       ┆ ---       ┆ ---       │\n",
              "│            ┆ and t…     ┆      ┆ str        ┆   ┆ str        ┆ str       ┆ str       ┆ str       │\n",
              "│            ┆ ---        ┆      ┆            ┆   ┆            ┆           ┆           ┆           │\n",
              "│            ┆ str        ┆      ┆            ┆   ┆            ┆           ┆           ┆           │\n",
              "╞════════════╪════════════╪══════╪════════════╪═══╪════════════╪═══════════╪═══════════╪═══════════╡\n",
              "│ Region/Cou ┆ null       ┆ Year ┆ Series     ┆ … ┆ Tourism    ┆ Value     ┆ Footnotes ┆ Source    │\n",
              "│ ntry/Area  ┆            ┆      ┆            ┆   ┆ arrivals   ┆           ┆           ┆           │\n",
              "│            ┆            ┆      ┆            ┆   ┆ series     ┆           ┆           ┆           │\n",
              "│            ┆            ┆      ┆            ┆   ┆ type f…    ┆           ┆           ┆           │\n",
              "│ 4          ┆ Afghanista ┆ 2010 ┆ Tourism    ┆ … ┆ null       ┆ 147       ┆ null      ┆ World     │\n",
              "│            ┆ n          ┆      ┆ expenditur ┆   ┆            ┆           ┆           ┆ Tourism   │\n",
              "│            ┆            ┆      ┆ e          ┆   ┆            ┆           ┆           ┆ Organizat │\n",
              "│            ┆            ┆      ┆ (millions  ┆   ┆            ┆           ┆           ┆ ion (UN…  │\n",
              "│            ┆            ┆      ┆ …          ┆   ┆            ┆           ┆           ┆           │\n",
              "│ 4          ┆ Afghanista ┆ 2019 ┆ Tourism    ┆ … ┆ null       ┆ 85        ┆ null      ┆ World     │\n",
              "│            ┆ n          ┆      ┆ expenditur ┆   ┆            ┆           ┆           ┆ Tourism   │\n",
              "│            ┆            ┆      ┆ e          ┆   ┆            ┆           ┆           ┆ Organizat │\n",
              "│            ┆            ┆      ┆ (millions  ┆   ┆            ┆           ┆           ┆ ion (UN…  │\n",
              "│            ┆            ┆      ┆ …          ┆   ┆            ┆           ┆           ┆           │\n",
              "│ 4          ┆ Afghanista ┆ 2020 ┆ Tourism    ┆ … ┆ null       ┆ 75        ┆ null      ┆ World     │\n",
              "│            ┆ n          ┆      ┆ expenditur ┆   ┆            ┆           ┆           ┆ Tourism   │\n",
              "│            ┆            ┆      ┆ e          ┆   ┆            ┆           ┆           ┆ Organizat │\n",
              "│            ┆            ┆      ┆ (millions  ┆   ┆            ┆           ┆           ┆ ion (UN…  │\n",
              "│            ┆            ┆      ┆ …          ┆   ┆            ┆           ┆           ┆           │\n",
              "│ 8          ┆ Albania    ┆ 2010 ┆ Tourist/vi ┆ … ┆ null       ┆ 2,191     ┆ Excluding ┆ World     │\n",
              "│            ┆            ┆      ┆ sitor      ┆   ┆            ┆           ┆ nationals ┆ Tourism   │\n",
              "│            ┆            ┆      ┆ arrivals   ┆   ┆            ┆           ┆ residing  ┆ Organizat │\n",
              "│            ┆            ┆      ┆ (thou…     ┆   ┆            ┆           ┆ a…        ┆ ion (UN…  │\n",
              "└────────────┴────────────┴──────┴────────────┴───┴────────────┴───────────┴───────────┴───────────┘"
            ],
            "text/html": [
              "<div><style>\n",
              ".dataframe > thead > tr,\n",
              ".dataframe > tbody > tr {\n",
              "  text-align: right;\n",
              "  white-space: pre-wrap;\n",
              "}\n",
              "</style>\n",
              "<small>shape: (5, 9)</small><table border=\"1\" class=\"dataframe\"><thead><tr><th>T31</th><th>Tourist/visitor arrivals and tourism expenditure</th><th></th><th>_duplicated_0</th><th>_duplicated_1</th><th>_duplicated_2</th><th>_duplicated_3</th><th>_duplicated_4</th><th>_duplicated_5</th></tr><tr><td>str</td><td>str</td><td>str</td><td>str</td><td>str</td><td>str</td><td>str</td><td>str</td><td>str</td></tr></thead><tbody><tr><td>&quot;Region/Country/Area&quot;</td><td>null</td><td>&quot;Year&quot;</td><td>&quot;Series&quot;</td><td>&quot;Tourism arrivals series type&quot;</td><td>&quot;Tourism arrivals series type f…</td><td>&quot;Value&quot;</td><td>&quot;Footnotes&quot;</td><td>&quot;Source&quot;</td></tr><tr><td>&quot;4&quot;</td><td>&quot;Afghanistan&quot;</td><td>&quot;2010&quot;</td><td>&quot;Tourism expenditure (millions …</td><td>null</td><td>null</td><td>&quot;147&quot;</td><td>null</td><td>&quot;World Tourism Organization (UN…</td></tr><tr><td>&quot;4&quot;</td><td>&quot;Afghanistan&quot;</td><td>&quot;2019&quot;</td><td>&quot;Tourism expenditure (millions …</td><td>null</td><td>null</td><td>&quot;85&quot;</td><td>null</td><td>&quot;World Tourism Organization (UN…</td></tr><tr><td>&quot;4&quot;</td><td>&quot;Afghanistan&quot;</td><td>&quot;2020&quot;</td><td>&quot;Tourism expenditure (millions …</td><td>null</td><td>null</td><td>&quot;75&quot;</td><td>null</td><td>&quot;World Tourism Organization (UN…</td></tr><tr><td>&quot;8&quot;</td><td>&quot;Albania&quot;</td><td>&quot;2010&quot;</td><td>&quot;Tourist/visitor arrivals (thou…</td><td>&quot;TF&quot;</td><td>null</td><td>&quot;2,191&quot;</td><td>&quot;Excluding nationals residing a…</td><td>&quot;World Tourism Organization (UN…</td></tr></tbody></table></div>"
            ]
          },
          "metadata": {},
          "execution_count": 7
        }
      ]
    },
    {
      "cell_type": "code",
      "source": [
        "gdp.head()"
      ],
      "metadata": {
        "colab": {
          "base_uri": "https://localhost:8080/",
          "height": 255
        },
        "id": "fht1YhPyg2-G",
        "outputId": "59028f59-a83c-488f-c122-a7171cd3a68a"
      },
      "execution_count": 8,
      "outputs": [
        {
          "output_type": "execute_result",
          "data": {
            "text/plain": [
              "shape: (5, 7)\n",
              "┌───────────────┬───────────────┬──────┬──────────────┬──────────────┬──────────────┬──────────────┐\n",
              "│ T13           ┆ Gross         ┆      ┆ _duplicated_ ┆ _duplicated_ ┆ _duplicated_ ┆ _duplicated_ │\n",
              "│ ---           ┆ domestic      ┆ ---  ┆ 0            ┆ 1            ┆ 2            ┆ 3            │\n",
              "│ str           ┆ product and   ┆ str  ┆ ---          ┆ ---          ┆ ---          ┆ ---          │\n",
              "│               ┆ gro…          ┆      ┆ str          ┆ str          ┆ str          ┆ str          │\n",
              "│               ┆ ---           ┆      ┆              ┆              ┆              ┆              │\n",
              "│               ┆ str           ┆      ┆              ┆              ┆              ┆              │\n",
              "╞═══════════════╪═══════════════╪══════╪══════════════╪══════════════╪══════════════╪══════════════╡\n",
              "│ Region/Countr ┆ null          ┆ Year ┆ Series       ┆ Value        ┆ Footnotes    ┆ Source       │\n",
              "│ y/Area        ┆               ┆      ┆              ┆              ┆              ┆              │\n",
              "│ 1             ┆ Total, all    ┆ 1995 ┆ GDP in       ┆ 31,269,041   ┆ null         ┆ United       │\n",
              "│               ┆ countries or  ┆      ┆ current      ┆              ┆              ┆ Nations      │\n",
              "│               ┆ areas         ┆      ┆ prices       ┆              ┆              ┆ Statistics   │\n",
              "│               ┆               ┆      ┆ (million…    ┆              ┆              ┆ Divi…        │\n",
              "│ 1             ┆ Total, all    ┆ 2005 ┆ GDP in       ┆ 47,775,404   ┆ null         ┆ United       │\n",
              "│               ┆ countries or  ┆      ┆ current      ┆              ┆              ┆ Nations      │\n",
              "│               ┆ areas         ┆      ┆ prices       ┆              ┆              ┆ Statistics   │\n",
              "│               ┆               ┆      ┆ (million…    ┆              ┆              ┆ Divi…        │\n",
              "│ 1             ┆ Total, all    ┆ 2010 ┆ GDP in       ┆ 66,578,017   ┆ null         ┆ United       │\n",
              "│               ┆ countries or  ┆      ┆ current      ┆              ┆              ┆ Nations      │\n",
              "│               ┆ areas         ┆      ┆ prices       ┆              ┆              ┆ Statistics   │\n",
              "│               ┆               ┆      ┆ (million…    ┆              ┆              ┆ Divi…        │\n",
              "│ 1             ┆ Total, all    ┆ 2015 ┆ GDP in       ┆ 75,283,835   ┆ null         ┆ United       │\n",
              "│               ┆ countries or  ┆      ┆ current      ┆              ┆              ┆ Nations      │\n",
              "│               ┆ areas         ┆      ┆ prices       ┆              ┆              ┆ Statistics   │\n",
              "│               ┆               ┆      ┆ (million…    ┆              ┆              ┆ Divi…        │\n",
              "└───────────────┴───────────────┴──────┴──────────────┴──────────────┴──────────────┴──────────────┘"
            ],
            "text/html": [
              "<div><style>\n",
              ".dataframe > thead > tr,\n",
              ".dataframe > tbody > tr {\n",
              "  text-align: right;\n",
              "  white-space: pre-wrap;\n",
              "}\n",
              "</style>\n",
              "<small>shape: (5, 7)</small><table border=\"1\" class=\"dataframe\"><thead><tr><th>T13</th><th>Gross domestic product and gross domestic product per capita</th><th></th><th>_duplicated_0</th><th>_duplicated_1</th><th>_duplicated_2</th><th>_duplicated_3</th></tr><tr><td>str</td><td>str</td><td>str</td><td>str</td><td>str</td><td>str</td><td>str</td></tr></thead><tbody><tr><td>&quot;Region/Country/Area&quot;</td><td>null</td><td>&quot;Year&quot;</td><td>&quot;Series&quot;</td><td>&quot;Value&quot;</td><td>&quot;Footnotes&quot;</td><td>&quot;Source&quot;</td></tr><tr><td>&quot;1&quot;</td><td>&quot;Total, all countries or areas&quot;</td><td>&quot;1995&quot;</td><td>&quot;GDP in current prices (million…</td><td>&quot;31,269,041&quot;</td><td>null</td><td>&quot;United Nations Statistics Divi…</td></tr><tr><td>&quot;1&quot;</td><td>&quot;Total, all countries or areas&quot;</td><td>&quot;2005&quot;</td><td>&quot;GDP in current prices (million…</td><td>&quot;47,775,404&quot;</td><td>null</td><td>&quot;United Nations Statistics Divi…</td></tr><tr><td>&quot;1&quot;</td><td>&quot;Total, all countries or areas&quot;</td><td>&quot;2010&quot;</td><td>&quot;GDP in current prices (million…</td><td>&quot;66,578,017&quot;</td><td>null</td><td>&quot;United Nations Statistics Divi…</td></tr><tr><td>&quot;1&quot;</td><td>&quot;Total, all countries or areas&quot;</td><td>&quot;2015&quot;</td><td>&quot;GDP in current prices (million…</td><td>&quot;75,283,835&quot;</td><td>null</td><td>&quot;United Nations Statistics Divi…</td></tr></tbody></table></div>"
            ]
          },
          "metadata": {},
          "execution_count": 8
        }
      ]
    },
    {
      "cell_type": "code",
      "source": [
        "crime.head()"
      ],
      "metadata": {
        "colab": {
          "base_uri": "https://localhost:8080/",
          "height": 255
        },
        "id": "lagbrGSZg5iv",
        "outputId": "c187e776-b75c-40d0-d474-83dfe6462c2f"
      },
      "execution_count": 9,
      "outputs": [
        {
          "output_type": "execute_result",
          "data": {
            "text/plain": [
              "shape: (5, 7)\n",
              "┌───────────────┬───────────────┬──────┬──────────────┬──────────────┬──────────────┬──────────────┐\n",
              "│ T12           ┆ Intentional   ┆      ┆ _duplicated_ ┆ _duplicated_ ┆ _duplicated_ ┆ _duplicated_ │\n",
              "│ ---           ┆ homicides and ┆ ---  ┆ 0            ┆ 1            ┆ 2            ┆ 3            │\n",
              "│ str           ┆ othe…         ┆ str  ┆ ---          ┆ ---          ┆ ---          ┆ ---          │\n",
              "│               ┆ ---           ┆      ┆ str          ┆ str          ┆ str          ┆ str          │\n",
              "│               ┆ str           ┆      ┆              ┆              ┆              ┆              │\n",
              "╞═══════════════╪═══════════════╪══════╪══════════════╪══════════════╪══════════════╪══════════════╡\n",
              "│ Region/Countr ┆ null          ┆ Year ┆ Series       ┆ Value        ┆ Footnotes    ┆ Source       │\n",
              "│ y/Area        ┆               ┆      ┆              ┆              ┆              ┆              │\n",
              "│ 1             ┆ Total, all    ┆ 2005 ┆ Intentional  ┆ 6.3          ┆ Estimate.    ┆ United       │\n",
              "│               ┆ countries or  ┆      ┆ homicide     ┆              ┆              ┆ Nations      │\n",
              "│               ┆ areas         ┆      ┆ rates per…   ┆              ┆              ┆ Office on    │\n",
              "│               ┆               ┆      ┆              ┆              ┆              ┆ Drugs…       │\n",
              "│ 1             ┆ Total, all    ┆ 2005 ┆ Percentage   ┆ 10.1         ┆ Estimate.    ┆ United       │\n",
              "│               ┆ countries or  ┆      ┆ of male and  ┆              ┆              ┆ Nations      │\n",
              "│               ┆ areas         ┆      ┆ female …     ┆              ┆              ┆ Office on    │\n",
              "│               ┆               ┆      ┆              ┆              ┆              ┆ Drugs…       │\n",
              "│ 1             ┆ Total, all    ┆ 2005 ┆ Percentage   ┆ 2.5          ┆ Estimate.    ┆ United       │\n",
              "│               ┆ countries or  ┆      ┆ of male and  ┆              ┆              ┆ Nations      │\n",
              "│               ┆ areas         ┆      ┆ female …     ┆              ┆              ┆ Office on    │\n",
              "│               ┆               ┆      ┆              ┆              ┆              ┆ Drugs…       │\n",
              "│ 1             ┆ Total, all    ┆ 2010 ┆ Intentional  ┆ 6.1          ┆ Estimate.    ┆ United       │\n",
              "│               ┆ countries or  ┆      ┆ homicide     ┆              ┆              ┆ Nations      │\n",
              "│               ┆ areas         ┆      ┆ rates per…   ┆              ┆              ┆ Office on    │\n",
              "│               ┆               ┆      ┆              ┆              ┆              ┆ Drugs…       │\n",
              "└───────────────┴───────────────┴──────┴──────────────┴──────────────┴──────────────┴──────────────┘"
            ],
            "text/html": [
              "<div><style>\n",
              ".dataframe > thead > tr,\n",
              ".dataframe > tbody > tr {\n",
              "  text-align: right;\n",
              "  white-space: pre-wrap;\n",
              "}\n",
              "</style>\n",
              "<small>shape: (5, 7)</small><table border=\"1\" class=\"dataframe\"><thead><tr><th>T12</th><th>Intentional homicides and other crimes</th><th></th><th>_duplicated_0</th><th>_duplicated_1</th><th>_duplicated_2</th><th>_duplicated_3</th></tr><tr><td>str</td><td>str</td><td>str</td><td>str</td><td>str</td><td>str</td><td>str</td></tr></thead><tbody><tr><td>&quot;Region/Country/Area&quot;</td><td>null</td><td>&quot;Year&quot;</td><td>&quot;Series&quot;</td><td>&quot;Value&quot;</td><td>&quot;Footnotes&quot;</td><td>&quot;Source&quot;</td></tr><tr><td>&quot;1&quot;</td><td>&quot;Total, all countries or areas&quot;</td><td>&quot;2005&quot;</td><td>&quot;Intentional homicide rates per…</td><td>&quot;6.3&quot;</td><td>&quot;Estimate.&quot;</td><td>&quot;United Nations Office on Drugs…</td></tr><tr><td>&quot;1&quot;</td><td>&quot;Total, all countries or areas&quot;</td><td>&quot;2005&quot;</td><td>&quot;Percentage of male and female …</td><td>&quot;10.1&quot;</td><td>&quot;Estimate.&quot;</td><td>&quot;United Nations Office on Drugs…</td></tr><tr><td>&quot;1&quot;</td><td>&quot;Total, all countries or areas&quot;</td><td>&quot;2005&quot;</td><td>&quot;Percentage of male and female …</td><td>&quot;2.5&quot;</td><td>&quot;Estimate.&quot;</td><td>&quot;United Nations Office on Drugs…</td></tr><tr><td>&quot;1&quot;</td><td>&quot;Total, all countries or areas&quot;</td><td>&quot;2010&quot;</td><td>&quot;Intentional homicide rates per…</td><td>&quot;6.1&quot;</td><td>&quot;Estimate.&quot;</td><td>&quot;United Nations Office on Drugs…</td></tr></tbody></table></div>"
            ]
          },
          "metadata": {},
          "execution_count": 9
        }
      ]
    },
    {
      "cell_type": "code",
      "source": [
        "# Use month-country pairs from past_vacations to generate a list\n",
        "# of average temperatures.\n",
        "# Then categorize the temperatures into Cold - Moderate - Hot\n",
        "# Choose the category with the most temperatures, and then\n",
        "# recommend new month-country pairs that fall into that category"
      ],
      "metadata": {
        "id": "u5rWdZBUlX9e"
      },
      "execution_count": null,
      "outputs": []
    },
    {
      "cell_type": "code",
      "source": [],
      "metadata": {
        "id": "NgCBo1OFjbkn"
      },
      "execution_count": null,
      "outputs": []
    }
  ]
}