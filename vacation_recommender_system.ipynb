{
  "nbformat": 4,
  "nbformat_minor": 0,
  "metadata": {
    "colab": {
      "provenance": [],
      "authorship_tag": "ABX9TyO+IcllNZfTg5ym7pTfVsA/",
      "include_colab_link": true
    },
    "kernelspec": {
      "name": "python3",
      "display_name": "Python 3"
    },
    "language_info": {
      "name": "python"
    }
  },
  "cells": [
    {
      "cell_type": "markdown",
      "metadata": {
        "id": "view-in-github",
        "colab_type": "text"
      },
      "source": [
        "<a href=\"https://colab.research.google.com/github/Kiron-Ang/DSC/blob/main/vacation_recommender_system.ipynb\" target=\"_parent\"><img src=\"https://colab.research.google.com/assets/colab-badge.svg\" alt=\"Open In Colab\"/></a>"
      ]
    },
    {
      "cell_type": "markdown",
      "source": [
        "# Vacation Recommender System\n",
        "### Kiron Ang, November 2024\n",
        "\n",
        "Are you struggling to decide where to go on vacation next? This simple content-based recommender system can help you! Follow the directions below to get recommendations for your next vacation. By the end, you'll also understand how the system arrived at its suggestions!\n",
        "\n",
        "[Please click here to access the recommender system online at Google Colab. Using the tool requires a Google account.](https://colab.research.google.com/drive/1T6lyTMzBqbNAFKgaNKXgLuAQ4i7WZ71U)\n",
        "\n",
        "---\n",
        "\n",
        "#### Step 1: Print version numbers\n",
        "It's always good practice to print out version numbers of the software tools used to make a new tool. Not only does it help promote open source development, but it also gives credit where credit is due. Run the cell below to get a neat list of version numbers."
      ],
      "metadata": {
        "id": "sWfN11eouhvD"
      }
    },
    {
      "cell_type": "code",
      "source": [
        "print(\"Printing version numbers. . .\")\n",
        "!python -V\n",
        "\n",
        "!pip install -U polars > output.txt\n",
        "import polars\n",
        "print(\"polars\", polars.__version__)\n",
        "\n",
        "!pip install -U scikit-learn > output.txt\n",
        "import sklearn\n",
        "print(\"scikit-learn\", sklearn.__version__)\n",
        "\n",
        "import ipywidgets\n",
        "print(\"ipywidgets\", ipywidgets.__version__)\n",
        "\n",
        "import IPython\n",
        "print(\"IPython\", IPython.__version__)"
      ],
      "metadata": {
        "id": "NBySM6TrulTy"
      },
      "execution_count": null,
      "outputs": []
    },
    {
      "cell_type": "markdown",
      "source": [
        "#### Step 2: Get Country Information from United Nations Data\n",
        "The recommender system needs some information to work with! This tool is quite basic, and only uses three datasets provided by the United Nations. Running the cell below will run lots of commands to accomplish the following:\n",
        "1. Read in data directly from the UN Data website. These three datasets are related to tourism, GDP, and crime for countries all around the world.\n",
        "2. Filter all the datasets to only keep data for the year 2021. This is the most recent information available; there is no data for 2022, 2023, or 2024 quite yet.\n",
        "3. Narrow down the data even more to be specific about what values to keep. The data is originally very long, and each row represents a specific statistic for a single country. This ends up making a large dataset where several rows correspond to one country, and this makes data processing complicated. In this situation, one simple approach is to just specify one statistic, so that every row corresponds to a unique country. United Nations data is organized by \"series\", like \"GDP per capita (United States dollars)\"; for each of the three datasets, one series is chosen.\n",
        "4. Rename a column. Originally, the column with the country name has no label for some unknown reason. This makes writing code difficult later on, so the label \"country\" is assigned.\n",
        "5. Remove unnecessary columns. Filtering the data makes some of the columns redundant. For example, if all of the data is now from 2021, then the \"Year\" column no longer provides useful information.\n",
        "6. Rename the remaining columns.  These new names are based on the information series chosen earlier.\n",
        "7. Join the three datasets together to form one, complete dataset.\n",
        "8. Assign the columns to the Float 64 data type. Originally, everything was read in as a string. This is really tricky for comparing numbers in a future step, so the commas in the strings are removed, and the columns are converted into float 64 numbers.\n",
        "9. Display the final dataset."
      ],
      "metadata": {
        "id": "13qML2_lxdyS"
      }
    },
    {
      "cell_type": "code",
      "source": [
        "# data.un.org\n",
        "tourism = polars.read_csv(\"https://data.un.org/_Docs/SYB/CSV/SYB66_176_202310_Tourist-Visitors%20Arrival%20and%20Expenditure.csv\", encoding = \"latin-1\", skip_rows = 1)\n",
        "gdp = polars.read_csv(\"https://data.un.org/_Docs/SYB/CSV/SYB66_230_202310_GDP%20and%20GDP%20Per%20Capita.csv\", encoding = \"latin-1\", skip_rows = 1)\n",
        "crime = polars.read_csv(\"https://data.un.org/_Docs/SYB/CSV/SYB66_328_202310_Intentional%20homicides%20and%20other%20crimes.csv\", encoding = \"latin-1\", skip_rows = 1, infer_schema = False)\n",
        "\n",
        "tourism = tourism.filter(tourism[\"Year\"] == 2021)\n",
        "gdp = gdp.filter(gdp[\"Year\"] == 2021)\n",
        "crime = crime.filter(crime[\"Year\"] == \"2021\")\n",
        "\n",
        "tourism = tourism.filter(tourism[\"Series\"] == \"Tourist/visitor arrivals (thousands)\")\n",
        "gdp = gdp.filter(gdp[\"Series\"] == \"GDP per capita (US dollars)\")\n",
        "crime = crime.filter(crime[\"Series\"] == \"Assault rate per 100,000 population\")\n",
        "\n",
        "tourism = tourism.rename({\"\": \"country\"})\n",
        "gdp = gdp.rename({\"\": \"country\"})\n",
        "crime = crime.rename({\"\": \"country\"})\n",
        "\n",
        "tourism = tourism.drop(\"Region/Country/Area\", \"Year\", \"Series\", \"Tourism arrivals series type\", \"Tourism arrivals series type footnote\", \"Footnotes\", \"Source\")\n",
        "gdp = gdp.drop(\"Region/Country/Area\", \"Year\", \"Series\", \"Footnotes\", \"Source\")\n",
        "crime = crime.drop(\"Region/Country/Area\", \"Year\", \"Series\", \"Footnotes\", \"Source\")\n",
        "\n",
        "tourism = tourism.rename({\"Value\": \"tourist_arrivals_thousands\"})\n",
        "gdp = gdp.rename({\"Value\": \"gdp_per_capita\"})\n",
        "crime = crime.rename({\"Value\": \"assault_rate_per_100000\"})\n",
        "\n",
        "two = tourism.join(gdp, on = \"country\")\n",
        "all = two.join(crime, on = \"country\")\n",
        "\n",
        "all = all.with_columns([\n",
        "    polars.col(\"tourist_arrivals_thousands\").str.replace(\",\", \"\").cast(polars.Float64),\n",
        "    polars.col(\"gdp_per_capita\").str.replace(\",\", \"\").cast(polars.Float64),\n",
        "    polars.col(\"assault_rate_per_100000\").str.replace(\",\", \"\").cast(polars.Float64),\n",
        "])\n",
        "\n",
        "all"
      ],
      "metadata": {
        "id": "MALLdMw4lTki"
      },
      "execution_count": null,
      "outputs": []
    },
    {
      "cell_type": "markdown",
      "source": [
        "#### Step 3: Create a Survey to Get User Information\n",
        "To tailor the recommendations produced, the recommender system needs some information from the user. Run the cell below to create an \"intake survey\" of sorts, that asks about previous vacations. After running the cell, fill out the survey yourself.\n",
        "\n",
        "The code below accomplishes the following:\n",
        "1. Create two lists, one with countries and one with months of the year.\n",
        "2. Create two dropdown menus for the survey.\n",
        "3. Initialize an empty dictionary that will later be used to store information about previous vacations that the user has taken.\n",
        "4. Define a function to add survey results to the dictionary when the \"Submit\" button is clicked.\n",
        "5. Define another function that passes the survey information into the previously defined function.\n",
        "6. Create a submit button that utilizes the function defined in step #5.\n",
        "7. Print out some directions for users to help them fill out the survey.\n",
        "8. Display the dropdown menus and the submit button!"
      ],
      "metadata": {
        "id": "4lDIT_9ez6nQ"
      }
    },
    {
      "cell_type": "code",
      "source": [
        "countries = all[\"country\"].to_list()\n",
        "months = [\"January\", \"February\", \"March\", \"April\", \"May\", \"June\", \"July\", \"August\", \"September\", \"October\", \"November\", \"December\"]\n",
        "\n",
        "country_dropdown = ipywidgets.Dropdown(options = countries, description = \"Country:\")\n",
        "month_dropdown = ipywidgets.Dropdown(options = months, description = \"Month:\")\n",
        "\n",
        "past_vacations = {}\n",
        "\n",
        "def submit_survey(month, country):\n",
        "    if month in past_vacations:\n",
        "        past_vacations[month].append(country)\n",
        "    else:\n",
        "        past_vacations[month] = [country]\n",
        "    print(f\"Adding {month} trip to {country}. . .\")\n",
        "    print(f\"Vacations: {past_vacations}\")\n",
        "\n",
        "def on_submit(button):\n",
        "    submit_survey(month_dropdown.value, country_dropdown.value)\n",
        "\n",
        "submit_button = ipywidgets.Button(description = \"Submit\")\n",
        "submit_button.on_click(on_submit)\n",
        "\n",
        "print(\"Please use the form below to enter information\")\n",
        "print(\"about previous vacations that you enjoyed.\")\n",
        "print(\"Select the month that you traveled, along with\")\n",
        "print(\"the country that you visited. If your trip was\")\n",
        "print(\"longer than a month, then put down the month\")\n",
        "print(\"that you enjoyed the most. Fill out the form as\")\n",
        "print(\"many times as you need to. If you visited a\")\n",
        "print(\"country several times, please fill out the form\")\n",
        "print(\"for each time you visited.\")\n",
        "print(\"\")\n",
        "\n",
        "IPython.display.display(month_dropdown, country_dropdown, submit_button)"
      ],
      "metadata": {
        "id": "HXph6iT6bQij"
      },
      "execution_count": null,
      "outputs": []
    },
    {
      "cell_type": "markdown",
      "source": [
        "#### Step 4: Compute Cosine Similarity\n",
        "Next, the system needs to determine which countries are similar based on the United Nations data prepared earlier. The popular library scikit-learn has a function for computing the cosine similarity given numeric data. Run this cell now to see how it's possible to store the results in a data frame where each column and row represents a country compared to all other countries. Values closer to one indicate that those two countries are more similar."
      ],
      "metadata": {
        "id": "4QQS5-Qv1C7_"
      }
    },
    {
      "cell_type": "code",
      "source": [
        "import sklearn.metrics.pairwise\n",
        "cosine_similarity = polars.DataFrame(sklearn.metrics.pairwise.cosine_similarity(all[:, 1:]))\n",
        "\n",
        "new_names_dictionary = {}\n",
        "default_names = cosine_similarity.columns\n",
        "index = 0\n",
        "for country in all[\"country\"]:\n",
        "  new_names_dictionary[default_names[index]] = country\n",
        "  index += 1\n",
        "\n",
        "cosine_similarity = cosine_similarity.rename(new_names_dictionary)\n",
        "cosine_similarity = cosine_similarity.insert_column(0, all[\"country\"])\n",
        "cosine_similarity"
      ],
      "metadata": {
        "id": "qS0mtMEpPQ9o"
      },
      "execution_count": null,
      "outputs": []
    },
    {
      "cell_type": "markdown",
      "source": [
        "#### Step 5: Get a List of Similar Countries\n",
        "The code in this cell uses the list of countries that the user provided earlier to produce a new list of countries that are similar. It uses the data frame generated above, and for each unique country the user provided, the cell below gets the three most similar countries. Run this cell now to get a personalized list."
      ],
      "metadata": {
        "id": "Tf8nOgVNCd5D"
      }
    },
    {
      "cell_type": "code",
      "source": [
        "past_countries = list(set([country for month in past_vacations.values() for country in month]))\n",
        "similar_countries = []\n",
        "\n",
        "for country in past_countries:\n",
        "  most_similar = cosine_similarity.sort(by = country, descending = True).select([\"country\", country]).slice(1, 3)\n",
        "  for similar_country in most_similar[\"country\"]:\n",
        "    similar_countries.append(similar_country)\n",
        "\n",
        "similar_countries = list(set(similar_countries))\n",
        "similar_countries"
      ],
      "metadata": {
        "id": "MUCWD1Tclr4w"
      },
      "execution_count": null,
      "outputs": []
    },
    {
      "cell_type": "markdown",
      "source": [
        "### Step 6: Find the User's Most Frequently Traveled Month\n",
        "This step is relatively simple compared to the other steps. The code here tallies up the user-supplied dictionary information earlier to determine during which month the user has taken the most vacations. Run this cell, and then move onto the final step!"
      ],
      "metadata": {
        "id": "bL-eP0HfDTp3"
      }
    },
    {
      "cell_type": "code",
      "source": [
        "past_months = {key: len(value) for key, value in past_vacations.items()}\n",
        "most_frequent_month = max(past_months, key = past_months.get)\n",
        "most_frequent_month"
      ],
      "metadata": {
        "id": "Cwp9Sl5Ns3zP"
      },
      "execution_count": null,
      "outputs": []
    },
    {
      "cell_type": "markdown",
      "source": [
        "### Step 7: Provide Final Recommendations\n",
        "To put everything together, this cell prints some text that suggests that the user take a vacation in their most frequently traveled month to the similar countries found earlier. The bulleted list provides some fun suggestions that can inspire users to go outside of their comfort zone!"
      ],
      "metadata": {
        "id": "nUlo2mE1DnCu"
      }
    },
    {
      "cell_type": "code",
      "source": [
        "print(f\"For your next vacation, you should travel in {most_frequent_month}\")\n",
        "print(\"to one of the countries below:\")\n",
        "\n",
        "for country in similar_countries:\n",
        "  print(f\"• {country}\")"
      ],
      "metadata": {
        "id": "JDQF4TrLtq-u"
      },
      "execution_count": null,
      "outputs": []
    }
  ]
}