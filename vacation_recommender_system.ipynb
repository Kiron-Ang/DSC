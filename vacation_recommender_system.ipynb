{
  "nbformat": 4,
  "nbformat_minor": 0,
  "metadata": {
    "colab": {
      "provenance": [],
      "authorship_tag": "ABX9TyO15xFFaAcHdwxiwIUH1RUz",
      "include_colab_link": true
    },
    "kernelspec": {
      "name": "python3",
      "display_name": "Python 3"
    },
    "language_info": {
      "name": "python"
    },
    "widgets": {
      "application/vnd.jupyter.widget-state+json": {
        "e85f431f0f134fa1a5d511ddc21cb25a": {
          "model_module": "@jupyter-widgets/controls",
          "model_name": "DropdownModel",
          "model_module_version": "1.5.0",
          "state": {
            "_dom_classes": [],
            "_model_module": "@jupyter-widgets/controls",
            "_model_module_version": "1.5.0",
            "_model_name": "DropdownModel",
            "_options_labels": [
              "January",
              "February",
              "March",
              "April",
              "May",
              "June",
              "July",
              "August",
              "September",
              "October",
              "November",
              "December"
            ],
            "_view_count": null,
            "_view_module": "@jupyter-widgets/controls",
            "_view_module_version": "1.5.0",
            "_view_name": "DropdownView",
            "description": "Month:",
            "description_tooltip": null,
            "disabled": false,
            "index": 6,
            "layout": "IPY_MODEL_6f7b85851227402fbc432651959f4cbc",
            "style": "IPY_MODEL_c1ee2b4bb44f44f4a9e358f6cdf89cda"
          }
        },
        "6f7b85851227402fbc432651959f4cbc": {
          "model_module": "@jupyter-widgets/base",
          "model_name": "LayoutModel",
          "model_module_version": "1.2.0",
          "state": {
            "_model_module": "@jupyter-widgets/base",
            "_model_module_version": "1.2.0",
            "_model_name": "LayoutModel",
            "_view_count": null,
            "_view_module": "@jupyter-widgets/base",
            "_view_module_version": "1.2.0",
            "_view_name": "LayoutView",
            "align_content": null,
            "align_items": null,
            "align_self": null,
            "border": null,
            "bottom": null,
            "display": null,
            "flex": null,
            "flex_flow": null,
            "grid_area": null,
            "grid_auto_columns": null,
            "grid_auto_flow": null,
            "grid_auto_rows": null,
            "grid_column": null,
            "grid_gap": null,
            "grid_row": null,
            "grid_template_areas": null,
            "grid_template_columns": null,
            "grid_template_rows": null,
            "height": null,
            "justify_content": null,
            "justify_items": null,
            "left": null,
            "margin": null,
            "max_height": null,
            "max_width": null,
            "min_height": null,
            "min_width": null,
            "object_fit": null,
            "object_position": null,
            "order": null,
            "overflow": null,
            "overflow_x": null,
            "overflow_y": null,
            "padding": null,
            "right": null,
            "top": null,
            "visibility": null,
            "width": null
          }
        },
        "c1ee2b4bb44f44f4a9e358f6cdf89cda": {
          "model_module": "@jupyter-widgets/controls",
          "model_name": "DescriptionStyleModel",
          "model_module_version": "1.5.0",
          "state": {
            "_model_module": "@jupyter-widgets/controls",
            "_model_module_version": "1.5.0",
            "_model_name": "DescriptionStyleModel",
            "_view_count": null,
            "_view_module": "@jupyter-widgets/base",
            "_view_module_version": "1.2.0",
            "_view_name": "StyleView",
            "description_width": ""
          }
        },
        "26a9fc469650421f80b91b8d1f2215f0": {
          "model_module": "@jupyter-widgets/controls",
          "model_name": "DropdownModel",
          "model_module_version": "1.5.0",
          "state": {
            "_dom_classes": [],
            "_model_module": "@jupyter-widgets/controls",
            "_model_module_version": "1.5.0",
            "_model_name": "DropdownModel",
            "_options_labels": [
              "Albania",
              "Algeria",
              "Argentina",
              "Australia",
              "Austria",
              "Bahamas",
              "Barbados",
              "Belgium",
              "Belize",
              "Bosnia and Herzegovina",
              "Bulgaria",
              "Canada",
              "Chile",
              "China, Hong Kong SAR",
              "China, Macao SAR",
              "Colombia",
              "Costa Rica",
              "Croatia",
              "Cyprus",
              "Denmark",
              "Dominica",
              "Dominican Republic",
              "Ecuador",
              "El Salvador",
              "Estonia",
              "Eswatini",
              "Finland",
              "France",
              "Germany",
              "Ghana",
              "Greece",
              "Grenada",
              "Guatemala",
              "Guyana",
              "Honduras",
              "Iceland",
              "Indonesia",
              "Israel",
              "Italy",
              "Jamaica",
              "Japan",
              "Jordan",
              "Latvia",
              "Liechtenstein",
              "Lithuania",
              "Luxembourg",
              "Malaysia",
              "Malta",
              "Mauritius",
              "Mongolia",
              "Montenegro",
              "Morocco",
              "Namibia",
              "Netherlands (Kingdom of the)",
              "New Zealand",
              "Norway",
              "Oman",
              "Panama",
              "Paraguay",
              "Peru",
              "Poland",
              "Portugal",
              "Qatar",
              "Republic of Korea",
              "Romania",
              "Saint Kitts and Nevis",
              "Saint Lucia",
              "Serbia",
              "Singapore",
              "Slovenia",
              "Sweden",
              "Switzerland",
              "Thailand",
              "United Arab Emirates",
              "United States of America",
              "Uzbekistan"
            ],
            "_view_count": null,
            "_view_module": "@jupyter-widgets/controls",
            "_view_module_version": "1.5.0",
            "_view_name": "DropdownView",
            "description": "Country:",
            "description_tooltip": null,
            "disabled": false,
            "index": 74,
            "layout": "IPY_MODEL_cdaf19427bbc4dafa6bc29a846c56a52",
            "style": "IPY_MODEL_a925514ec0694a4c830b337e35b8a870"
          }
        },
        "cdaf19427bbc4dafa6bc29a846c56a52": {
          "model_module": "@jupyter-widgets/base",
          "model_name": "LayoutModel",
          "model_module_version": "1.2.0",
          "state": {
            "_model_module": "@jupyter-widgets/base",
            "_model_module_version": "1.2.0",
            "_model_name": "LayoutModel",
            "_view_count": null,
            "_view_module": "@jupyter-widgets/base",
            "_view_module_version": "1.2.0",
            "_view_name": "LayoutView",
            "align_content": null,
            "align_items": null,
            "align_self": null,
            "border": null,
            "bottom": null,
            "display": null,
            "flex": null,
            "flex_flow": null,
            "grid_area": null,
            "grid_auto_columns": null,
            "grid_auto_flow": null,
            "grid_auto_rows": null,
            "grid_column": null,
            "grid_gap": null,
            "grid_row": null,
            "grid_template_areas": null,
            "grid_template_columns": null,
            "grid_template_rows": null,
            "height": null,
            "justify_content": null,
            "justify_items": null,
            "left": null,
            "margin": null,
            "max_height": null,
            "max_width": null,
            "min_height": null,
            "min_width": null,
            "object_fit": null,
            "object_position": null,
            "order": null,
            "overflow": null,
            "overflow_x": null,
            "overflow_y": null,
            "padding": null,
            "right": null,
            "top": null,
            "visibility": null,
            "width": null
          }
        },
        "a925514ec0694a4c830b337e35b8a870": {
          "model_module": "@jupyter-widgets/controls",
          "model_name": "DescriptionStyleModel",
          "model_module_version": "1.5.0",
          "state": {
            "_model_module": "@jupyter-widgets/controls",
            "_model_module_version": "1.5.0",
            "_model_name": "DescriptionStyleModel",
            "_view_count": null,
            "_view_module": "@jupyter-widgets/base",
            "_view_module_version": "1.2.0",
            "_view_name": "StyleView",
            "description_width": ""
          }
        },
        "462d7056892941b0ada9e6d62e3946a6": {
          "model_module": "@jupyter-widgets/controls",
          "model_name": "ButtonModel",
          "model_module_version": "1.5.0",
          "state": {
            "_dom_classes": [],
            "_model_module": "@jupyter-widgets/controls",
            "_model_module_version": "1.5.0",
            "_model_name": "ButtonModel",
            "_view_count": null,
            "_view_module": "@jupyter-widgets/controls",
            "_view_module_version": "1.5.0",
            "_view_name": "ButtonView",
            "button_style": "",
            "description": "Submit",
            "disabled": false,
            "icon": "",
            "layout": "IPY_MODEL_ce6449733c61451284bbdb9f9179f73c",
            "style": "IPY_MODEL_fb9863e895754db5a47a9e1c56e6271f",
            "tooltip": ""
          }
        },
        "ce6449733c61451284bbdb9f9179f73c": {
          "model_module": "@jupyter-widgets/base",
          "model_name": "LayoutModel",
          "model_module_version": "1.2.0",
          "state": {
            "_model_module": "@jupyter-widgets/base",
            "_model_module_version": "1.2.0",
            "_model_name": "LayoutModel",
            "_view_count": null,
            "_view_module": "@jupyter-widgets/base",
            "_view_module_version": "1.2.0",
            "_view_name": "LayoutView",
            "align_content": null,
            "align_items": null,
            "align_self": null,
            "border": null,
            "bottom": null,
            "display": null,
            "flex": null,
            "flex_flow": null,
            "grid_area": null,
            "grid_auto_columns": null,
            "grid_auto_flow": null,
            "grid_auto_rows": null,
            "grid_column": null,
            "grid_gap": null,
            "grid_row": null,
            "grid_template_areas": null,
            "grid_template_columns": null,
            "grid_template_rows": null,
            "height": null,
            "justify_content": null,
            "justify_items": null,
            "left": null,
            "margin": null,
            "max_height": null,
            "max_width": null,
            "min_height": null,
            "min_width": null,
            "object_fit": null,
            "object_position": null,
            "order": null,
            "overflow": null,
            "overflow_x": null,
            "overflow_y": null,
            "padding": null,
            "right": null,
            "top": null,
            "visibility": null,
            "width": null
          }
        },
        "fb9863e895754db5a47a9e1c56e6271f": {
          "model_module": "@jupyter-widgets/controls",
          "model_name": "ButtonStyleModel",
          "model_module_version": "1.5.0",
          "state": {
            "_model_module": "@jupyter-widgets/controls",
            "_model_module_version": "1.5.0",
            "_model_name": "ButtonStyleModel",
            "_view_count": null,
            "_view_module": "@jupyter-widgets/base",
            "_view_module_version": "1.2.0",
            "_view_name": "StyleView",
            "button_color": null,
            "font_weight": ""
          }
        }
      }
    }
  },
  "cells": [
    {
      "cell_type": "markdown",
      "metadata": {
        "id": "view-in-github",
        "colab_type": "text"
      },
      "source": [
        "<a href=\"https://colab.research.google.com/github/Kiron-Ang/DSC/blob/main/vacation_recommender_system.ipynb\" target=\"_parent\"><img src=\"https://colab.research.google.com/assets/colab-badge.svg\" alt=\"Open In Colab\"/></a>"
      ]
    },
    {
      "cell_type": "markdown",
      "source": [
        "# Vacation Recommender System\n",
        "### Kiron Ang, November 2024"
      ],
      "metadata": {
        "id": "sWfN11eouhvD"
      }
    },
    {
      "cell_type": "code",
      "source": [
        "print(\"Printing version numbers. . .\")\n",
        "!python -V\n",
        "\n",
        "!pip install -U polars > output.txt\n",
        "import polars\n",
        "print(\"polars\", polars.__version__)\n",
        "\n",
        "!pip install -U scikit-learn > output.txt\n",
        "import sklearn\n",
        "print(\"scikit-learn\", sklearn.__version__)\n",
        "\n",
        "import ipywidgets\n",
        "print(\"ipywidgets\", ipywidgets.__version__)\n",
        "\n",
        "import IPython\n",
        "print(\"IPython\", IPython.__version__)"
      ],
      "metadata": {
        "id": "NBySM6TrulTy",
        "colab": {
          "base_uri": "https://localhost:8080/"
        },
        "outputId": "8680d15c-8f8a-43ee-80a7-af7562dfec3c"
      },
      "execution_count": 1,
      "outputs": [
        {
          "output_type": "stream",
          "name": "stdout",
          "text": [
            "Printing version numbers. . .\n",
            "Python 3.10.12\n",
            "polars 1.12.0\n",
            "scikit-learn 1.5.2\n",
            "ipywidgets 7.7.1\n",
            "IPython 7.34.0\n"
          ]
        }
      ]
    },
    {
      "cell_type": "code",
      "source": [
        "# data.un.org\n",
        "tourism = polars.read_csv(\"https://data.un.org/_Docs/SYB/CSV/SYB66_176_202310_Tourist-Visitors%20Arrival%20and%20Expenditure.csv\", encoding = \"latin-1\", skip_rows = 1)\n",
        "gdp = polars.read_csv(\"https://data.un.org/_Docs/SYB/CSV/SYB66_230_202310_GDP%20and%20GDP%20Per%20Capita.csv\", encoding = \"latin-1\", skip_rows = 1)\n",
        "crime = polars.read_csv(\"https://data.un.org/_Docs/SYB/CSV/SYB66_328_202310_Intentional%20homicides%20and%20other%20crimes.csv\", encoding = \"latin-1\", skip_rows = 1, infer_schema = False)\n",
        "\n",
        "tourism = tourism.filter(tourism[\"Year\"] == 2021)\n",
        "gdp = gdp.filter(gdp[\"Year\"] == 2021)\n",
        "crime = crime.filter(crime[\"Year\"] == \"2021\")\n",
        "\n",
        "tourism = tourism.filter(tourism[\"Series\"] == \"Tourist/visitor arrivals (thousands)\")\n",
        "gdp = gdp.filter(gdp[\"Series\"] == \"GDP per capita (US dollars)\")\n",
        "crime = crime.filter(crime[\"Series\"] == \"Assault rate per 100,000 population\")\n",
        "\n",
        "tourism = tourism.rename({\"\": \"country\"})\n",
        "gdp = gdp.rename({\"\": \"country\"})\n",
        "crime = crime.rename({\"\": \"country\"})\n",
        "\n",
        "tourism = tourism.drop(\"Region/Country/Area\", \"Year\", \"Series\", \"Tourism arrivals series type\", \"Tourism arrivals series type footnote\", \"Footnotes\", \"Source\")\n",
        "gdp = gdp.drop(\"Region/Country/Area\", \"Year\", \"Series\", \"Footnotes\", \"Source\")\n",
        "crime = crime.drop(\"Region/Country/Area\", \"Year\", \"Series\", \"Footnotes\", \"Source\")\n",
        "\n",
        "tourism = tourism.rename({\"Value\": \"tourist_arrivals_thousands\"})\n",
        "gdp = gdp.rename({\"Value\": \"gdp_per_capita\"})\n",
        "crime = crime.rename({\"Value\": \"assault_rate_per_100000\"})\n",
        "\n",
        "two = tourism.join(gdp, on = \"country\")\n",
        "all = two.join(crime, on = \"country\")\n",
        "\n",
        "all = all.with_columns([\n",
        "    polars.col(\"tourist_arrivals_thousands\").str.replace(\",\", \"\").cast(polars.Float64),\n",
        "    polars.col(\"gdp_per_capita\").str.replace(\",\", \"\").cast(polars.Float64),\n",
        "    polars.col(\"assault_rate_per_100000\").str.replace(\",\", \"\").cast(polars.Float64),\n",
        "])\n",
        "\n",
        "all"
      ],
      "metadata": {
        "id": "MALLdMw4lTki",
        "colab": {
          "base_uri": "https://localhost:8080/",
          "height": 443
        },
        "outputId": "e67a8826-09d5-418d-f23f-f0f11eebadc5"
      },
      "execution_count": 2,
      "outputs": [
        {
          "output_type": "execute_result",
          "data": {
            "text/plain": [
              "shape: (76, 4)\n",
              "┌──────────────────────────┬────────────────────────────┬────────────────┬─────────────────────────┐\n",
              "│ country                  ┆ tourist_arrivals_thousands ┆ gdp_per_capita ┆ assault_rate_per_100000 │\n",
              "│ ---                      ┆ ---                        ┆ ---            ┆ ---                     │\n",
              "│ str                      ┆ f64                        ┆ f64            ┆ f64                     │\n",
              "╞══════════════════════════╪════════════════════════════╪════════════════╪═════════════════════════╡\n",
              "│ Albania                  ┆ 5515.0                     ┆ 6396.0         ┆ 5.7                     │\n",
              "│ Algeria                  ┆ 125.0                      ┆ 3700.0         ┆ 22.7                    │\n",
              "│ Argentina                ┆ 297.0                      ┆ 10761.0        ┆ 340.6                   │\n",
              "│ Australia                ┆ 246.0                      ┆ 66916.0        ┆ 289.0                   │\n",
              "│ Austria                  ┆ 12728.0                    ┆ 53840.0        ┆ 40.5                    │\n",
              "│ …                        ┆ …                          ┆ …              ┆ …                       │\n",
              "│ Switzerland              ┆ 4390.0                     ┆ 93525.0        ┆ 7.5                     │\n",
              "│ Thailand                 ┆ 428.0                      ┆ 7067.0         ┆ 13.2                    │\n",
              "│ United Arab Emirates     ┆ 11479.0                    ┆ 43295.0        ┆ 1.5                     │\n",
              "│ United States of America ┆ 22100.0                    ┆ 69185.0        ┆ 280.1                   │\n",
              "│ Uzbekistan               ┆ 1881.0                     ┆ 2032.0         ┆ 3.9                     │\n",
              "└──────────────────────────┴────────────────────────────┴────────────────┴─────────────────────────┘"
            ],
            "text/html": [
              "<div><style>\n",
              ".dataframe > thead > tr,\n",
              ".dataframe > tbody > tr {\n",
              "  text-align: right;\n",
              "  white-space: pre-wrap;\n",
              "}\n",
              "</style>\n",
              "<small>shape: (76, 4)</small><table border=\"1\" class=\"dataframe\"><thead><tr><th>country</th><th>tourist_arrivals_thousands</th><th>gdp_per_capita</th><th>assault_rate_per_100000</th></tr><tr><td>str</td><td>f64</td><td>f64</td><td>f64</td></tr></thead><tbody><tr><td>&quot;Albania&quot;</td><td>5515.0</td><td>6396.0</td><td>5.7</td></tr><tr><td>&quot;Algeria&quot;</td><td>125.0</td><td>3700.0</td><td>22.7</td></tr><tr><td>&quot;Argentina&quot;</td><td>297.0</td><td>10761.0</td><td>340.6</td></tr><tr><td>&quot;Australia&quot;</td><td>246.0</td><td>66916.0</td><td>289.0</td></tr><tr><td>&quot;Austria&quot;</td><td>12728.0</td><td>53840.0</td><td>40.5</td></tr><tr><td>&hellip;</td><td>&hellip;</td><td>&hellip;</td><td>&hellip;</td></tr><tr><td>&quot;Switzerland&quot;</td><td>4390.0</td><td>93525.0</td><td>7.5</td></tr><tr><td>&quot;Thailand&quot;</td><td>428.0</td><td>7067.0</td><td>13.2</td></tr><tr><td>&quot;United Arab Emirates&quot;</td><td>11479.0</td><td>43295.0</td><td>1.5</td></tr><tr><td>&quot;United States of America&quot;</td><td>22100.0</td><td>69185.0</td><td>280.1</td></tr><tr><td>&quot;Uzbekistan&quot;</td><td>1881.0</td><td>2032.0</td><td>3.9</td></tr></tbody></table></div>"
            ]
          },
          "metadata": {},
          "execution_count": 2
        }
      ]
    },
    {
      "cell_type": "code",
      "source": [
        "countries = all[\"country\"].to_list()\n",
        "months = [\"January\", \"February\", \"March\", \"April\", \"May\", \"June\", \"July\", \"August\", \"September\", \"October\", \"November\", \"December\"]\n",
        "\n",
        "country_dropdown = ipywidgets.Dropdown(options = countries, description = \"Country:\")\n",
        "month_dropdown = ipywidgets.Dropdown(options = months, description = \"Month:\")\n",
        "\n",
        "past_vacations = {}\n",
        "\n",
        "def submit_survey(month, country):\n",
        "    if month in past_vacations:\n",
        "        past_vacations[month].append(country)\n",
        "    else:\n",
        "        past_vacations[month] = [country]\n",
        "    print(f\"Adding {month} trip to {country}. . .\")\n",
        "    print(f\"Vacations: {past_vacations}\")\n",
        "\n",
        "def on_submit(button):\n",
        "    submit_survey(month_dropdown.value, country_dropdown.value)\n",
        "\n",
        "submit_button = ipywidgets.Button(description = \"Submit\")\n",
        "submit_button.on_click(on_submit)\n",
        "\n",
        "print(\"Please use the form below to enter information\")\n",
        "print(\"about previous vacations that you enjoyed.\")\n",
        "print(\"Select the month that you traveled, along with\")\n",
        "print(\"the country that you visited. If your trip was\")\n",
        "print(\"longer than a month, then put down the month\")\n",
        "print(\"that you enjoyed the most. Fill out the form as\")\n",
        "print(\"many times as you need to. If you visited a\")\n",
        "print(\"country several times, please fill out the form\")\n",
        "print(\"for each time you visited.\")\n",
        "print(\"\")\n",
        "\n",
        "IPython.display.display(month_dropdown, country_dropdown, submit_button)"
      ],
      "metadata": {
        "id": "HXph6iT6bQij",
        "colab": {
          "base_uri": "https://localhost:8080/",
          "height": 603,
          "referenced_widgets": [
            "e85f431f0f134fa1a5d511ddc21cb25a",
            "6f7b85851227402fbc432651959f4cbc",
            "c1ee2b4bb44f44f4a9e358f6cdf89cda",
            "26a9fc469650421f80b91b8d1f2215f0",
            "cdaf19427bbc4dafa6bc29a846c56a52",
            "a925514ec0694a4c830b337e35b8a870",
            "462d7056892941b0ada9e6d62e3946a6",
            "ce6449733c61451284bbdb9f9179f73c",
            "fb9863e895754db5a47a9e1c56e6271f"
          ]
        },
        "outputId": "8928ea44-03e7-4978-ef7a-80455057e07c"
      },
      "execution_count": 3,
      "outputs": [
        {
          "output_type": "stream",
          "name": "stdout",
          "text": [
            "Please use the form below to enter information\n",
            "about previous vacations that you enjoyed.\n",
            "Select the month that you traveled, along with\n",
            "the country that you visited. If your trip was\n",
            "longer than a month, then put down the month\n",
            "that you enjoyed the most. Fill out the form as\n",
            "many times as you need to. If you visited a\n",
            "country several times, please fill out the form\n",
            "for each time you visited.\n",
            "\n"
          ]
        },
        {
          "output_type": "display_data",
          "data": {
            "text/plain": [
              "Dropdown(description='Month:', options=('January', 'February', 'March', 'April', 'May', 'June', 'July', 'Augus…"
            ],
            "application/vnd.jupyter.widget-view+json": {
              "version_major": 2,
              "version_minor": 0,
              "model_id": "e85f431f0f134fa1a5d511ddc21cb25a"
            }
          },
          "metadata": {}
        },
        {
          "output_type": "display_data",
          "data": {
            "text/plain": [
              "Dropdown(description='Country:', options=('Albania', 'Algeria', 'Argentina', 'Australia', 'Austria', 'Bahamas'…"
            ],
            "application/vnd.jupyter.widget-view+json": {
              "version_major": 2,
              "version_minor": 0,
              "model_id": "26a9fc469650421f80b91b8d1f2215f0"
            }
          },
          "metadata": {}
        },
        {
          "output_type": "display_data",
          "data": {
            "text/plain": [
              "Button(description='Submit', style=ButtonStyle())"
            ],
            "application/vnd.jupyter.widget-view+json": {
              "version_major": 2,
              "version_minor": 0,
              "model_id": "462d7056892941b0ada9e6d62e3946a6"
            }
          },
          "metadata": {}
        },
        {
          "output_type": "stream",
          "name": "stdout",
          "text": [
            "Adding October trip to Albania. . .\n",
            "Vacations: {'October': ['Albania']}\n",
            "Adding June trip to Canada. . .\n",
            "Vacations: {'October': ['Albania'], 'June': ['Canada']}\n",
            "Adding July trip to United States of America. . .\n",
            "Vacations: {'October': ['Albania'], 'June': ['Canada'], 'July': ['United States of America']}\n",
            "Adding July trip to United States of America. . .\n",
            "Vacations: {'October': ['Albania'], 'June': ['Canada'], 'July': ['United States of America', 'United States of America']}\n",
            "Adding July trip to United States of America. . .\n",
            "Vacations: {'October': ['Albania'], 'June': ['Canada'], 'July': ['United States of America', 'United States of America', 'United States of America']}\n",
            "Adding July trip to United States of America. . .\n",
            "Vacations: {'October': ['Albania'], 'June': ['Canada'], 'July': ['United States of America', 'United States of America', 'United States of America', 'United States of America']}\n",
            "Adding July trip to United States of America. . .\n",
            "Vacations: {'October': ['Albania'], 'June': ['Canada'], 'July': ['United States of America', 'United States of America', 'United States of America', 'United States of America', 'United States of America']}\n",
            "Adding July trip to United States of America. . .\n",
            "Vacations: {'October': ['Albania'], 'June': ['Canada'], 'July': ['United States of America', 'United States of America', 'United States of America', 'United States of America', 'United States of America', 'United States of America']}\n"
          ]
        }
      ]
    },
    {
      "cell_type": "code",
      "source": [
        "import sklearn.metrics.pairwise\n",
        "cosine_similarity = polars.DataFrame(sklearn.metrics.pairwise.cosine_similarity(all[:, 1:]))\n",
        "\n",
        "new_names_dictionary = {}\n",
        "default_names = cosine_similarity.columns\n",
        "index = 0\n",
        "for country in all[\"country\"]:\n",
        "  new_names_dictionary[default_names[index]] = country\n",
        "  index += 1\n",
        "\n",
        "cosine_similarity = cosine_similarity.rename(new_names_dictionary)\n",
        "cosine_similarity = cosine_similarity.insert_column(0, all[\"country\"])\n",
        "cosine_similarity"
      ],
      "metadata": {
        "colab": {
          "base_uri": "https://localhost:8080/",
          "height": 567
        },
        "id": "qS0mtMEpPQ9o",
        "outputId": "691923bf-2bf6-4589-96ce-cb4976a09899"
      },
      "execution_count": 4,
      "outputs": [
        {
          "output_type": "execute_result",
          "data": {
            "text/plain": [
              "shape: (76, 77)\n",
              "┌────────────┬──────────┬──────────┬───────────┬───┬──────────┬────────────┬───────────┬───────────┐\n",
              "│ country    ┆ Albania  ┆ Algeria  ┆ Argentina ┆ … ┆ Thailand ┆ United     ┆ United    ┆ Uzbekista │\n",
              "│ ---        ┆ ---      ┆ ---      ┆ ---       ┆   ┆ ---      ┆ Arab       ┆ States of ┆ n         │\n",
              "│ str        ┆ f64      ┆ f64      ┆ f64       ┆   ┆ f64      ┆ Emirates   ┆ America   ┆ ---       │\n",
              "│            ┆          ┆          ┆           ┆   ┆          ┆ ---        ┆ ---       ┆ f64       │\n",
              "│            ┆          ┆          ┆           ┆   ┆          ┆ f64        ┆ f64       ┆           │\n",
              "╞════════════╪══════════╪══════════╪═══════════╪═══╪══════════╪════════════╪═══════════╪═══════════╡\n",
              "│ Albania    ┆ 1.0      ┆ 0.778946 ┆ 0.774701  ┆ … ┆ 0.795431 ┆ 0.899402   ┆ 0.920128  ┆ 0.999378  │\n",
              "│ Algeria    ┆ 0.778946 ┆ 1.0      ┆ 0.999656  ┆ … ┆ 0.999634 ┆ 0.974687   ┆ 0.96231   ┆ 0.756359  │\n",
              "│ Argentina  ┆ 0.774701 ┆ 0.999656 ┆ 1.0       ┆ … ┆ 0.999016 ┆ 0.97282    ┆ 0.960247  ┆ 0.751977  │\n",
              "│ Australia  ┆ 0.75973  ┆ 0.999546 ┆ 0.999341  ┆ … ┆ 0.998384 ┆ 0.967529   ┆ 0.953694  ┆ 0.736338  │\n",
              "│ Austria    ┆ 0.88726  ┆ 0.980375 ┆ 0.978686  ┆ … ┆ 0.985303 ┆ 0.999634   ┆ 0.997029  ┆ 0.870447  │\n",
              "│ …          ┆ …        ┆ …        ┆ …         ┆ … ┆ …        ┆ …          ┆ …         ┆ …         │\n",
              "│ Switzerlan ┆ 0.787125 ┆ 0.999895 ┆ 0.999316  ┆ … ┆ 0.999906 ┆ 0.977556   ┆ 0.965793  ┆ 0.764891  │\n",
              "│ d          ┆          ┆          ┆           ┆   ┆          ┆            ┆           ┆           │\n",
              "│ Thailand   ┆ 0.795431 ┆ 0.999634 ┆ 0.999016  ┆ … ┆ 1.0      ┆ 0.980326   ┆ 0.969232  ┆ 0.773572  │\n",
              "│ United     ┆ 0.899402 ┆ 0.974687 ┆ 0.97282   ┆ … ┆ 0.980326 ┆ 1.0        ┆ 0.998742  ┆ 0.883432  │\n",
              "│ Arab       ┆          ┆          ┆           ┆   ┆          ┆            ┆           ┆           │\n",
              "│ Emirates   ┆          ┆          ┆           ┆   ┆          ┆            ┆           ┆           │\n",
              "│ United     ┆ 0.920128 ┆ 0.96231  ┆ 0.960247  ┆ … ┆ 0.969232 ┆ 0.998742   ┆ 1.0       ┆ 0.905753  │\n",
              "│ States of  ┆          ┆          ┆           ┆   ┆          ┆            ┆           ┆           │\n",
              "│ America    ┆          ┆          ┆           ┆   ┆          ┆            ┆           ┆           │\n",
              "│ Uzbekistan ┆ 0.999378 ┆ 0.756359 ┆ 0.751977  ┆ … ┆ 0.773572 ┆ 0.883432   ┆ 0.905753  ┆ 1.0       │\n",
              "└────────────┴──────────┴──────────┴───────────┴───┴──────────┴────────────┴───────────┴───────────┘"
            ],
            "text/html": [
              "<div><style>\n",
              ".dataframe > thead > tr,\n",
              ".dataframe > tbody > tr {\n",
              "  text-align: right;\n",
              "  white-space: pre-wrap;\n",
              "}\n",
              "</style>\n",
              "<small>shape: (76, 77)</small><table border=\"1\" class=\"dataframe\"><thead><tr><th>country</th><th>Albania</th><th>Algeria</th><th>Argentina</th><th>Australia</th><th>Austria</th><th>Bahamas</th><th>Barbados</th><th>Belgium</th><th>Belize</th><th>Bosnia and Herzegovina</th><th>Bulgaria</th><th>Canada</th><th>Chile</th><th>China, Hong Kong SAR</th><th>China, Macao SAR</th><th>Colombia</th><th>Costa Rica</th><th>Croatia</th><th>Cyprus</th><th>Denmark</th><th>Dominica</th><th>Dominican Republic</th><th>Ecuador</th><th>El Salvador</th><th>Estonia</th><th>Eswatini</th><th>Finland</th><th>France</th><th>Germany</th><th>Ghana</th><th>Greece</th><th>Grenada</th><th>Guatemala</th><th>Guyana</th><th>Honduras</th><th>Iceland</th><th>&hellip;</th><th>Jamaica</th><th>Japan</th><th>Jordan</th><th>Latvia</th><th>Liechtenstein</th><th>Lithuania</th><th>Luxembourg</th><th>Malaysia</th><th>Malta</th><th>Mauritius</th><th>Mongolia</th><th>Montenegro</th><th>Morocco</th><th>Namibia</th><th>Netherlands (Kingdom of the)</th><th>New Zealand</th><th>Norway</th><th>Oman</th><th>Panama</th><th>Paraguay</th><th>Peru</th><th>Poland</th><th>Portugal</th><th>Qatar</th><th>Republic of Korea</th><th>Romania</th><th>Saint Kitts and Nevis</th><th>Saint Lucia</th><th>Serbia</th><th>Singapore</th><th>Slovenia</th><th>Sweden</th><th>Switzerland</th><th>Thailand</th><th>United Arab Emirates</th><th>United States of America</th><th>Uzbekistan</th></tr><tr><td>str</td><td>f64</td><td>f64</td><td>f64</td><td>f64</td><td>f64</td><td>f64</td><td>f64</td><td>f64</td><td>f64</td><td>f64</td><td>f64</td><td>f64</td><td>f64</td><td>f64</td><td>f64</td><td>f64</td><td>f64</td><td>f64</td><td>f64</td><td>f64</td><td>f64</td><td>f64</td><td>f64</td><td>f64</td><td>f64</td><td>f64</td><td>f64</td><td>f64</td><td>f64</td><td>f64</td><td>f64</td><td>f64</td><td>f64</td><td>f64</td><td>f64</td><td>f64</td><td>&hellip;</td><td>f64</td><td>f64</td><td>f64</td><td>f64</td><td>f64</td><td>f64</td><td>f64</td><td>f64</td><td>f64</td><td>f64</td><td>f64</td><td>f64</td><td>f64</td><td>f64</td><td>f64</td><td>f64</td><td>f64</td><td>f64</td><td>f64</td><td>f64</td><td>f64</td><td>f64</td><td>f64</td><td>f64</td><td>f64</td><td>f64</td><td>f64</td><td>f64</td><td>f64</td><td>f64</td><td>f64</td><td>f64</td><td>f64</td><td>f64</td><td>f64</td><td>f64</td><td>f64</td></tr></thead><tbody><tr><td>&quot;Albania&quot;</td><td>1.0</td><td>0.778946</td><td>0.774701</td><td>0.75973</td><td>0.88726</td><td>0.777817</td><td>0.762681</td><td>0.797098</td><td>0.779211</td><td>0.801254</td><td>0.865154</td><td>0.794336</td><td>0.764913</td><td>0.758518</td><td>0.809856</td><td>0.931121</td><td>0.823037</td><td>0.988494</td><td>0.795093</td><td>0.901585</td><td>0.758613</td><td>0.983988</td><td>0.825393</td><td>0.900318</td><td>0.775866</td><td>0.781586</td><td>0.767066</td><td>0.992925</td><td>0.88393</td><td>0.895195</td><td>0.995867</td><td>0.749185</td><td>0.831313</td><td>0.76753</td><td>0.853815</td><td>0.763894</td><td>&hellip;</td><td>0.906112</td><td>0.761376</td><td>0.968596</td><td>0.771822</td><td>0.757609</td><td>0.782684</td><td>0.761018</td><td>0.765224</td><td>0.775808</td><td>0.770427</td><td>0.762096</td><td>0.855045</td><td>0.998082</td><td>0.785598</td><td>0.823059</td><td>0.759949</td><td>0.767741</td><td>0.772652</td><td>0.78423</td><td>0.767524</td><td>0.799329</td><td>0.978001</td><td>0.896211</td><td>0.76328</td><td>0.775115</td><td>0.961369</td><td>0.757909</td><td>0.76844</td><td>0.818977</td><td>0.760506</td><td>0.796827</td><td>0.788535</td><td>0.787125</td><td>0.795431</td><td>0.899402</td><td>0.920128</td><td>0.999378</td></tr><tr><td>&quot;Algeria&quot;</td><td>0.778946</td><td>1.0</td><td>0.999656</td><td>0.999546</td><td>0.980375</td><td>0.999758</td><td>0.999625</td><td>0.999558</td><td>0.999416</td><td>0.999334</td><td>0.988396</td><td>0.999687</td><td>0.999753</td><td>0.999477</td><td>0.998686</td><td>0.953385</td><td>0.997265</td><td>0.864834</td><td>0.999642</td><td>0.973555</td><td>0.999493</td><td>0.878243</td><td>0.996966</td><td>0.974024</td><td>0.99997</td><td>0.996577</td><td>0.999809</td><td>0.699174</td><td>0.981771</td><td>0.974439</td><td>0.832678</td><td>0.985285</td><td>0.995879</td><td>0.999831</td><td>0.991516</td><td>0.999704</td><td>&hellip;</td><td>0.970875</td><td>0.999603</td><td>0.910401</td><td>0.999925</td><td>0.99943</td><td>0.999965</td><td>0.99959</td><td>0.999754</td><td>0.999974</td><td>0.999902</td><td>0.999643</td><td>0.991208</td><td>0.742171</td><td>0.997379</td><td>0.997264</td><td>0.999479</td><td>0.999827</td><td>0.999931</td><td>0.999963</td><td>0.999826</td><td>0.999438</td><td>0.892616</td><td>0.976282</td><td>0.999678</td><td>0.999971</td><td>0.921458</td><td>0.999358</td><td>0.997715</td><td>0.997776</td><td>0.999564</td><td>0.99957</td><td>0.999867</td><td>0.999895</td><td>0.999634</td><td>0.974687</td><td>0.96231</td><td>0.756359</td></tr><tr><td>&quot;Argentina&quot;</td><td>0.774701</td><td>0.999656</td><td>1.0</td><td>0.999341</td><td>0.978686</td><td>0.999982</td><td>0.999698</td><td>0.999124</td><td>0.999934</td><td>0.998691</td><td>0.987046</td><td>0.999128</td><td>0.999479</td><td>0.999204</td><td>0.997872</td><td>0.951831</td><td>0.996593</td><td>0.861324</td><td>0.998991</td><td>0.971669</td><td>0.999389</td><td>0.874918</td><td>0.996136</td><td>0.972687</td><td>0.999505</td><td>0.998274</td><td>0.999438</td><td>0.694622</td><td>0.980178</td><td>0.974194</td><td>0.828854</td><td>0.989418</td><td>0.995464</td><td>0.999697</td><td>0.990446</td><td>0.999362</td><td>&hellip;</td><td>0.969464</td><td>0.999283</td><td>0.907424</td><td>0.999529</td><td>0.999159</td><td>0.999432</td><td>0.999279</td><td>0.999415</td><td>0.999529</td><td>0.999545</td><td>0.999369</td><td>0.989946</td><td>0.738326</td><td>0.998755</td><td>0.996321</td><td>0.999648</td><td>0.999444</td><td>0.999493</td><td>0.999599</td><td>0.999474</td><td>0.998763</td><td>0.889402</td><td>0.974463</td><td>0.99933</td><td>0.999548</td><td>0.9186</td><td>0.999592</td><td>0.999143</td><td>0.997077</td><td>0.999245</td><td>0.998939</td><td>0.99929</td><td>0.999316</td><td>0.999016</td><td>0.97282</td><td>0.960247</td><td>0.751977</td></tr><tr><td>&quot;Australia&quot;</td><td>0.75973</td><td>0.999546</td><td>0.999341</td><td>1.0</td><td>0.974009</td><td>0.999305</td><td>0.999917</td><td>0.998208</td><td>0.998859</td><td>0.99779</td><td>0.983382</td><td>0.998487</td><td>0.999968</td><td>0.999993</td><td>0.996712</td><td>0.943858</td><td>0.994584</td><td>0.849342</td><td>0.998411</td><td>0.96625</td><td>0.999992</td><td>0.86346</td><td>0.994171</td><td>0.966756</td><td>0.999674</td><td>0.995705</td><td>0.999929</td><td>0.677336</td><td>0.975612</td><td>0.967349</td><td>0.815646</td><td>0.985377</td><td>0.992723</td><td>0.99991</td><td>0.98715</td><td>0.999972</td><td>&hellip;</td><td>0.963212</td><td>0.999989</td><td>0.897547</td><td>0.999819</td><td>0.999989</td><td>0.999341</td><td>0.999991</td><td>0.999959</td><td>0.99968</td><td>0.99986</td><td>0.999992</td><td>0.986785</td><td>0.721638</td><td>0.996366</td><td>0.994603</td><td>0.999891</td><td>0.999915</td><td>0.999789</td><td>0.999251</td><td>0.999923</td><td>0.997994</td><td>0.878655</td><td>0.969336</td><td>0.999976</td><td>0.999708</td><td>0.909362</td><td>0.999859</td><td>0.997547</td><td>0.995315</td><td>0.99999</td><td>0.99825</td><td>0.998958</td><td>0.999057</td><td>0.998384</td><td>0.967529</td><td>0.953694</td><td>0.736338</td></tr><tr><td>&quot;Austria&quot;</td><td>0.88726</td><td>0.980375</td><td>0.978686</td><td>0.974009</td><td>1.0</td><td>0.979754</td><td>0.974946</td><td>0.985739</td><td>0.979892</td><td>0.986907</td><td>0.998943</td><td>0.984991</td><td>0.975793</td><td>0.97359</td><td>0.989147</td><td>0.993811</td><td>0.9922</td><td>0.946823</td><td>0.985208</td><td>0.999486</td><td>0.973605</td><td>0.955263</td><td>0.992741</td><td>0.99935</td><td>0.979409</td><td>0.978359</td><td>0.976523</td><td>0.826326</td><td>0.999972</td><td>0.997882</td><td>0.925488</td><td>0.959525</td><td>0.993727</td><td>0.976647</td><td>0.997652</td><td>0.975449</td><td>&hellip;</td><td>0.998853</td><td>0.974584</td><td>0.974087</td><td>0.978099</td><td>0.973271</td><td>0.981547</td><td>0.974461</td><td>0.975901</td><td>0.97939</td><td>0.977641</td><td>0.974832</td><td>0.99784</td><td>0.859505</td><td>0.980254</td><td>0.992248</td><td>0.973969</td><td>0.976749</td><td>0.978371</td><td>0.982003</td><td>0.976676</td><td>0.986387</td><td>0.963963</td><td>0.999804</td><td>0.975239</td><td>0.979168</td><td>0.979954</td><td>0.973232</td><td>0.975128</td><td>0.991311</td><td>0.974283</td><td>0.985695</td><td>0.983312</td><td>0.982892</td><td>0.985303</td><td>0.999634</td><td>0.997029</td><td>0.870447</td></tr><tr><td>&hellip;</td><td>&hellip;</td><td>&hellip;</td><td>&hellip;</td><td>&hellip;</td><td>&hellip;</td><td>&hellip;</td><td>&hellip;</td><td>&hellip;</td><td>&hellip;</td><td>&hellip;</td><td>&hellip;</td><td>&hellip;</td><td>&hellip;</td><td>&hellip;</td><td>&hellip;</td><td>&hellip;</td><td>&hellip;</td><td>&hellip;</td><td>&hellip;</td><td>&hellip;</td><td>&hellip;</td><td>&hellip;</td><td>&hellip;</td><td>&hellip;</td><td>&hellip;</td><td>&hellip;</td><td>&hellip;</td><td>&hellip;</td><td>&hellip;</td><td>&hellip;</td><td>&hellip;</td><td>&hellip;</td><td>&hellip;</td><td>&hellip;</td><td>&hellip;</td><td>&hellip;</td><td>&hellip;</td><td>&hellip;</td><td>&hellip;</td><td>&hellip;</td><td>&hellip;</td><td>&hellip;</td><td>&hellip;</td><td>&hellip;</td><td>&hellip;</td><td>&hellip;</td><td>&hellip;</td><td>&hellip;</td><td>&hellip;</td><td>&hellip;</td><td>&hellip;</td><td>&hellip;</td><td>&hellip;</td><td>&hellip;</td><td>&hellip;</td><td>&hellip;</td><td>&hellip;</td><td>&hellip;</td><td>&hellip;</td><td>&hellip;</td><td>&hellip;</td><td>&hellip;</td><td>&hellip;</td><td>&hellip;</td><td>&hellip;</td><td>&hellip;</td><td>&hellip;</td><td>&hellip;</td><td>&hellip;</td><td>&hellip;</td><td>&hellip;</td><td>&hellip;</td><td>&hellip;</td><td>&hellip;</td></tr><tr><td>&quot;Switzerland&quot;</td><td>0.787125</td><td>0.999895</td><td>0.999316</td><td>0.999057</td><td>0.982892</td><td>0.999503</td><td>0.999125</td><td>0.999819</td><td>0.999123</td><td>0.999725</td><td>0.990305</td><td>0.999924</td><td>0.999374</td><td>0.998983</td><td>0.999287</td><td>0.957085</td><td>0.998099</td><td>0.871364</td><td>0.999915</td><td>0.976486</td><td>0.998961</td><td>0.884449</td><td>0.997886</td><td>0.976797</td><td>0.999837</td><td>0.996094</td><td>0.999492</td><td>0.708466</td><td>0.984184</td><td>0.976853</td><td>0.839892</td><td>0.983793</td><td>0.996828</td><td>0.999467</td><td>0.993102</td><td>0.999323</td><td>&hellip;</td><td>0.973818</td><td>0.999172</td><td>0.915765</td><td>0.999701</td><td>0.998919</td><td>0.999974</td><td>0.999149</td><td>0.999396</td><td>0.999835</td><td>0.999643</td><td>0.999214</td><td>0.992866</td><td>0.750761</td><td>0.997034</td><td>0.998162</td><td>0.998908</td><td>0.999525</td><td>0.999733</td><td>0.999963</td><td>0.999514</td><td>0.999798</td><td>0.898473</td><td>0.979057</td><td>0.999287</td><td>0.999814</td><td>0.926497</td><td>0.998735</td><td>0.997033</td><td>0.998534</td><td>0.999116</td><td>0.999872</td><td>0.999997</td><td>1.0</td><td>0.999906</td><td>0.977556</td><td>0.965793</td><td>0.764891</td></tr><tr><td>&quot;Thailand&quot;</td><td>0.795431</td><td>0.999634</td><td>0.999016</td><td>0.998384</td><td>0.985303</td><td>0.999262</td><td>0.998537</td><td>0.999965</td><td>0.998941</td><td>0.999952</td><td>0.992104</td><td>0.999997</td><td>0.998808</td><td>0.998278</td><td>0.999706</td><td>0.960965</td><td>0.998849</td><td>0.877948</td><td>0.999999</td><td>0.979323</td><td>0.998271</td><td>0.890709</td><td>0.998682</td><td>0.979638</td><td>0.999498</td><td>0.996102</td><td>0.998966</td><td>0.718</td><td>0.986502</td><td>0.979653</td><td>0.847186</td><td>0.983455</td><td>0.997806</td><td>0.998968</td><td>0.994613</td><td>0.99873</td><td>&hellip;</td><td>0.976839</td><td>0.998526</td><td>0.921138</td><td>0.999277</td><td>0.998196</td><td>0.999783</td><td>0.998496</td><td>0.998832</td><td>0.999496</td><td>0.999192</td><td>0.998587</td><td>0.994396</td><td>0.759703</td><td>0.997094</td><td>0.998892</td><td>0.998268</td><td>0.999013</td><td>0.999325</td><td>0.999819</td><td>0.998999</td><td>0.999979</td><td>0.904353</td><td>0.981731</td><td>0.998681</td><td>0.999461</td><td>0.931522</td><td>0.998056</td><td>0.996707</td><td>0.999182</td><td>0.998452</td><td>0.999997</td><td>0.999936</td><td>0.999906</td><td>1.0</td><td>0.980326</td><td>0.969232</td><td>0.773572</td></tr><tr><td>&quot;United Arab Emirates&quot;</td><td>0.899402</td><td>0.974687</td><td>0.97282</td><td>0.967529</td><td>0.999634</td><td>0.974017</td><td>0.968582</td><td>0.980831</td><td>0.974221</td><td>0.982186</td><td>0.997336</td><td>0.979964</td><td>0.969524</td><td>0.967063</td><td>0.984815</td><td>0.996319</td><td>0.988473</td><td>0.955172</td><td>0.980217</td><td>0.999987</td><td>0.967079</td><td>0.962906</td><td>0.989127</td><td>0.999769</td><td>0.973595</td><td>0.972873</td><td>0.970344</td><td>0.841238</td><td>0.999412</td><td>0.998049</td><td>0.935386</td><td>0.953067</td><td>0.990395</td><td>0.970483</td><td>0.995444</td><td>0.969141</td><td>&hellip;</td><td>0.999637</td><td>0.968174</td><td>0.979843</td><td>0.972116</td><td>0.966708</td><td>0.976021</td><td>0.968036</td><td>0.969647</td><td>0.973573</td><td>0.971599</td><td>0.968449</td><td>0.995699</td><td>0.872969</td><td>0.974913</td><td>0.988527</td><td>0.967494</td><td>0.970598</td><td>0.972423</td><td>0.976539</td><td>0.970516</td><td>0.981581</td><td>0.9708</td><td>0.999974</td><td>0.968906</td><td>0.973322</td><td>0.984981</td><td>0.966675</td><td>0.969053</td><td>0.987394</td><td>0.967838</td><td>0.980779</td><td>0.978035</td><td>0.977556</td><td>0.980326</td><td>1.0</td><td>0.998742</td><td>0.883432</td></tr><tr><td>&quot;United States of America&quot;</td><td>0.920128</td><td>0.96231</td><td>0.960247</td><td>0.953694</td><td>0.997029</td><td>0.961664</td><td>0.955019</td><td>0.969905</td><td>0.962051</td><td>0.971569</td><td>0.99245</td><td>0.968789</td><td>0.956071</td><td>0.953126</td><td>0.974896</td><td>0.999186</td><td>0.979722</td><td>0.968775</td><td>0.969091</td><td>0.998982</td><td>0.953176</td><td>0.975195</td><td>0.980558</td><td>0.99872</td><td>0.960958</td><td>0.961296</td><td>0.95704</td><td>0.867239</td><td>0.996456</td><td>0.996746</td><td>0.951891</td><td>0.940169</td><td>0.982442</td><td>0.957253</td><td>0.98948</td><td>0.955599</td><td>&hellip;</td><td>0.999266</td><td>0.954444</td><td>0.988603</td><td>0.959175</td><td>0.952702</td><td>0.963911</td><td>0.954281</td><td>0.956207</td><td>0.960935</td><td>0.958556</td><td>0.954781</td><td>0.989823</td><td>0.896323</td><td>0.963539</td><td>0.979734</td><td>0.953743</td><td>0.957344</td><td>0.959539</td><td>0.964578</td><td>0.957249</td><td>0.9708</td><td>0.981575</td><td>0.998354</td><td>0.955317</td><td>0.960632</td><td>0.992374</td><td>0.952782</td><td>0.95631</td><td>0.978281</td><td>0.954043</td><td>0.969797</td><td>0.966387</td><td>0.965793</td><td>0.969232</td><td>0.998742</td><td>1.0</td><td>0.905753</td></tr><tr><td>&quot;Uzbekistan&quot;</td><td>0.999378</td><td>0.756359</td><td>0.751977</td><td>0.736338</td><td>0.870447</td><td>0.755218</td><td>0.739424</td><td>0.775324</td><td>0.756705</td><td>0.779665</td><td>0.846938</td><td>0.772429</td><td>0.741732</td><td>0.735074</td><td>0.788672</td><td>0.91775</td><td>0.802513</td><td>0.982547</td><td>0.773218</td><td>0.885774</td><td>0.735179</td><td>0.977094</td><td>0.804982</td><td>0.884447</td><td>0.753143</td><td>0.759392</td><td>0.743971</td><td>0.99649</td><td>0.866897</td><td>0.879123</td><td>0.992046</td><td>0.726318</td><td>0.811239</td><td>0.744465</td><td>0.83494</td><td>0.740668</td><td>&hellip;</td><td>0.890669</td><td>0.738048</td><td>0.959228</td><td>0.748927</td><td>0.734128</td><td>0.760255</td><td>0.737675</td><td>0.742054</td><td>0.753082</td><td>0.747475</td><td>0.738799</td><td>0.836234</td><td>0.999471</td><td>0.763521</td><td>0.802525</td><td>0.736585</td><td>0.744674</td><td>0.749791</td><td>0.761875</td><td>0.744449</td><td>0.777649</td><td>0.970039</td><td>0.880014</td><td>0.740029</td><td>0.752361</td><td>0.951067</td><td>0.734466</td><td>0.745598</td><td>0.798246</td><td>0.737142</td><td>0.775032</td><td>0.766365</td><td>0.764891</td><td>0.773572</td><td>0.883432</td><td>0.905753</td><td>1.0</td></tr></tbody></table></div>"
            ]
          },
          "metadata": {},
          "execution_count": 4
        }
      ]
    },
    {
      "cell_type": "code",
      "source": [
        "past_countries = list(set([country for month in past_vacations.values() for country in month]))\n",
        "similar_countries = []\n",
        "\n",
        "for country in past_countries:\n",
        "  most_similar = cosine_similarity.sort(by = country, descending = True).select([\"country\", country]).slice(1, 3)\n",
        "  for similar_country in most_similar[\"country\"]:\n",
        "    similar_countries.append(similar_country)\n",
        "\n",
        "similar_countries = list(set(similar_countries))\n",
        "similar_countries"
      ],
      "metadata": {
        "colab": {
          "base_uri": "https://localhost:8080/"
        },
        "id": "MUCWD1Tclr4w",
        "outputId": "ee0a56bd-4806-4acc-9fc9-90a70163fb9f"
      },
      "execution_count": 17,
      "outputs": [
        {
          "output_type": "execute_result",
          "data": {
            "text/plain": [
              "['Italy',\n",
              " 'Thailand',\n",
              " 'Uzbekistan',\n",
              " 'Indonesia',\n",
              " 'Morocco',\n",
              " 'Cyprus',\n",
              " 'Colombia',\n",
              " 'Jamaica',\n",
              " 'Slovenia']"
            ]
          },
          "metadata": {},
          "execution_count": 17
        }
      ]
    },
    {
      "cell_type": "code",
      "source": [
        "past_months = {key: len(value) for key, value in past_vacations.items()}\n",
        "most_frequent_month = max(past_months, key = past_months.get)\n",
        "most_frequent_month"
      ],
      "metadata": {
        "colab": {
          "base_uri": "https://localhost:8080/",
          "height": 36
        },
        "id": "Cwp9Sl5Ns3zP",
        "outputId": "d8c58f9a-0b04-4879-bd30-47276a166ff3"
      },
      "execution_count": 20,
      "outputs": [
        {
          "output_type": "execute_result",
          "data": {
            "text/plain": [
              "'July'"
            ],
            "application/vnd.google.colaboratory.intrinsic+json": {
              "type": "string"
            }
          },
          "metadata": {},
          "execution_count": 20
        }
      ]
    },
    {
      "cell_type": "code",
      "source": [
        "print(f\"For your next vacation, you should travel in {most_frequent_month}\")\n",
        "print(\"to one of the countries below:\")\n",
        "\n",
        "for country in similar_countries:\n",
        "  print(f\"• {country}\")"
      ],
      "metadata": {
        "colab": {
          "base_uri": "https://localhost:8080/"
        },
        "id": "JDQF4TrLtq-u",
        "outputId": "db802f0f-7a75-4505-f3a7-bd0641157b3a"
      },
      "execution_count": 21,
      "outputs": [
        {
          "output_type": "stream",
          "name": "stdout",
          "text": [
            "For your next vacation, you should travel in July\n",
            "to one of the countries below:\n",
            "• Italy\n",
            "• Thailand\n",
            "• Uzbekistan\n",
            "• Indonesia\n",
            "• Morocco\n",
            "• Cyprus\n",
            "• Colombia\n",
            "• Jamaica\n",
            "• Slovenia\n"
          ]
        }
      ]
    }
  ]
}