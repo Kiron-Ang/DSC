{
  "nbformat": 4,
  "nbformat_minor": 0,
  "metadata": {
    "colab": {
      "provenance": [],
      "authorship_tag": "ABX9TyNMpxC8c6JbKUn3yuC5m8d1"
    },
    "kernelspec": {
      "name": "python3",
      "display_name": "Python 3"
    },
    "language_info": {
      "name": "python"
    }
  },
  "cells": [
    {
      "cell_type": "markdown",
      "source": [
        "placeholder"
      ],
      "metadata": {
        "id": "gXFicTVaNXgx"
      }
    },
    {
      "cell_type": "code",
      "source": [
        "!python -V\n",
        "!pip install -U scikit-learn > true\n",
        "import sklearn\n",
        "print(\"scikit-learn\", sklearn.__version__)"
      ],
      "metadata": {
        "colab": {
          "base_uri": "https://localhost:8080/"
        },
        "id": "v2bxvV7jQAOv",
        "outputId": "e342875f-7a25-4d5e-81b9-c277ccc8534d"
      },
      "execution_count": 3,
      "outputs": [
        {
          "output_type": "stream",
          "name": "stdout",
          "text": [
            "Python 3.10.12\n",
            "scikit-learn 1.5.2\n"
          ]
        }
      ]
    },
    {
      "cell_type": "markdown",
      "source": [
        "placeholder"
      ],
      "metadata": {
        "id": "_r1oSZAAQDVZ"
      }
    },
    {
      "cell_type": "code",
      "source": [],
      "metadata": {
        "id": "UXhSoBBoRurH"
      },
      "execution_count": null,
      "outputs": []
    }
  ]
}