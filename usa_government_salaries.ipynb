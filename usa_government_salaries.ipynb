{
  "nbformat": 4,
  "nbformat_minor": 0,
  "metadata": {
    "colab": {
      "provenance": [],
      "authorship_tag": "ABX9TyMkm4uclrf51NWKX5tBcq2s",
      "include_colab_link": true
    },
    "kernelspec": {
      "name": "python3",
      "display_name": "Python 3"
    },
    "language_info": {
      "name": "python"
    }
  },
  "cells": [
    {
      "cell_type": "markdown",
      "metadata": {
        "id": "view-in-github",
        "colab_type": "text"
      },
      "source": [
        "<a href=\"https://colab.research.google.com/github/Kiron-Ang/DSC/blob/main/usa_government_salaries.ipynb\" target=\"_parent\"><img src=\"https://colab.research.google.com/assets/colab-badge.svg\" alt=\"Open In Colab\"/></a>"
      ]
    },
    {
      "cell_type": "code",
      "execution_count": 1,
      "metadata": {
        "colab": {
          "base_uri": "https://localhost:8080/"
        },
        "id": "5bzpCDwJzv65",
        "outputId": "94de92e1-b534-4143-8739-2b21ce24e7c7"
      },
      "outputs": [
        {
          "output_type": "stream",
          "name": "stdout",
          "text": [
            "Python 3.10.12\n"
          ]
        }
      ],
      "source": [
        "!python -V"
      ]
    },
    {
      "cell_type": "code",
      "source": [
        "import requests\n",
        "from bs4 import BeautifulSoup\n",
        "import csv\n",
        "\n",
        "# Send HTTP request\n",
        "url = \"https://acquisitions.usajobs.gov/search/results/?j=1102&s=relevance&sd=asc&p=1\"\n",
        "response = requests.get(url)\n",
        "\n",
        "# Parse HTML content\n",
        "if response.status_code == 200:\n",
        "    soup = BeautifulSoup(response.text, 'html.parser')\n",
        "\n",
        "    # Find all links\n",
        "    links = soup.find_all('a')\n",
        "\n",
        "    # Prepare data for CSV\n",
        "    data = [[\"Link\"]]  # Header row\n",
        "    for link in links:\n",
        "        href = link.get('href')\n",
        "        if href:\n",
        "            data.append([href])\n",
        "\n",
        "    # Save to CSV\n",
        "    with open('links.csv', mode='w', newline='') as file:\n",
        "        writer = csv.writer(file)\n",
        "        writer.writerows(data)\n",
        "    print(\"Data saved to links.csv\")\n",
        "else:\n",
        "    print(f\"Failed to retrieve the webpage. Status code: {response.status_code}\")\n"
      ],
      "metadata": {
        "colab": {
          "base_uri": "https://localhost:8080/"
        },
        "id": "Ik6D9TsN2JMc",
        "outputId": "216596ed-06f3-4e44-c2ce-ea71e213cc41"
      },
      "execution_count": 2,
      "outputs": [
        {
          "output_type": "stream",
          "name": "stdout",
          "text": [
            "Data saved to links.csv\n"
          ]
        }
      ]
    }
  ]
}