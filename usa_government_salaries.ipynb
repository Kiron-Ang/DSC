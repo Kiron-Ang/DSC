{
  "nbformat": 4,
  "nbformat_minor": 0,
  "metadata": {
    "colab": {
      "provenance": [],
      "authorship_tag": "ABX9TyPc5rGfY0PmPg8i4VTaoLeD",
      "include_colab_link": true
    },
    "kernelspec": {
      "name": "python3",
      "display_name": "Python 3"
    },
    "language_info": {
      "name": "python"
    }
  },
  "cells": [
    {
      "cell_type": "markdown",
      "metadata": {
        "id": "view-in-github",
        "colab_type": "text"
      },
      "source": [
        "<a href=\"https://colab.research.google.com/github/Kiron-Ang/DSC/blob/main/usa_government_salaries.ipynb\" target=\"_parent\"><img src=\"https://colab.research.google.com/assets/colab-badge.svg\" alt=\"Open In Colab\"/></a>"
      ]
    },
    {
      "cell_type": "code",
      "execution_count": 6,
      "metadata": {
        "colab": {
          "base_uri": "https://localhost:8080/"
        },
        "id": "5bzpCDwJzv65",
        "outputId": "43fb3f53-23aa-4aa4-84a8-89aa118e2a54"
      },
      "outputs": [
        {
          "output_type": "stream",
          "name": "stdout",
          "text": [
            "Python 3.10.12\n"
          ]
        },
        {
          "output_type": "execute_result",
          "data": {
            "text/plain": [
              "['https://actuary.usajobs.gov/',\n",
              " 'https://computerscience.usajobs.gov/',\n",
              " 'https://mathematics.usajobs.gov/',\n",
              " 'https://mathematicalstatistics.usajobs.gov/',\n",
              " 'https://statistics.usajobs.gov/',\n",
              " 'https://civil.usajobs.gov/',\n",
              " 'https://general.usajobs.gov/',\n",
              " 'https://mechanical.usajobs.gov/',\n",
              " 'https://hrmanagement.usajobs.gov/',\n",
              " 'https://acquisitions.usajobs.gov/',\n",
              " 'https://auditing.usajobs.gov/',\n",
              " 'https://natsec.usajobs.gov/',\n",
              " 'https://stem.usajobs.gov/',\n",
              " 'https://economist.usajobs.gov/',\n",
              " 'https://nurse.usajobs.gov/',\n",
              " 'https://chemistry.usajobs.gov/',\n",
              " 'https://naturalresources.usajobs.gov/',\n",
              " 'https://chemistry.usajobs.gov/',\n",
              " 'https://physicalscience.usajobs.gov/',\n",
              " 'https://healthphysics.usajobs.gov/',\n",
              " 'https://physics.usajobs.gov/',\n",
              " 'https://ai.usajobs.gov/',\n",
              " 'https://tech.usajobs.gov/',\n",
              " 'https://itmanagement.usajobs.gov/',\n",
              " 'https://crossfunctional.usajobs.gov/',\n",
              " 'https://cybersecurity.usajobs.gov/',\n",
              " 'https://cybereffects.usajobs.gov/',\n",
              " 'https://informationtechnology.usajobs.gov/',\n",
              " 'https://intel.usajobs.gov/',\n",
              " 'https://othercyber.usajobs.gov/']"
            ]
          },
          "metadata": {},
          "execution_count": 6
        }
      ],
      "source": [
        "# Check the version of Python being used\n",
        "# This command will print the Python version to ensure compatibility or for debugging purposes\n",
        "!python -V\n",
        "\n",
        "# Import the requests library to send HTTP requests\n",
        "# The requests library is used to send HTTP requests and get the response from a website\n",
        "import requests\n",
        "\n",
        "# Define the URL to send the request to\n",
        "# This is the website that we are going to retrieve data from\n",
        "url = \"https://www.usajobs.gov\"\n",
        "\n",
        "# Send a GET request to the URL and store the response\n",
        "# The GET request fetches the HTML content from the provided URL\n",
        "response = requests.get(url)\n",
        "\n",
        "# Extract the HTML content of the page as a string\n",
        "# The text property of the response object contains the raw HTML content of the page\n",
        "html_content = response.text\n",
        "\n",
        "# Split the HTML content into lines and print it to the console (optional step for debugging)\n",
        "# This splits the content into separate lines, which makes it easier to parse line by line\n",
        "html_content = html_content.splitlines()\n",
        "\n",
        "# Initialize an empty list to store the extracted URLs\n",
        "url_list = []\n",
        "\n",
        "# Import the re library to work with regular expressions\n",
        "# This library will help us search for and extract specific patterns in the HTML content\n",
        "import re\n",
        "\n",
        "# Loop through each line of the HTML content\n",
        "# This helps in checking each line for relevant URLs\n",
        "for line in html_content:\n",
        "    # Check if the line contains a link with '.usajobs.gov/' in it (adjustable filter condition)\n",
        "    if '.usajobs.gov/\">' in line:\n",
        "        # Use a regular expression to find the full URL in the 'href' attribute of the anchor tag\n",
        "        # The pattern matches URLs starting with 'http' or 'https' and captures them\n",
        "        url = re.findall(r'href=\"(https?://[^\"]+)\"', line)\n",
        "\n",
        "        # If a URL is found, append it to the url_list\n",
        "        # We use [0] to get the first match (as findall returns a list)\n",
        "        if url:\n",
        "            url_list.append(url[0])\n",
        "\n",
        "# Print the final list of URLs extracted from the page\n",
        "# This contains all URLs from 'href' attributes in anchor tags that contain '.usajobs.gov/'\n",
        "url_list"
      ]
    }
  ]
}