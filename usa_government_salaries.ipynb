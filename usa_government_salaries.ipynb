{
  "nbformat": 4,
  "nbformat_minor": 0,
  "metadata": {
    "colab": {
      "provenance": [],
      "authorship_tag": "ABX9TyO6Y2yvHx2rshN6LxSBS2gK",
      "include_colab_link": true
    },
    "kernelspec": {
      "name": "python3",
      "display_name": "Python 3"
    },
    "language_info": {
      "name": "python"
    }
  },
  "cells": [
    {
      "cell_type": "markdown",
      "metadata": {
        "id": "view-in-github",
        "colab_type": "text"
      },
      "source": [
        "<a href=\"https://colab.research.google.com/github/Kiron-Ang/DSC/blob/main/usa_government_salaries.ipynb\" target=\"_parent\"><img src=\"https://colab.research.google.com/assets/colab-badge.svg\" alt=\"Open In Colab\"/></a>"
      ]
    },
    {
      "cell_type": "code",
      "execution_count": 13,
      "metadata": {
        "colab": {
          "base_uri": "https://localhost:8080/"
        },
        "id": "5bzpCDwJzv65",
        "outputId": "df5304a9-e2b5-4ee8-d00e-a5fed575c1a0"
      },
      "outputs": [
        {
          "output_type": "stream",
          "name": "stdout",
          "text": [
            "Python 3.10.12\n",
            "            <li><a href=\"https://actuary.usajobs.gov/\">Actuary</a></li>\n",
            "            <li><a href=\"https://computerscience.usajobs.gov/\">Computer science</a></li>\n",
            "            <li><a href=\"https://mathematics.usajobs.gov/\">Mathematics</a></li>\n",
            "            <li><a href=\"https://mathematicalstatistics.usajobs.gov/\">Mathematical statistics</a></li>\n",
            "            <li><a href=\"https://statistics.usajobs.gov/\">Statistics</a></li>\n",
            "            <li><a href=\"https://civil.usajobs.gov/\">Civil</a></li>\n",
            "            <li><a href=\"https://general.usajobs.gov/\">General</a></li>\n",
            "            <li><a href=\"https://mechanical.usajobs.gov/\">Mechanical</a></li>\n",
            "            <li><a href=\"https://hrmanagement.usajobs.gov/\">Human resources management</a></li>\n",
            "            <li><a href=\"https://acquisitions.usajobs.gov/\">Acquisitions and contracting</a></li>\n",
            "            <li><a href=\"https://auditing.usajobs.gov/\">Auditing</a></li>\n",
            "            <li><a href=\"https://natsec.usajobs.gov/\">National Security</a></li>\n",
            "            <li><a href=\"https://stem.usajobs.gov/\">STEM</a></li>\n",
            "            <li><a href=\"https://economist.usajobs.gov/\">Economist</a></li>\n",
            "            <li><a href=\"https://nurse.usajobs.gov/\">Nurse</a></li>\n",
            "            <li><a href=\"https://chemistry.usajobs.gov/\">Chemistry</a></li>\n",
            "            <li><a href=\"https://naturalresources.usajobs.gov/\">Fishery biologist</a></li>\n",
            "            <li><a href=\"https://chemistry.usajobs.gov/\">General natural resources management and biological sciences</a></li>\n",
            "            <li><a href=\"https://physicalscience.usajobs.gov/\">General physical science</a></li>\n",
            "            <li><a href=\"https://healthphysics.usajobs.gov/\">Health physics</a></li>\n",
            "            <li><a href=\"https://physics.usajobs.gov/\">Physics</a></li>\n",
            "            <li><a href=\"https://ai.usajobs.gov/\">AI portal</a></li>\n",
            "            <li><a href=\"https://tech.usajobs.gov/\">Federal tech portal</a></li>\n",
            "            <li><a href=\"https://itmanagement.usajobs.gov/\">Information technology management</a></li>\n",
            "            <li><a href=\"https://crossfunctional.usajobs.gov/\">Cross-functional positions</a></li>\n",
            "            <li><a href=\"https://cybersecurity.usajobs.gov/\">Cybersecurity</a></li>\n",
            "            <li><a href=\"https://cybereffects.usajobs.gov/\">Cyber effects</a></li>\n",
            "            <li><a href=\"https://informationtechnology.usajobs.gov/\">Information technology</a></li>\n",
            "            <li><a href=\"https://intel.usajobs.gov/\">Intel</a></li>\n",
            "            <li><a href=\"https://othercyber.usajobs.gov/\">Other cyber opportunities</a></li>\n"
          ]
        }
      ],
      "source": [
        "# Check the version of Python being used\n",
        "!python -V\n",
        "\n",
        "# Import the requests library to send HTTP requests\n",
        "import requests\n",
        "\n",
        "# Define the URL to send the request to\n",
        "url = \"https://www.usajobs.gov\"\n",
        "\n",
        "# Send a GET request to the URL and store the response\n",
        "response = requests.get(url)\n",
        "\n",
        "# Extract the HTML content of the page as a string\n",
        "html_content = response.text\n",
        "\n",
        "# Print the HTML content to the console\n",
        "html_content = html_content.splitlines()\n",
        "\n",
        "for line in html_content:\n",
        "  if '.usajobs.gov/\">' in line:\n",
        "    print(line)"
      ]
    }
  ]
}