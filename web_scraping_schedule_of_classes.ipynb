{
  "nbformat": 4,
  "nbformat_minor": 0,
  "metadata": {
    "colab": {
      "provenance": [],
      "authorship_tag": "ABX9TyPL1XK7RE7NoBZymKA2YzVU",
      "include_colab_link": true
    },
    "kernelspec": {
      "name": "python3",
      "display_name": "Python 3"
    },
    "language_info": {
      "name": "python"
    }
  },
  "cells": [
    {
      "cell_type": "markdown",
      "metadata": {
        "id": "view-in-github",
        "colab_type": "text"
      },
      "source": [
        "<a href=\"https://colab.research.google.com/github/Kiron-Ang/DSC/blob/main/web_scraping_schedule_of_classes.ipynb\" target=\"_parent\"><img src=\"https://colab.research.google.com/assets/colab-badge.svg\" alt=\"Open In Colab\"/></a>"
      ]
    },
    {
      "cell_type": "code",
      "execution_count": 9,
      "metadata": {
        "colab": {
          "base_uri": "https://localhost:8080/"
        },
        "id": "PwmabRBjuEaX",
        "outputId": "4a08d428-1131-480b-c85e-750755d513a9"
      },
      "outputs": [
        {
          "output_type": "stream",
          "name": "stdout",
          "text": [
            "Python 3.10.12\n"
          ]
        }
      ],
      "source": [
        "# Check the Python version using the command line\n",
        "!python -V\n",
        "\n",
        "# Importing the 'requests' library to send HTTP requests\n",
        "import requests\n",
        "\n",
        "# Open a file named 'data.csv' in write mode to store the extracted data\n",
        "data = open(\"data.csv\", \"w\")\n",
        "\n",
        "# Write the column headers for the CSV file\n",
        "data.write(\"prefix,course,section,max_enroll,seats_avail,waitlist\\n\")\n",
        "\n",
        "# List of course prefixes to be iterated over (e.g., \"BINF\", \"BME\")\n",
        "prefix_list = [\"BINF\", \"BME\", \"CSI\", \"CSF\", \"DSC\", \"ELC\", \"EGR\", \"ME\"]\n",
        "\n",
        "# Flags to control the extraction of different data points\n",
        "next_is_section = False\n",
        "next_is_max_enroll = False\n",
        "next_is_seats_avail = False\n",
        "\n",
        "# Loop through each course prefix (e.g., BINF, BME)\n",
        "for prefix in prefix_list:\n",
        "  # Construct the URL to request schedule data from Baylor University's website\n",
        "  url = \"https://www1.baylor.edu/scheduleofclasses/Results.aspx?\"\n",
        "  url += f\"Term=202510&College=Z&Prefix={prefix}&StartCN=Z&EndCN=5000&\"\n",
        "  url += \"Status=Z&Days=Z&Instructor=&IsMini=false&OnlineOnly=0&\"\n",
        "  url += \"POTerm=Z&CourseAttr=Z&Sort=SN\"\n",
        "\n",
        "  # Send a GET request to fetch the HTML content of the page\n",
        "  response = requests.get(url)\n",
        "\n",
        "  # Get the HTML text from the response object\n",
        "  html_content = response.text\n",
        "\n",
        "  # Split the HTML content into lines for easier processing\n",
        "  html_content = html_content.splitlines()\n",
        "\n",
        "  # Loop through each line in the HTML content\n",
        "  for line in html_content:\n",
        "\n",
        "    # If the line contains course data (identified by the class 'col-md-2')\n",
        "    if \"col-md-2\" in line:\n",
        "      # Extract the course name by finding text between <strong> tags\n",
        "      start_index = line.find(\"<strong>\") + len(\"<strong>\")\n",
        "      end_index = line.find(\"</strong>\")\n",
        "      prefix_course = line[start_index:end_index].split(\" \")\n",
        "      prefix = prefix_course[0]\n",
        "      course = prefix_course[1]\n",
        "\n",
        "    # If the flag is set to extract section data\n",
        "    if next_is_section:\n",
        "      # Reset the flag and extract the section number\n",
        "      next_is_section = False\n",
        "      start_index = line.find(\"<strong>\") + len(\"<strong>\")\n",
        "      end_index = line.find(\"</strong>\")\n",
        "      section = line[start_index:end_index]\n",
        "\n",
        "    # Check if the line contains the word \"Section:\" to set the flag for the next section\n",
        "    if \"Section:\" in line:\n",
        "      next_is_section = True\n",
        "\n",
        "    # If the flag is set to extract max enrollment data\n",
        "    if next_is_max_enroll:\n",
        "      # Reset the flag and extract the max enrollment number (digits only)\n",
        "      next_is_max_enroll = False\n",
        "      max_enroll = ''.join([char for char in line if char.isdigit()])\n",
        "\n",
        "    # Check if the line contains the word \"Max Enroll:\" to set the flag for the next max enrollment\n",
        "    if \"Max Enroll:\" in line:\n",
        "      next_is_max_enroll = True\n",
        "\n",
        "    # If the flag is set to extract available seats data\n",
        "    if next_is_seats_avail:\n",
        "      # Reset the flag and extract the available seats number (digits only)\n",
        "      next_is_seats_avail = False\n",
        "      seats_avail = ''.join([char for char in line if char.isdigit()])\n",
        "\n",
        "    # Check if the line contains the word \"Seats Avail\" to set the flag for the next seats availability\n",
        "    if \"Seats Avail\" in line:\n",
        "      next_is_seats_avail = True\n",
        "\n",
        "    # If the line contains waitlist information (identified by a specific class)\n",
        "    if \"col-sm-1 column-lg hidden-xs\" in line:\n",
        "      # Extract the waitlist data by finding the text between '>' and '<'\n",
        "      start_index = line.find('>') + 1\n",
        "      end_index = line.find('<', start_index)\n",
        "      waitlist = line[start_index:end_index]\n",
        "\n",
        "      # Write the course data to the CSV file\n",
        "      data.write(f\"{prefix},{course},{section},{max_enroll},{seats_avail},{waitlist}\\n\")\n",
        "\n",
        "# Close the 'data.csv' file after data extraction is complete\n",
        "data.close()"
      ]
    }
  ]
}